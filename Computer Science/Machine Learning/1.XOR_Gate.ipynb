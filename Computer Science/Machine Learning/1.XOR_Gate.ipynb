{
  "nbformat": 4,
  "nbformat_minor": 0,
  "metadata": {
    "colab": {
      "name": "XOR_Gate.ipynb",
      "provenance": [],
      "collapsed_sections": [],
      "authorship_tag": "ABX9TyM2zrw2JB5pcvomMzORyy1S",
      "include_colab_link": true
    },
    "kernelspec": {
      "name": "python3",
      "display_name": "Python 3"
    },
    "language_info": {
      "name": "python"
    }
  },
  "cells": [
    {
      "cell_type": "markdown",
      "metadata": {
        "id": "view-in-github",
        "colab_type": "text"
      },
      "source": [
        "<a href=\"https://colab.research.google.com/github/cow-coding/School-Project/blob/master/Computer%20Science/Machine%20Learning/1.XOR_Gate.ipynb\" target=\"_parent\"><img src=\"https://colab.research.google.com/assets/colab-badge.svg\" alt=\"Open In Colab\"/></a>"
      ]
    },
    {
      "cell_type": "markdown",
      "metadata": {
        "id": "M8HEWmxKacyp"
      },
      "source": [
        "# Library import"
      ]
    },
    {
      "cell_type": "code",
      "metadata": {
        "id": "9iho2KW_aPNE"
      },
      "source": [
        "import numpy as np\n",
        "import torch"
      ],
      "execution_count": null,
      "outputs": []
    },
    {
      "cell_type": "markdown",
      "metadata": {
        "id": "9Thu0OBtbK0g"
      },
      "source": [
        "# Input Setting"
      ]
    },
    {
      "cell_type": "code",
      "metadata": {
        "id": "iFfrAm6uacOW"
      },
      "source": [
        "input = np.array([[0, 0], [0, 1], [1, 0], [1, 1]])"
      ],
      "execution_count": null,
      "outputs": []
    },
    {
      "cell_type": "markdown",
      "metadata": {
        "id": "gMWHlpW0bNhP"
      },
      "source": [
        "# Gate Make"
      ]
    },
    {
      "cell_type": "markdown",
      "metadata": {
        "id": "JrWOpIOcbPfY"
      },
      "source": [
        "## AND Gate"
      ]
    },
    {
      "cell_type": "code",
      "metadata": {
        "id": "P_NlkuIxa5mO"
      },
      "source": [
        "def AND(x):\n",
        "  result = np.empty((len(x), 1), int)\n",
        "\n",
        "  for i in range(len(x)):\n",
        "    if x[i, 0] == 1 and x[i, 1] == 1:\n",
        "      result[i] = 1\n",
        "    else:\n",
        "      result[i] = 0\n",
        "\n",
        "  return result"
      ],
      "execution_count": null,
      "outputs": []
    },
    {
      "cell_type": "code",
      "metadata": {
        "colab": {
          "base_uri": "https://localhost:8080/"
        },
        "id": "46aieM02bzIj",
        "outputId": "6e35567f-3b05-4211-e892-361e8a1817b8"
      },
      "source": [
        "AND(input)"
      ],
      "execution_count": null,
      "outputs": [
        {
          "output_type": "execute_result",
          "data": {
            "text/plain": [
              "array([[0],\n",
              "       [0],\n",
              "       [0],\n",
              "       [1]])"
            ]
          },
          "metadata": {
            "tags": []
          },
          "execution_count": 99
        }
      ]
    },
    {
      "cell_type": "markdown",
      "metadata": {
        "id": "Ek5qAXunexP3"
      },
      "source": [
        "## OR Gate"
      ]
    },
    {
      "cell_type": "code",
      "metadata": {
        "id": "Z7V2jsijc4ch"
      },
      "source": [
        "def OR(x):\n",
        "  result = np.empty((len(x), 1), int)\n",
        "\n",
        "  for i in range(len(x)):\n",
        "    if x[i, 0] == 1 or x[i, 1] == 1:\n",
        "      result[i] = 1\n",
        "    else:\n",
        "      result[i] = 0\n",
        "\n",
        "  return result"
      ],
      "execution_count": null,
      "outputs": []
    },
    {
      "cell_type": "code",
      "metadata": {
        "colab": {
          "base_uri": "https://localhost:8080/"
        },
        "id": "WLHMbwjnfCba",
        "outputId": "d90952cb-bf5f-4c95-a9cd-d174bb4f887b"
      },
      "source": [
        "OR(input)"
      ],
      "execution_count": null,
      "outputs": [
        {
          "output_type": "execute_result",
          "data": {
            "text/plain": [
              "array([[0],\n",
              "       [1],\n",
              "       [1],\n",
              "       [1]])"
            ]
          },
          "metadata": {
            "tags": []
          },
          "execution_count": 101
        }
      ]
    },
    {
      "cell_type": "markdown",
      "metadata": {
        "id": "JscmRlCni8wz"
      },
      "source": [
        "## NAND Gate"
      ]
    },
    {
      "cell_type": "code",
      "metadata": {
        "id": "_2iH5Ge3fDT5"
      },
      "source": [
        "def NAND(x):\n",
        "  result = np.empty((len(x), 1), int)\n",
        "\n",
        "  for i in range(len(x)):\n",
        "    if x[i, 0] == 1 and x[i, 1] == 1:\n",
        "      result[i] = 0\n",
        "    else:\n",
        "      result[i] = 1\n",
        "\n",
        "  return result"
      ],
      "execution_count": null,
      "outputs": []
    },
    {
      "cell_type": "code",
      "metadata": {
        "colab": {
          "base_uri": "https://localhost:8080/"
        },
        "id": "Xby5beL5jBLa",
        "outputId": "bf173aa5-6de5-4610-bfc3-fb9a6bdc3871"
      },
      "source": [
        "NAND(input)"
      ],
      "execution_count": null,
      "outputs": [
        {
          "output_type": "execute_result",
          "data": {
            "text/plain": [
              "array([[1],\n",
              "       [1],\n",
              "       [1],\n",
              "       [0]])"
            ]
          },
          "metadata": {
            "tags": []
          },
          "execution_count": 103
        }
      ]
    },
    {
      "cell_type": "markdown",
      "metadata": {
        "id": "dqFqif3VjDhy"
      },
      "source": [
        "## XOR Gate"
      ]
    },
    {
      "cell_type": "code",
      "metadata": {
        "id": "NpkS1CAjjCd8"
      },
      "source": [
        "def XOR(x):\n",
        "  ret1 = NAND(x)\n",
        "  ret2 = OR(x)\n",
        "  \n",
        "  input2 = np.concatenate([ret1, ret2], axis=1)\n",
        "\n",
        "  y = AND(input2)\n",
        "\n",
        "  return y"
      ],
      "execution_count": null,
      "outputs": []
    },
    {
      "cell_type": "code",
      "metadata": {
        "colab": {
          "base_uri": "https://localhost:8080/"
        },
        "id": "aSE6E6jHjMO2",
        "outputId": "df4e2be9-165a-46d5-c25c-9ebe3a6c914a"
      },
      "source": [
        "XOR(input)"
      ],
      "execution_count": null,
      "outputs": [
        {
          "output_type": "execute_result",
          "data": {
            "text/plain": [
              "array([[0],\n",
              "       [1],\n",
              "       [1],\n",
              "       [0]])"
            ]
          },
          "metadata": {
            "tags": []
          },
          "execution_count": 117
        }
      ]
    }
  ]
}