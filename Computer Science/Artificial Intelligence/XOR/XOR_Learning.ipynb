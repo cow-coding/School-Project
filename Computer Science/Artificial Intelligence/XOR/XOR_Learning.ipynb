{
  "nbformat": 4,
  "nbformat_minor": 0,
  "metadata": {
    "colab": {
      "name": "XOR Learning.ipynb",
      "provenance": [],
      "collapsed_sections": [],
      "include_colab_link": true
    },
    "kernelspec": {
      "name": "python3",
      "display_name": "Python 3"
    },
    "language_info": {
      "name": "python"
    },
    "accelerator": "GPU"
  },
  "cells": [
    {
      "cell_type": "markdown",
      "metadata": {
        "id": "view-in-github",
        "colab_type": "text"
      },
      "source": [
        "<a href=\"https://colab.research.google.com/github/cow-coding/School-Project/blob/master/Computer%20Science/Artificial%20Intelligence/XOR/XOR_Learning.ipynb\" target=\"_parent\"><img src=\"https://colab.research.google.com/assets/colab-badge.svg\" alt=\"Open In Colab\"/></a>"
      ]
    },
    {
      "cell_type": "code",
      "metadata": {
        "id": "i5whQjdjg_Oi"
      },
      "source": [
        "import numpy as np\n",
        "import torch\n",
        "import torch.nn as nn\n",
        "\n",
        "device = 'cuda' if torch.cuda.is_available() else 'cpu'\n",
        "\n",
        "torch.manual_seed(777)\n",
        "if device == 'cuda':\n",
        "    torch.cuda.manual_seed_all(777)"
      ],
      "execution_count": null,
      "outputs": []
    },
    {
      "cell_type": "markdown",
      "metadata": {
        "id": "oDrTK1_NTsg2"
      },
      "source": [
        "# Data setting"
      ]
    },
    {
      "cell_type": "code",
      "metadata": {
        "id": "KvfSYFOxiN9A"
      },
      "source": [
        "input = [[0,0], \n",
        "         [0,1], \n",
        "         [1,0], \n",
        "         [1,1]]\n",
        "         \n",
        "answer = [[0],[1],[1],[0]]"
      ],
      "execution_count": null,
      "outputs": []
    },
    {
      "cell_type": "code",
      "metadata": {
        "id": "ScoY5GiMp9Ln"
      },
      "source": [
        "X = torch.FloatTensor(input).to(device)\n",
        "Y = torch.FloatTensor(answer).to(device)"
      ],
      "execution_count": null,
      "outputs": []
    },
    {
      "cell_type": "markdown",
      "metadata": {
        "id": "7EWRWgSnTuot"
      },
      "source": [
        "# network modeling"
      ]
    },
    {
      "cell_type": "code",
      "metadata": {
        "id": "vePCQTrPqxR8"
      },
      "source": [
        "network = nn.Sequential(\n",
        "    nn.Linear(2, 7, bias=True),   # input : 2, hidden1 : 7\n",
        "    nn.Sigmoid(),\n",
        "    nn.Linear(7, 7, bias=True),   # hidden1: 7, hidden2: 7\n",
        "    nn.Sigmoid(),\n",
        "    nn.Linear(7, 7, bias=True),   # hidden2: 7, hidden3: 7\n",
        "    nn.Sigmoid(),\n",
        "    nn.Linear(7, 1, bias=True),   # hidden3: 7, output: 1\n",
        "    nn.Sigmoid()\n",
        ").to(device)"
      ],
      "execution_count": null,
      "outputs": []
    },
    {
      "cell_type": "code",
      "metadata": {
        "id": "5ROyk-SnrZLQ"
      },
      "source": [
        "criteria =  torch.nn.BCELoss().to(device)\n",
        "optimizer =  torch.optim.SGD(network.parameters(), lr=1)"
      ],
      "execution_count": null,
      "outputs": []
    },
    {
      "cell_type": "markdown",
      "metadata": {
        "id": "1uMiFm5FTwjt"
      },
      "source": [
        "# Training"
      ]
    },
    {
      "cell_type": "code",
      "metadata": {
        "colab": {
          "base_uri": "https://localhost:8080/"
        },
        "id": "6FZi0yoHRsTw",
        "outputId": "0760ce95-c38b-4091-9585-8819338eba51"
      },
      "source": [
        "for epoch in range(10001):\n",
        "  optimizer.zero_grad()                   # gradient initialize\n",
        "\n",
        "  predict = network(X)                    # forward propagation\n",
        "\n",
        "  cost = criteria(predict, Y)             # loss calculate\n",
        "  cost.backward()                         # back propagation\n",
        "  optimizer.step()                        # update the weight parameter\n",
        "\n",
        "  if epoch % 1000 == 0:\n",
        "    print(epoch, \":\", cost.item())        # print loss's scalar value"
      ],
      "execution_count": null,
      "outputs": [
        {
          "output_type": "stream",
          "text": [
            "0 : 0.8394781947135925\n",
            "1000 : 0.6931517124176025\n",
            "2000 : 0.6931471824645996\n",
            "3000 : 0.6931425929069519\n",
            "4000 : 0.6931368112564087\n",
            "5000 : 0.6931273341178894\n",
            "6000 : 0.6931079030036926\n",
            "7000 : 0.6930511593818665\n",
            "8000 : 0.6926710605621338\n",
            "9000 : 0.018526528030633926\n",
            "10000 : 0.001074266154319048\n"
          ],
          "name": "stdout"
        }
      ]
    },
    {
      "cell_type": "markdown",
      "metadata": {
        "id": "vbJ2zVtsTyDo"
      },
      "source": [
        "# Prediction"
      ]
    },
    {
      "cell_type": "code",
      "metadata": {
        "colab": {
          "base_uri": "https://localhost:8080/"
        },
        "id": "jXIsdEwHS23W",
        "outputId": "b5e523d6-a32c-4ce7-abc9-e453fe2c24da"
      },
      "source": [
        "with torch.no_grad():\n",
        "  predict = network(X)\n",
        "  result = (predict > 0.5).float()\n",
        "  accuracy = (result == Y).float().mean()\n",
        "  print('모델의 예측값(Predicted): \\n', result.detach().cpu().numpy())\n",
        "  print('실제값(Y): \\n', Y.cpu().numpy())\n",
        "  print('정확도(Accuracy): ', accuracy.item())"
      ],
      "execution_count": null,
      "outputs": [
        {
          "output_type": "stream",
          "text": [
            "모델의 예측값(Predicted): \n",
            " [[0.]\n",
            " [1.]\n",
            " [1.]\n",
            " [0.]]\n",
            "실제값(Y): \n",
            " [[0.]\n",
            " [1.]\n",
            " [1.]\n",
            " [0.]]\n",
            "정확도(Accuracy):  1.0\n"
          ],
          "name": "stdout"
        }
      ]
    }
  ]
}