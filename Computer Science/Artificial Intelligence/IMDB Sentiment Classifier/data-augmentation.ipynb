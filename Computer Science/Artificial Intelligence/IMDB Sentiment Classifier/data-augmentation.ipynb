{
 "cells": [
  {
   "cell_type": "code",
   "execution_count": 1,
   "id": "polish-organization",
   "metadata": {
    "execution": {
     "iopub.execute_input": "2021-06-13T14:38:39.340679Z",
     "iopub.status.busy": "2021-06-13T14:38:39.340121Z",
     "iopub.status.idle": "2021-06-13T14:38:47.045474Z",
     "shell.execute_reply": "2021-06-13T14:38:47.044920Z",
     "shell.execute_reply.started": "2021-06-13T14:07:28.705774Z"
    },
    "papermill": {
     "duration": 7.736344,
     "end_time": "2021-06-13T14:38:47.045639",
     "exception": false,
     "start_time": "2021-06-13T14:38:39.309295",
     "status": "completed"
    },
    "tags": []
   },
   "outputs": [
    {
     "name": "stdout",
     "output_type": "stream",
     "text": [
      "Collecting nlpaug\r\n",
      "  Downloading nlpaug-1.1.3-py3-none-any.whl (394 kB)\r\n",
      "\u001b[K     |████████████████████████████████| 394 kB 1.2 MB/s \r\n",
      "\u001b[?25hInstalling collected packages: nlpaug\r\n",
      "Successfully installed nlpaug-1.1.3\r\n"
     ]
    }
   ],
   "source": [
    "!pip install nlpaug"
   ]
  },
  {
   "cell_type": "code",
   "execution_count": 2,
   "id": "complicated-glossary",
   "metadata": {
    "execution": {
     "iopub.execute_input": "2021-06-13T14:38:47.094835Z",
     "iopub.status.busy": "2021-06-13T14:38:47.094076Z",
     "iopub.status.idle": "2021-06-13T14:38:53.536877Z",
     "shell.execute_reply": "2021-06-13T14:38:53.536406Z",
     "shell.execute_reply.started": "2021-06-13T14:07:34.368352Z"
    },
    "papermill": {
     "duration": 6.469036,
     "end_time": "2021-06-13T14:38:53.537009",
     "exception": false,
     "start_time": "2021-06-13T14:38:47.067973",
     "status": "completed"
    },
    "tags": []
   },
   "outputs": [
    {
     "name": "stdout",
     "output_type": "stream",
     "text": [
      "Collecting BeautifulSoup4\r\n",
      "  Downloading beautifulsoup4-4.9.3-py3-none-any.whl (115 kB)\r\n",
      "\u001b[K     |████████████████████████████████| 115 kB 1.2 MB/s \r\n",
      "\u001b[?25hCollecting soupsieve>1.2\r\n",
      "  Downloading soupsieve-2.2.1-py3-none-any.whl (33 kB)\r\n",
      "Installing collected packages: soupsieve, BeautifulSoup4\r\n",
      "Successfully installed BeautifulSoup4-4.9.3 soupsieve-2.2.1\r\n"
     ]
    }
   ],
   "source": [
    "!pip install BeautifulSoup4"
   ]
  },
  {
   "cell_type": "code",
   "execution_count": 3,
   "id": "likely-occurrence",
   "metadata": {
    "_cell_guid": "b1076dfc-b9ad-4769-8c92-a6c4dae69d19",
    "_uuid": "8f2839f25d086af736a60e9eeb907d3b93b6e0e5",
    "execution": {
     "iopub.execute_input": "2021-06-13T14:38:53.593060Z",
     "iopub.status.busy": "2021-06-13T14:38:53.590851Z",
     "iopub.status.idle": "2021-06-13T14:38:58.322093Z",
     "shell.execute_reply": "2021-06-13T14:38:58.323056Z",
     "shell.execute_reply.started": "2021-06-13T14:07:39.774581Z"
    },
    "papermill": {
     "duration": 4.76224,
     "end_time": "2021-06-13T14:38:58.323274",
     "exception": false,
     "start_time": "2021-06-13T14:38:53.561034",
     "status": "completed"
    },
    "tags": []
   },
   "outputs": [],
   "source": [
    "import numpy as np # linear algebra\n",
    "import pandas as pd # data processing, CSV file I/O (e.g. pd.read_csv)\n",
    "import nltk\n",
    "from nltk.corpus import stopwords\n",
    "from bs4 import BeautifulSoup as bs\n",
    "import seaborn as sns\n",
    "import re\n",
    "import torch\n",
    "import torch.nn as nn\n",
    "import torchtext\n",
    "from torchtext.data.utils import get_tokenizer\n",
    "from torchtext.vocab import Vocab\n",
    "from collections import Counter\n",
    "import matplotlib as mpl\n",
    "import matplotlib.pyplot as plt\n",
    "from nltk.tokenize import word_tokenize\n",
    "from torch.utils.data import TensorDataset, DataLoader\n",
    "from sklearn.model_selection import train_test_split\n",
    "import nlpaug.augmenter.char as nac\n",
    "import nlpaug.augmenter.word as naw\n",
    "import nlpaug.augmenter.sentence as nas"
   ]
  },
  {
   "cell_type": "code",
   "execution_count": 4,
   "id": "improved-average",
   "metadata": {
    "execution": {
     "iopub.execute_input": "2021-06-13T14:38:58.408017Z",
     "iopub.status.busy": "2021-06-13T14:38:58.407182Z",
     "iopub.status.idle": "2021-06-13T14:38:59.747856Z",
     "shell.execute_reply": "2021-06-13T14:38:59.747327Z",
     "shell.execute_reply.started": "2021-06-13T14:07:39.786453Z"
    },
    "papermill": {
     "duration": 1.385485,
     "end_time": "2021-06-13T14:38:59.747994",
     "exception": false,
     "start_time": "2021-06-13T14:38:58.362509",
     "status": "completed"
    },
    "tags": []
   },
   "outputs": [],
   "source": [
    "train = pd.read_csv('/kaggle/input/cse4302/cse4302_train.tsv', sep='\\t')\n",
    "test = pd.read_csv('/kaggle/input/cse4302/cse4302_test.tsv', sep='\\t')"
   ]
  },
  {
   "cell_type": "code",
   "execution_count": 5,
   "id": "coordinated-austria",
   "metadata": {
    "execution": {
     "iopub.execute_input": "2021-06-13T14:38:59.803292Z",
     "iopub.status.busy": "2021-06-13T14:38:59.802007Z",
     "iopub.status.idle": "2021-06-13T14:38:59.804356Z",
     "shell.execute_reply": "2021-06-13T14:38:59.804778Z",
     "shell.execute_reply.started": "2021-06-13T14:07:40.311221Z"
    },
    "papermill": {
     "duration": 0.031964,
     "end_time": "2021-06-13T14:38:59.804909",
     "exception": false,
     "start_time": "2021-06-13T14:38:59.772945",
     "status": "completed"
    },
    "tags": []
   },
   "outputs": [],
   "source": [
    "def preprocessing(review, remove_stopwords=False):\n",
    "    review_text = bs(review, 'html5lib').get_text()\n",
    "    review_text = re.sub('[^a-zA-Z]', ' ', review_text)\n",
    "    words = review_text.lower().split()\n",
    "    \n",
    "    if remove_stopwords:\n",
    "        stops = set(stopwords.words('english'))\n",
    "        words = [w for w in words if not w in stops]\n",
    "        clean_review = ' '.join(words)\n",
    "    else:\n",
    "        clean_review = ' '.join(words)\n",
    "        \n",
    "    return clean_review"
   ]
  },
  {
   "cell_type": "code",
   "execution_count": 6,
   "id": "powered-technical",
   "metadata": {
    "execution": {
     "iopub.execute_input": "2021-06-13T14:38:59.862744Z",
     "iopub.status.busy": "2021-06-13T14:38:59.862172Z",
     "iopub.status.idle": "2021-06-13T14:39:44.771381Z",
     "shell.execute_reply": "2021-06-13T14:39:44.770457Z",
     "shell.execute_reply.started": "2021-06-13T14:07:40.319373Z"
    },
    "papermill": {
     "duration": 44.943054,
     "end_time": "2021-06-13T14:39:44.771540",
     "exception": false,
     "start_time": "2021-06-13T14:38:59.828486",
     "status": "completed"
    },
    "tags": []
   },
   "outputs": [],
   "source": [
    "clean_train_reviews = []\n",
    "\n",
    "for review in train['review']:\n",
    "    clean_train_reviews.append(preprocessing(review, True))\n",
    "\n",
    "clean_test_reviews = []\n",
    "\n",
    "for review in test['review']:\n",
    "    clean_test_reviews.append(preprocessing(review, True))"
   ]
  },
  {
   "cell_type": "markdown",
   "id": "twelve-laptop",
   "metadata": {
    "papermill": {
     "duration": 0.023651,
     "end_time": "2021-06-13T14:39:44.820583",
     "exception": false,
     "start_time": "2021-06-13T14:39:44.796932",
     "status": "completed"
    },
    "tags": []
   },
   "source": [
    "## Word Augmentation"
   ]
  },
  {
   "cell_type": "code",
   "execution_count": 7,
   "id": "assured-document",
   "metadata": {
    "execution": {
     "iopub.execute_input": "2021-06-13T14:39:44.872240Z",
     "iopub.status.busy": "2021-06-13T14:39:44.871690Z",
     "iopub.status.idle": "2021-06-13T14:41:54.769007Z",
     "shell.execute_reply": "2021-06-13T14:41:54.769428Z",
     "shell.execute_reply.started": "2021-06-13T14:08:24.83804Z"
    },
    "papermill": {
     "duration": 129.925403,
     "end_time": "2021-06-13T14:41:54.769582",
     "exception": false,
     "start_time": "2021-06-13T14:39:44.844179",
     "status": "completed"
    },
    "tags": []
   },
   "outputs": [
    {
     "data": {
      "text/plain": [
       "15000"
      ]
     },
     "execution_count": 7,
     "metadata": {},
     "output_type": "execute_result"
    }
   ],
   "source": [
    "aug = naw.SynonymAug(aug_src='wordnet')\n",
    "augmented_text = aug.augment(clean_train_reviews)\n",
    "len(augmented_text)"
   ]
  },
  {
   "cell_type": "code",
   "execution_count": 8,
   "id": "catholic-start",
   "metadata": {
    "execution": {
     "iopub.execute_input": "2021-06-13T14:41:54.828129Z",
     "iopub.status.busy": "2021-06-13T14:41:54.827375Z",
     "iopub.status.idle": "2021-06-13T14:44:00.340068Z",
     "shell.execute_reply": "2021-06-13T14:44:00.340543Z",
     "shell.execute_reply.started": "2021-06-13T14:10:25.469284Z"
    },
    "papermill": {
     "duration": 125.547062,
     "end_time": "2021-06-13T14:44:00.340727",
     "exception": false,
     "start_time": "2021-06-13T14:41:54.793665",
     "status": "completed"
    },
    "tags": []
   },
   "outputs": [
    {
     "data": {
      "text/plain": [
       "15000"
      ]
     },
     "execution_count": 8,
     "metadata": {},
     "output_type": "execute_result"
    }
   ],
   "source": [
    "augmented_text1 = aug.augment(augmented_text)\n",
    "len(augmented_text1)"
   ]
  },
  {
   "cell_type": "code",
   "execution_count": 9,
   "id": "liquid-manual",
   "metadata": {
    "execution": {
     "iopub.execute_input": "2021-06-13T14:44:00.406129Z",
     "iopub.status.busy": "2021-06-13T14:44:00.405350Z",
     "iopub.status.idle": "2021-06-13T14:48:24.372918Z",
     "shell.execute_reply": "2021-06-13T14:48:24.372411Z",
     "shell.execute_reply.started": "2021-06-13T14:12:30.093606Z"
    },
    "papermill": {
     "duration": 264.004811,
     "end_time": "2021-06-13T14:48:24.373074",
     "exception": false,
     "start_time": "2021-06-13T14:44:00.368263",
     "status": "completed"
    },
    "tags": []
   },
   "outputs": [],
   "source": [
    "augmented_text2 = aug.augment(augmented_text1)\n",
    "augmented_text3 = aug.augment(augmented_text2)"
   ]
  },
  {
   "cell_type": "code",
   "execution_count": 10,
   "id": "exempt-shadow",
   "metadata": {
    "execution": {
     "iopub.execute_input": "2021-06-13T14:48:24.426513Z",
     "iopub.status.busy": "2021-06-13T14:48:24.425814Z",
     "iopub.status.idle": "2021-06-13T14:48:24.428053Z",
     "shell.execute_reply": "2021-06-13T14:48:24.428436Z",
     "shell.execute_reply.started": "2021-06-13T14:16:47.498467Z"
    },
    "papermill": {
     "duration": 0.030713,
     "end_time": "2021-06-13T14:48:24.428573",
     "exception": false,
     "start_time": "2021-06-13T14:48:24.397860",
     "status": "completed"
    },
    "tags": []
   },
   "outputs": [],
   "source": [
    "l = train['sentiment'].tolist()\n",
    "label = train['sentiment'].tolist()"
   ]
  },
  {
   "cell_type": "code",
   "execution_count": 11,
   "id": "committed-monte",
   "metadata": {
    "execution": {
     "iopub.execute_input": "2021-06-13T14:48:24.481542Z",
     "iopub.status.busy": "2021-06-13T14:48:24.480891Z",
     "iopub.status.idle": "2021-06-13T14:48:24.483187Z",
     "shell.execute_reply": "2021-06-13T14:48:24.483540Z",
     "shell.execute_reply.started": "2021-06-13T14:16:47.505549Z"
    },
    "papermill": {
     "duration": 0.031282,
     "end_time": "2021-06-13T14:48:24.483670",
     "exception": false,
     "start_time": "2021-06-13T14:48:24.452388",
     "status": "completed"
    },
    "tags": []
   },
   "outputs": [],
   "source": [
    "clean_train_reviews.extend(augmented_text)\n",
    "clean_train_reviews.extend(augmented_text1)\n",
    "clean_train_reviews.extend(augmented_text2)\n",
    "clean_train_reviews.extend(augmented_text3)"
   ]
  },
  {
   "cell_type": "code",
   "execution_count": 12,
   "id": "interested-ceramic",
   "metadata": {
    "execution": {
     "iopub.execute_input": "2021-06-13T14:48:24.535916Z",
     "iopub.status.busy": "2021-06-13T14:48:24.535261Z",
     "iopub.status.idle": "2021-06-13T14:48:24.537981Z",
     "shell.execute_reply": "2021-06-13T14:48:24.537545Z",
     "shell.execute_reply.started": "2021-06-13T14:16:47.518184Z"
    },
    "papermill": {
     "duration": 0.030454,
     "end_time": "2021-06-13T14:48:24.538077",
     "exception": false,
     "start_time": "2021-06-13T14:48:24.507623",
     "status": "completed"
    },
    "tags": []
   },
   "outputs": [],
   "source": [
    "label.extend(l)\n",
    "label.extend(l)\n",
    "label.extend(l)\n",
    "label.extend(l)"
   ]
  },
  {
   "cell_type": "code",
   "execution_count": 13,
   "id": "timely-miracle",
   "metadata": {
    "execution": {
     "iopub.execute_input": "2021-06-13T14:48:24.599266Z",
     "iopub.status.busy": "2021-06-13T14:48:24.598608Z",
     "iopub.status.idle": "2021-06-13T14:48:24.619145Z",
     "shell.execute_reply": "2021-06-13T14:48:24.618750Z",
     "shell.execute_reply.started": "2021-06-13T14:16:47.533074Z"
    },
    "papermill": {
     "duration": 0.057289,
     "end_time": "2021-06-13T14:48:24.619250",
     "exception": false,
     "start_time": "2021-06-13T14:48:24.561961",
     "status": "completed"
    },
    "tags": []
   },
   "outputs": [],
   "source": [
    "clean_train_df = pd.DataFrame({'review':clean_train_reviews, 'sentiment':label})\n",
    "clean_test_df = pd.DataFrame({'review':clean_test_reviews})"
   ]
  },
  {
   "cell_type": "code",
   "execution_count": 14,
   "id": "negative-berlin",
   "metadata": {
    "execution": {
     "iopub.execute_input": "2021-06-13T14:48:24.671488Z",
     "iopub.status.busy": "2021-06-13T14:48:24.671002Z",
     "iopub.status.idle": "2021-06-13T14:48:29.615535Z",
     "shell.execute_reply": "2021-06-13T14:48:29.614653Z",
     "shell.execute_reply.started": "2021-06-13T14:16:47.571642Z"
    },
    "papermill": {
     "duration": 4.972476,
     "end_time": "2021-06-13T14:48:29.615725",
     "exception": false,
     "start_time": "2021-06-13T14:48:24.643249",
     "status": "completed"
    },
    "tags": []
   },
   "outputs": [],
   "source": [
    "import tensorflow as tf\n",
    "from tensorflow import keras\n",
    "from keras.callbacks import EarlyStopping,ModelCheckpoint\n",
    "from keras.utils import to_categorical\n",
    "from keras.preprocessing.text import Tokenizer\n",
    "from keras.preprocessing.sequence import pad_sequences\n",
    "from keras.layers import Embedding,Conv1D,LSTM,GRU,BatchNormalization,Flatten,Dense"
   ]
  },
  {
   "cell_type": "code",
   "execution_count": 15,
   "id": "alert-profit",
   "metadata": {
    "execution": {
     "iopub.execute_input": "2021-06-13T14:48:29.685417Z",
     "iopub.status.busy": "2021-06-13T14:48:29.684842Z",
     "iopub.status.idle": "2021-06-13T14:48:29.692480Z",
     "shell.execute_reply": "2021-06-13T14:48:29.692092Z",
     "shell.execute_reply.started": "2021-06-13T14:16:52.155943Z"
    },
    "papermill": {
     "duration": 0.050326,
     "end_time": "2021-06-13T14:48:29.692616",
     "exception": false,
     "start_time": "2021-06-13T14:48:29.642290",
     "status": "completed"
    },
    "tags": []
   },
   "outputs": [],
   "source": [
    "clean_train_df['sentiment'] = (clean_train_df['sentiment'] == 'positive').astype(int)"
   ]
  },
  {
   "cell_type": "code",
   "execution_count": 16,
   "id": "tired-cheat",
   "metadata": {
    "execution": {
     "iopub.execute_input": "2021-06-13T14:48:29.745628Z",
     "iopub.status.busy": "2021-06-13T14:48:29.744980Z",
     "iopub.status.idle": "2021-06-13T14:48:29.747710Z",
     "shell.execute_reply": "2021-06-13T14:48:29.747193Z",
     "shell.execute_reply.started": "2021-06-13T14:16:52.184952Z"
    },
    "papermill": {
     "duration": 0.030933,
     "end_time": "2021-06-13T14:48:29.747814",
     "exception": false,
     "start_time": "2021-06-13T14:48:29.716881",
     "status": "completed"
    },
    "tags": []
   },
   "outputs": [],
   "source": [
    "x_train, y_train = clean_train_df['review'], clean_train_df['sentiment']\n",
    "x_test = clean_test_df['review']"
   ]
  },
  {
   "cell_type": "code",
   "execution_count": 17,
   "id": "injured-hayes",
   "metadata": {
    "execution": {
     "iopub.execute_input": "2021-06-13T14:48:29.799751Z",
     "iopub.status.busy": "2021-06-13T14:48:29.798944Z",
     "iopub.status.idle": "2021-06-13T14:48:29.801777Z",
     "shell.execute_reply": "2021-06-13T14:48:29.801304Z",
     "shell.execute_reply.started": "2021-06-13T14:16:52.191559Z"
    },
    "papermill": {
     "duration": 0.029889,
     "end_time": "2021-06-13T14:48:29.801885",
     "exception": false,
     "start_time": "2021-06-13T14:48:29.771996",
     "status": "completed"
    },
    "tags": []
   },
   "outputs": [],
   "source": [
    "num_words=80000\n",
    "embeddings=512"
   ]
  },
  {
   "cell_type": "code",
   "execution_count": 18,
   "id": "acute-cylinder",
   "metadata": {
    "execution": {
     "iopub.execute_input": "2021-06-13T14:48:29.872811Z",
     "iopub.status.busy": "2021-06-13T14:48:29.867647Z",
     "iopub.status.idle": "2021-06-13T14:48:36.648867Z",
     "shell.execute_reply": "2021-06-13T14:48:36.648364Z",
     "shell.execute_reply.started": "2021-06-13T14:16:52.198841Z"
    },
    "papermill": {
     "duration": 6.823068,
     "end_time": "2021-06-13T14:48:36.649011",
     "exception": false,
     "start_time": "2021-06-13T14:48:29.825943",
     "status": "completed"
    },
    "tags": []
   },
   "outputs": [],
   "source": [
    "tokenizer=Tokenizer(num_words=num_words,oov_token='<OOV>')\n",
    "tokenizer.fit_on_texts(x_train)\n",
    "word_index=tokenizer.word_index\n",
    "total_vocab=len(word_index)"
   ]
  },
  {
   "cell_type": "code",
   "execution_count": 19,
   "id": "jewish-consultancy",
   "metadata": {
    "execution": {
     "iopub.execute_input": "2021-06-13T14:48:36.701551Z",
     "iopub.status.busy": "2021-06-13T14:48:36.700960Z",
     "iopub.status.idle": "2021-06-13T14:48:36.704365Z",
     "shell.execute_reply": "2021-06-13T14:48:36.703948Z",
     "shell.execute_reply.started": "2021-06-13T14:16:59.730269Z"
    },
    "papermill": {
     "duration": 0.031156,
     "end_time": "2021-06-13T14:48:36.704466",
     "exception": false,
     "start_time": "2021-06-13T14:48:36.673310",
     "status": "completed"
    },
    "tags": []
   },
   "outputs": [
    {
     "name": "stdout",
     "output_type": "stream",
     "text": [
      "Vocabulary of the dataset is :  69699\n"
     ]
    }
   ],
   "source": [
    "print(\"Vocabulary of the dataset is : \",total_vocab)"
   ]
  },
  {
   "cell_type": "code",
   "execution_count": 20,
   "id": "automated-elite",
   "metadata": {
    "execution": {
     "iopub.execute_input": "2021-06-13T14:48:36.791354Z",
     "iopub.status.busy": "2021-06-13T14:48:36.778494Z",
     "iopub.status.idle": "2021-06-13T14:48:46.863441Z",
     "shell.execute_reply": "2021-06-13T14:48:46.864175Z",
     "shell.execute_reply.started": "2021-06-13T14:16:59.74015Z"
    },
    "papermill": {
     "duration": 10.135509,
     "end_time": "2021-06-13T14:48:46.864394",
     "exception": false,
     "start_time": "2021-06-13T14:48:36.728885",
     "status": "completed"
    },
    "tags": []
   },
   "outputs": [],
   "source": [
    "sequences_train=tokenizer.texts_to_sequences(x_train)\n",
    "sequences_test=tokenizer.texts_to_sequences(x_test)\n",
    "\n",
    "# max_len=max(max([len(x) for x in sequences_train]),max([len(x) for x in sequences_test]))\n",
    "max_len=1000\n",
    "\n",
    "train_padded=pad_sequences(sequences_train,maxlen=max_len)\n",
    "test_padded=pad_sequences(sequences_test,maxlen=max_len)"
   ]
  },
  {
   "cell_type": "code",
   "execution_count": 21,
   "id": "public-preview",
   "metadata": {
    "execution": {
     "iopub.execute_input": "2021-06-13T14:48:46.957109Z",
     "iopub.status.busy": "2021-06-13T14:48:46.955940Z",
     "iopub.status.idle": "2021-06-13T14:48:47.062624Z",
     "shell.execute_reply": "2021-06-13T14:48:47.063320Z",
     "shell.execute_reply.started": "2021-06-13T14:17:10.106291Z"
    },
    "papermill": {
     "duration": 0.158432,
     "end_time": "2021-06-13T14:48:47.063521",
     "exception": false,
     "start_time": "2021-06-13T14:48:46.905089",
     "status": "completed"
    },
    "tags": []
   },
   "outputs": [],
   "source": [
    "X_train,X_val,Y_train,Y_val=train_test_split(train_padded,y_train,\n",
    "                                             test_size=0.05,random_state=10)"
   ]
  },
  {
   "cell_type": "code",
   "execution_count": 22,
   "id": "antique-mobile",
   "metadata": {
    "execution": {
     "iopub.execute_input": "2021-06-13T14:48:47.152616Z",
     "iopub.status.busy": "2021-06-13T14:48:47.151852Z",
     "iopub.status.idle": "2021-06-13T14:48:54.192428Z",
     "shell.execute_reply": "2021-06-13T14:48:54.191535Z",
     "shell.execute_reply.started": "2021-06-13T14:17:10.217893Z"
    },
    "papermill": {
     "duration": 7.087876,
     "end_time": "2021-06-13T14:48:54.192586",
     "exception": false,
     "start_time": "2021-06-13T14:48:47.104710",
     "status": "completed"
    },
    "tags": []
   },
   "outputs": [],
   "source": [
    "model= keras.Sequential()\n",
    "model.add(Embedding(num_words,embeddings,input_length=max_len))\n",
    "model.add(Conv1D(256,10,activation='selu'))\n",
    "model.add(keras.layers.Bidirectional(LSTM(128,return_sequences=True)))\n",
    "model.add(keras.layers.Dropout(0.3))\n",
    "model.add(LSTM(64))\n",
    "model.add(keras.layers.Dropout(0.3))\n",
    "model.add(Dense(2,activation='softmax'))"
   ]
  },
  {
   "cell_type": "code",
   "execution_count": 23,
   "id": "integral-illustration",
   "metadata": {
    "execution": {
     "iopub.execute_input": "2021-06-13T14:48:54.253670Z",
     "iopub.status.busy": "2021-06-13T14:48:54.252844Z",
     "iopub.status.idle": "2021-06-13T14:48:54.265555Z",
     "shell.execute_reply": "2021-06-13T14:48:54.265167Z",
     "shell.execute_reply.started": "2021-06-13T14:17:17.561973Z"
    },
    "papermill": {
     "duration": 0.047176,
     "end_time": "2021-06-13T14:48:54.265678",
     "exception": false,
     "start_time": "2021-06-13T14:48:54.218502",
     "status": "completed"
    },
    "tags": []
   },
   "outputs": [],
   "source": [
    "model.compile(loss='sparse_categorical_crossentropy',\n",
    "              optimizer='adam',\n",
    "              metrics=['accuracy']\n",
    "             )"
   ]
  },
  {
   "cell_type": "code",
   "execution_count": 24,
   "id": "fallen-telephone",
   "metadata": {
    "execution": {
     "iopub.execute_input": "2021-06-13T14:48:54.319366Z",
     "iopub.status.busy": "2021-06-13T14:48:54.318699Z",
     "iopub.status.idle": "2021-06-13T14:48:54.321952Z",
     "shell.execute_reply": "2021-06-13T14:48:54.321488Z",
     "shell.execute_reply.started": "2021-06-13T14:17:17.578303Z"
    },
    "papermill": {
     "duration": 0.031676,
     "end_time": "2021-06-13T14:48:54.322058",
     "exception": false,
     "start_time": "2021-06-13T14:48:54.290382",
     "status": "completed"
    },
    "tags": []
   },
   "outputs": [],
   "source": [
    "es= EarlyStopping(monitor='val_accuracy',\n",
    "                  patience=2\n",
    "                 )\n",
    "\n",
    "checkpoints=ModelCheckpoint(filepath='./',\n",
    "                            monitor=\"val_accuracy\",\n",
    "                            verbose=0,\n",
    "                            save_best_only=True\n",
    "                           )\n",
    "\n",
    "callbacks=[es,checkpoints]"
   ]
  },
  {
   "cell_type": "code",
   "execution_count": 25,
   "id": "hollow-shanghai",
   "metadata": {
    "execution": {
     "iopub.execute_input": "2021-06-13T14:48:54.375229Z",
     "iopub.status.busy": "2021-06-13T14:48:54.374660Z",
     "iopub.status.idle": "2021-06-13T18:40:43.556195Z",
     "shell.execute_reply": "2021-06-13T18:40:43.556950Z",
     "shell.execute_reply.started": "2021-06-13T14:17:17.587889Z"
    },
    "papermill": {
     "duration": 13909.210769,
     "end_time": "2021-06-13T18:40:43.557165",
     "exception": false,
     "start_time": "2021-06-13T14:48:54.346396",
     "status": "completed"
    },
    "tags": []
   },
   "outputs": [
    {
     "name": "stdout",
     "output_type": "stream",
     "text": [
      "Epoch 1/10\n",
      "2227/2227 [==============================] - 1702s 761ms/step - loss: 0.3051 - accuracy: 0.8621 - val_loss: 0.0231 - val_accuracy: 0.9931\n",
      "Epoch 2/10\n",
      "2227/2227 [==============================] - 1711s 768ms/step - loss: 0.0153 - accuracy: 0.9953 - val_loss: 0.0267 - val_accuracy: 0.9901\n",
      "Epoch 3/10\n",
      "2227/2227 [==============================] - 1729s 776ms/step - loss: 0.0114 - accuracy: 0.9960 - val_loss: 0.0115 - val_accuracy: 0.9955\n",
      "Epoch 4/10\n",
      "2227/2227 [==============================] - 1735s 779ms/step - loss: 0.0075 - accuracy: 0.9977 - val_loss: 0.0133 - val_accuracy: 0.9960\n",
      "Epoch 5/10\n",
      "2227/2227 [==============================] - 1748s 785ms/step - loss: 0.0054 - accuracy: 0.9984 - val_loss: 0.0135 - val_accuracy: 0.9955\n",
      "Epoch 6/10\n",
      "2227/2227 [==============================] - 1736s 780ms/step - loss: 0.0029 - accuracy: 0.9992 - val_loss: 0.0167 - val_accuracy: 0.9971\n",
      "Epoch 7/10\n",
      "2227/2227 [==============================] - 1736s 780ms/step - loss: 0.0031 - accuracy: 0.9992 - val_loss: 0.0167 - val_accuracy: 0.9952\n",
      "Epoch 8/10\n",
      "2227/2227 [==============================] - 1742s 782ms/step - loss: 0.0013 - accuracy: 0.9995 - val_loss: 0.0152 - val_accuracy: 0.9960\n"
     ]
    }
   ],
   "source": [
    "history=model.fit(X_train,Y_train,validation_data=(X_val,Y_val),epochs=10,callbacks=callbacks)"
   ]
  },
  {
   "cell_type": "code",
   "execution_count": 26,
   "id": "pleased-ontario",
   "metadata": {
    "execution": {
     "iopub.execute_input": "2021-06-13T18:40:52.801703Z",
     "iopub.status.busy": "2021-06-13T18:40:52.800881Z",
     "iopub.status.idle": "2021-06-13T18:42:07.594136Z",
     "shell.execute_reply": "2021-06-13T18:42:07.593651Z"
    },
    "papermill": {
     "duration": 79.379009,
     "end_time": "2021-06-13T18:42:07.594279",
     "exception": false,
     "start_time": "2021-06-13T18:40:48.215270",
     "status": "completed"
    },
    "tags": []
   },
   "outputs": [],
   "source": [
    "pred = model.predict(test_padded)"
   ]
  },
  {
   "cell_type": "code",
   "execution_count": 27,
   "id": "communist-source",
   "metadata": {
    "execution": {
     "iopub.execute_input": "2021-06-13T18:42:17.159025Z",
     "iopub.status.busy": "2021-06-13T18:42:17.158102Z",
     "iopub.status.idle": "2021-06-13T18:42:17.183476Z",
     "shell.execute_reply": "2021-06-13T18:42:17.184480Z"
    },
    "papermill": {
     "duration": 4.73655,
     "end_time": "2021-06-13T18:42:17.184704",
     "exception": false,
     "start_time": "2021-06-13T18:42:12.448154",
     "status": "completed"
    },
    "tags": []
   },
   "outputs": [],
   "source": [
    "submission = pd.read_csv('/kaggle/input/cse4302/sampleSubmission.csv')"
   ]
  },
  {
   "cell_type": "code",
   "execution_count": 28,
   "id": "municipal-album",
   "metadata": {
    "execution": {
     "iopub.execute_input": "2021-06-13T18:42:26.857196Z",
     "iopub.status.busy": "2021-06-13T18:42:26.856331Z",
     "iopub.status.idle": "2021-06-13T18:42:26.871382Z",
     "shell.execute_reply": "2021-06-13T18:42:26.871861Z"
    },
    "papermill": {
     "duration": 4.640274,
     "end_time": "2021-06-13T18:42:26.872003",
     "exception": false,
     "start_time": "2021-06-13T18:42:22.231729",
     "status": "completed"
    },
    "tags": []
   },
   "outputs": [
    {
     "data": {
      "text/html": [
       "<div>\n",
       "<style scoped>\n",
       "    .dataframe tbody tr th:only-of-type {\n",
       "        vertical-align: middle;\n",
       "    }\n",
       "\n",
       "    .dataframe tbody tr th {\n",
       "        vertical-align: top;\n",
       "    }\n",
       "\n",
       "    .dataframe thead th {\n",
       "        text-align: right;\n",
       "    }\n",
       "</style>\n",
       "<table border=\"1\" class=\"dataframe\">\n",
       "  <thead>\n",
       "    <tr style=\"text-align: right;\">\n",
       "      <th></th>\n",
       "      <th>id</th>\n",
       "      <th>category</th>\n",
       "    </tr>\n",
       "  </thead>\n",
       "  <tbody>\n",
       "    <tr>\n",
       "      <th>0</th>\n",
       "      <td>1</td>\n",
       "      <td>1</td>\n",
       "    </tr>\n",
       "    <tr>\n",
       "      <th>1</th>\n",
       "      <td>2</td>\n",
       "      <td>1</td>\n",
       "    </tr>\n",
       "    <tr>\n",
       "      <th>2</th>\n",
       "      <td>3</td>\n",
       "      <td>1</td>\n",
       "    </tr>\n",
       "    <tr>\n",
       "      <th>3</th>\n",
       "      <td>4</td>\n",
       "      <td>1</td>\n",
       "    </tr>\n",
       "    <tr>\n",
       "      <th>4</th>\n",
       "      <td>5</td>\n",
       "      <td>0</td>\n",
       "    </tr>\n",
       "    <tr>\n",
       "      <th>...</th>\n",
       "      <td>...</td>\n",
       "      <td>...</td>\n",
       "    </tr>\n",
       "    <tr>\n",
       "      <th>34995</th>\n",
       "      <td>34996</td>\n",
       "      <td>1</td>\n",
       "    </tr>\n",
       "    <tr>\n",
       "      <th>34996</th>\n",
       "      <td>34997</td>\n",
       "      <td>1</td>\n",
       "    </tr>\n",
       "    <tr>\n",
       "      <th>34997</th>\n",
       "      <td>34998</td>\n",
       "      <td>1</td>\n",
       "    </tr>\n",
       "    <tr>\n",
       "      <th>34998</th>\n",
       "      <td>34999</td>\n",
       "      <td>0</td>\n",
       "    </tr>\n",
       "    <tr>\n",
       "      <th>34999</th>\n",
       "      <td>35000</td>\n",
       "      <td>1</td>\n",
       "    </tr>\n",
       "  </tbody>\n",
       "</table>\n",
       "<p>35000 rows × 2 columns</p>\n",
       "</div>"
      ],
      "text/plain": [
       "          id  category\n",
       "0          1         1\n",
       "1          2         1\n",
       "2          3         1\n",
       "3          4         1\n",
       "4          5         0\n",
       "...      ...       ...\n",
       "34995  34996         1\n",
       "34996  34997         1\n",
       "34997  34998         1\n",
       "34998  34999         0\n",
       "34999  35000         1\n",
       "\n",
       "[35000 rows x 2 columns]"
      ]
     },
     "execution_count": 28,
     "metadata": {},
     "output_type": "execute_result"
    }
   ],
   "source": [
    "submission['category'] = np.argmax(pred, axis=1)\n",
    "submission"
   ]
  },
  {
   "cell_type": "code",
   "execution_count": 29,
   "id": "aggressive-weekly",
   "metadata": {
    "execution": {
     "iopub.execute_input": "2021-06-13T18:42:36.169911Z",
     "iopub.status.busy": "2021-06-13T18:42:36.168995Z",
     "iopub.status.idle": "2021-06-13T18:42:36.344232Z",
     "shell.execute_reply": "2021-06-13T18:42:36.343744Z"
    },
    "papermill": {
     "duration": 4.916973,
     "end_time": "2021-06-13T18:42:36.344355",
     "exception": false,
     "start_time": "2021-06-13T18:42:31.427382",
     "status": "completed"
    },
    "tags": []
   },
   "outputs": [],
   "source": [
    "submission.to_csv('submission.csv', index=False)"
   ]
  }
 ],
 "metadata": {
  "kernelspec": {
   "display_name": "Python 3",
   "language": "python",
   "name": "python3"
  },
  "language_info": {
   "codemirror_mode": {
    "name": "ipython",
    "version": 3
   },
   "file_extension": ".py",
   "mimetype": "text/x-python",
   "name": "python",
   "nbconvert_exporter": "python",
   "pygments_lexer": "ipython3",
   "version": "3.7.10"
  },
  "papermill": {
   "default_parameters": {},
   "duration": 14651.400752,
   "end_time": "2021-06-13T18:42:44.550141",
   "environment_variables": {},
   "exception": null,
   "input_path": "__notebook__.ipynb",
   "output_path": "__notebook__.ipynb",
   "parameters": {},
   "start_time": "2021-06-13T14:38:33.149389",
   "version": "2.3.3"
  }
 },
 "nbformat": 4,
 "nbformat_minor": 5
}
