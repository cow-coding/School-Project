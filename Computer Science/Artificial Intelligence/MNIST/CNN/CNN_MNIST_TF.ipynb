{
  "nbformat": 4,
  "nbformat_minor": 0,
  "metadata": {
    "colab": {
      "name": "CNN_MNIST_TF",
      "provenance": [],
      "collapsed_sections": [],
      "toc_visible": true,
      "authorship_tag": "ABX9TyPb+NhsxHcfK6EGuesSM7Gj",
      "include_colab_link": true
    },
    "kernelspec": {
      "name": "python3",
      "display_name": "Python 3"
    },
    "language_info": {
      "name": "python"
    },
    "accelerator": "GPU"
  },
  "cells": [
    {
      "cell_type": "markdown",
      "metadata": {
        "id": "view-in-github",
        "colab_type": "text"
      },
      "source": [
        "<a href=\"https://colab.research.google.com/github/cow-coding/School-Project/blob/master/Computer%20Science/Artificial%20Intelligence/MNIST/CNN/CNN_MNIST_TF.ipynb\" target=\"_parent\"><img src=\"https://colab.research.google.com/assets/colab-badge.svg\" alt=\"Open In Colab\"/></a>"
      ]
    },
    {
      "cell_type": "markdown",
      "metadata": {
        "id": "8Lfxd4rvaClO"
      },
      "source": [
        "# Import Library"
      ]
    },
    {
      "cell_type": "code",
      "metadata": {
        "id": "4ysINMhHYthm",
        "colab": {
          "base_uri": "https://localhost:8080/"
        },
        "outputId": "fb4e6920-1717-4aac-d174-fd42113cac13"
      },
      "source": [
        "import tensorflow as tf\n",
        "from keras.layers import Conv2D, Dense, Flatten, MaxPool2D, Dropout\n",
        "from keras import Sequential\n",
        "from keras import optimizers\n",
        "import tensorflow.nn as nn\n",
        "import numpy as np\n",
        "import matplotlib.pyplot as plt\n",
        "\n",
        "device = tf.test.gpu_device_name()\n",
        "\n",
        "if device != '/device:GPU:0':\n",
        "  raise SystemError('GPU device not found')\n",
        "\n",
        "print('Found GPU at: {}'.format(device))"
      ],
      "execution_count": 37,
      "outputs": [
        {
          "output_type": "stream",
          "text": [
            "Found GPU at: /device:GPU:0\n"
          ],
          "name": "stdout"
        }
      ]
    },
    {
      "cell_type": "markdown",
      "metadata": {
        "id": "kLlAYOPVxKO6"
      },
      "source": [
        "# valriable setting"
      ]
    },
    {
      "cell_type": "code",
      "metadata": {
        "id": "2SyOiWaSxQgx"
      },
      "source": [
        "batch_size_train = 64\n",
        "batch_size_val = 64\n",
        "batch_size_test = 1000\n",
        "\n",
        "learning_rate = 0.01"
      ],
      "execution_count": null,
      "outputs": []
    },
    {
      "cell_type": "markdown",
      "metadata": {
        "id": "tqNG2X98hsPL"
      },
      "source": [
        "# Data load & reshaping & normalization"
      ]
    },
    {
      "cell_type": "code",
      "metadata": {
        "id": "LARf-Pc1bgaG",
        "colab": {
          "base_uri": "https://localhost:8080/"
        },
        "outputId": "f9558884-7491-44c4-894b-fb7b8357f53d"
      },
      "source": [
        "mnist_data = tf.keras.datasets.mnist\n",
        "\n",
        "(x_train, y_train), (x_test, y_test) = mnist_data.load_data()\n",
        "\n",
        "x_train = x_train.reshape(len(x_train), 28, 28, 1)\n",
        "x_test = x_test.reshape(len(x_test), 28, 28, 1)\n",
        "\n",
        "x_train, x_test = x_train / 255.0, x_test / 255.0\n",
        "\n",
        "print(len(x_train), len(x_test))"
      ],
      "execution_count": 8,
      "outputs": [
        {
          "output_type": "stream",
          "text": [
            "60000 10000\n"
          ],
          "name": "stdout"
        }
      ]
    },
    {
      "cell_type": "markdown",
      "metadata": {
        "id": "0bweAxZHjbUM"
      },
      "source": [
        "## Data Check"
      ]
    },
    {
      "cell_type": "code",
      "metadata": {
        "colab": {
          "base_uri": "https://localhost:8080/",
          "height": 610
        },
        "id": "awJL5lMnhlzl",
        "outputId": "fc6e1d52-bd66-4970-c63e-16e3ea0d846a"
      },
      "source": [
        "plt.figure(figsize=(10, 10))\n",
        "\n",
        "for c in range(16):\n",
        "  plt.subplot(4, 4, c+1)\n",
        "  plt.imshow(x_train[c].reshape(28, 28), cmap='gray')\n",
        "\n",
        "plt.show()\n",
        "print(y_train[:16])"
      ],
      "execution_count": 10,
      "outputs": [
        {
          "output_type": "display_data",
          "data": {
            "image/png": "[encoded data removed]",
            "text/plain": [
              "<Figure size 720x720 with 16 Axes>"
            ]
          },
          "metadata": {
            "tags": [],
            "needs_background": "light"
          }
        },
        {
          "output_type": "stream",
          "text": [
            "[5 0 4 1 9 2 1 3 1 4 3 5 3 6 1 7]\n"
          ],
          "name": "stdout"
        }
      ]
    },
    {
      "cell_type": "markdown",
      "metadata": {
        "id": "upq-wE-izLPH"
      },
      "source": [
        "# Modeling"
      ]
    },
    {
      "cell_type": "code",
      "metadata": {
        "id": "T2DZKOOQp3bQ",
        "colab": {
          "base_uri": "https://localhost:8080/"
        },
        "outputId": "f0f11839-03c4-4343-811b-48f153c8f799"
      },
      "source": [
        "model = Sequential([\n",
        "    Conv2D(input_shape=(28, 28, 1), kernel_size=3, filters=32),\n",
        "    MaxPool2D(strides=2),\n",
        "    Conv2D(kernel_size=3, filters=64),\n",
        "    MaxPool2D(strides=2),\n",
        "    Conv2D(kernel_size=3, filters=128),\n",
        "\n",
        "    Flatten(),\n",
        "    Dense(128, activation='relu'),\n",
        "    Dropout(0.3),\n",
        "    Dense(10, activation='softmax')\n",
        "])\n",
        "\n",
        "model.compile(optimizer=optimizers.Adam(),\n",
        "              loss='sparse_categorical_crossentropy',\n",
        "              metrics=['accuracy'])\n",
        "\n",
        "model.summary()"
      ],
      "execution_count": 39,
      "outputs": [
        {
          "output_type": "stream",
          "text": [
            "Model: \"sequential_3\"\n",
            "_________________________________________________________________\n",
            "Layer (type)                 Output Shape              Param #   \n",
            "=================================================================\n",
            "conv2d_10 (Conv2D)           (None, 26, 26, 32)        320       \n",
            "_________________________________________________________________\n",
            "max_pooling2d_6 (MaxPooling2 (None, 13, 13, 32)        0         \n",
            "_________________________________________________________________\n",
            "conv2d_11 (Conv2D)           (None, 11, 11, 64)        18496     \n",
            "_________________________________________________________________\n",
            "max_pooling2d_7 (MaxPooling2 (None, 5, 5, 64)          0         \n",
            "_________________________________________________________________\n",
            "conv2d_12 (Conv2D)           (None, 3, 3, 128)         73856     \n",
            "_________________________________________________________________\n",
            "flatten_3 (Flatten)          (None, 1152)              0         \n",
            "_________________________________________________________________\n",
            "dense_6 (Dense)              (None, 128)               147584    \n",
            "_________________________________________________________________\n",
            "dropout (Dropout)            (None, 128)               0         \n",
            "_________________________________________________________________\n",
            "dense_7 (Dense)              (None, 10)                1290      \n",
            "=================================================================\n",
            "Total params: 241,546\n",
            "Trainable params: 241,546\n",
            "Non-trainable params: 0\n",
            "_________________________________________________________________\n"
          ],
          "name": "stdout"
        }
      ]
    },
    {
      "cell_type": "markdown",
      "metadata": {
        "id": "FXDfn_XE2Dko"
      },
      "source": [
        "## Training"
      ]
    },
    {
      "cell_type": "code",
      "metadata": {
        "colab": {
          "base_uri": "https://localhost:8080/"
        },
        "id": "PHZS17UIabng",
        "outputId": "ac0406f8-6649-4494-8f17-b347a68197dd"
      },
      "source": [
        "history = model.fit(x_train, y_train, epochs=10, validation_split=0.25)"
      ],
      "execution_count": 40,
      "outputs": [
        {
          "output_type": "stream",
          "text": [
            "Epoch 1/10\n",
            "1407/1407 [==============================] - 6s 4ms/step - loss: 0.3675 - accuracy: 0.8828 - val_loss: 0.0759 - val_accuracy: 0.9773\n",
            "Epoch 2/10\n",
            "1407/1407 [==============================] - 5s 4ms/step - loss: 0.0782 - accuracy: 0.9754 - val_loss: 0.0752 - val_accuracy: 0.9783\n",
            "Epoch 3/10\n",
            "1407/1407 [==============================] - 5s 3ms/step - loss: 0.0671 - accuracy: 0.9802 - val_loss: 0.0592 - val_accuracy: 0.9838\n",
            "Epoch 4/10\n",
            "1407/1407 [==============================] - 5s 4ms/step - loss: 0.0572 - accuracy: 0.9828 - val_loss: 0.0607 - val_accuracy: 0.9837\n",
            "Epoch 5/10\n",
            "1407/1407 [==============================] - 5s 4ms/step - loss: 0.0551 - accuracy: 0.9825 - val_loss: 0.0611 - val_accuracy: 0.9835\n",
            "Epoch 6/10\n",
            "1407/1407 [==============================] - 5s 4ms/step - loss: 0.0487 - accuracy: 0.9855 - val_loss: 0.0634 - val_accuracy: 0.9844\n",
            "Epoch 7/10\n",
            "1407/1407 [==============================] - 5s 4ms/step - loss: 0.0395 - accuracy: 0.9873 - val_loss: 0.0620 - val_accuracy: 0.9853\n",
            "Epoch 8/10\n",
            "1407/1407 [==============================] - 5s 4ms/step - loss: 0.0419 - accuracy: 0.9876 - val_loss: 0.0593 - val_accuracy: 0.9862\n",
            "Epoch 9/10\n",
            "1407/1407 [==============================] - 5s 4ms/step - loss: 0.0363 - accuracy: 0.9888 - val_loss: 0.0637 - val_accuracy: 0.9851\n",
            "Epoch 10/10\n",
            "1407/1407 [==============================] - 5s 4ms/step - loss: 0.0394 - accuracy: 0.9885 - val_loss: 0.0568 - val_accuracy: 0.9865\n"
          ],
          "name": "stdout"
        }
      ]
    },
    {
      "cell_type": "markdown",
      "metadata": {
        "id": "OG-3a0Q6JKk4"
      },
      "source": [
        "# Evaluation"
      ]
    },
    {
      "cell_type": "code",
      "metadata": {
        "colab": {
          "base_uri": "https://localhost:8080/",
          "height": 283
        },
        "id": "_H1afuB80F6J",
        "outputId": "4459cc15-b0fa-4ff6-8919-8f46e59013b0"
      },
      "source": [
        "plt.figure(figsize=(12,4))\n",
        "\n",
        "plt.subplot(1, 2, 1)\n",
        "plt.plot(history.history['loss'], 'b-', label='loss')\n",
        "plt.plot(history.history['val_loss'], 'r--', label='val_loss')\n",
        "plt.xlabel('Epoch')\n",
        "plt.legend()\n",
        "\n",
        "plt.subplot(1, 2, 2)\n",
        "plt.plot(history.history['accuracy'], 'g-', label='accuracy')\n",
        "plt.plot(history.history['val_accuracy'], 'k--', label='val_accuracy')\n",
        "plt.xlabel('Epoch')\n",
        "plt.ylim(0.7, 1)\n",
        "plt.legend()\n",
        "\n",
        "plt.show()"
      ],
      "execution_count": 41,
      "outputs": [
        {
          "output_type": "display_data",
          "data": {
            "image/png": "[encoded data removed]",
            "text/plain": [
              "<Figure size 864x288 with 2 Axes>"
            ]
          },
          "metadata": {
            "tags": [],
            "needs_background": "light"
          }
        }
      ]
    },
    {
      "cell_type": "code",
      "metadata": {
        "colab": {
          "base_uri": "https://localhost:8080/"
        },
        "id": "L4zUALgc1Gw0",
        "outputId": "1f745aab-259e-4190-98f9-ad915688a5c8"
      },
      "source": [
        "eval = model.evaluate(x_test, y_test)\n",
        "\n",
        "print(\"Accuracy : %0.4f\" %eval[1])"
      ],
      "execution_count": 42,
      "outputs": [
        {
          "output_type": "stream",
          "text": [
            "313/313 [==============================] - 1s 2ms/step - loss: 0.0459 - accuracy: 0.9890\n",
            "Accuracy : 0.9890\n"
          ],
          "name": "stdout"
        }
      ]
    }
  ]
}