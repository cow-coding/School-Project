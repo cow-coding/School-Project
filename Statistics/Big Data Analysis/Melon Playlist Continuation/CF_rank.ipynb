{
 "cells": [
  {
   "cell_type": "code",
   "execution_count": 71,
   "metadata": {},
   "outputs": [],
   "source": [
    "import os\n",
    "import pandas as pd\n",
    "import numpy as np\n",
    "\n",
    "import json\n",
    "import distutils.dir_util\n",
    "import io\n",
    "\n",
    "from tqdm.notebook import tqdm"
   ]
  },
  {
   "cell_type": "code",
   "execution_count": 2,
   "metadata": {},
   "outputs": [],
   "source": [
    "path = '../../data/'\n",
    "tqdm.pandas()"
   ]
  },
  {
   "cell_type": "code",
   "execution_count": 3,
   "metadata": {},
   "outputs": [
    {
     "name": "stdout",
     "output_type": "stream",
     "text": [
      "All data in path\n",
      "['train.json', 'test.json', 'onehot_matrix.csv', 'new_date', 'genre_all.json', 'song_meta.json', '.ipynb_checkpoints', 'genre_gn_all.json', 'val.json', 'train_genre_count.csv']\n"
     ]
    }
   ],
   "source": [
    "print(\"All data in path\")\n",
    "print(os.listdir(path))"
   ]
  },
  {
   "cell_type": "code",
   "execution_count": 28,
   "metadata": {},
   "outputs": [],
   "source": [
    "song_meta = pd.read_json(path+'song_meta.json')\n",
    "train = pd.read_json(path+'train.json')\n",
    "val = pd.read_json(path+'val.json')"
   ]
  },
  {
   "cell_type": "code",
   "execution_count": 29,
   "metadata": {},
   "outputs": [],
   "source": [
    "from collections import Counter\n",
    "from scipy.sparse import csr_matrix"
   ]
  },
  {
   "cell_type": "code",
   "execution_count": 30,
   "metadata": {},
   "outputs": [],
   "source": [
    "train['istrain'] = 1\n",
    "val['istrain'] = 0\n",
    "\n",
    "n_train = len(train)\n",
    "n_val = len(val)\n",
    "\n",
    "playlist = pd.concat([train, val], ignore_index=True)\n",
    "playlist['nid'] = range(n_train+n_val)\n",
    "\n",
    "id_to_nid = dict(zip(playlist['id'], playlist['nid']))\n",
    "nid_to_id = dict(zip(playlist['nid'], playlist['id']))"
   ]
  },
  {
   "cell_type": "code",
   "execution_count": 31,
   "metadata": {},
   "outputs": [],
   "source": [
    "song_in_data = [song for songs in playlist['songs'] for song in songs]\n",
    "song_counter = dict(Counter(song_in_data))\n",
    "\n",
    "song_to_sid = dict()\n",
    "sid_to_song = dict()\n",
    "\n",
    "for i, s in enumerate(song_counter):\n",
    "    song_to_sid[s] = i\n",
    "    sid_to_song[i] = s\n",
    "\n",
    "song_list = list(set(song_in_data))\n",
    "\n",
    "\n",
    "tag_in_data = [tag for tags in playlist['tags'] for tag in tags]\n",
    "tag_counter = dict(Counter(tag_in_data))\n",
    "\n",
    "tag_to_tid = dict()\n",
    "tid_to_tag = dict()\n",
    "\n",
    "for i, t in enumerate(tag_counter):\n",
    "    tag_to_tid[t] = i\n",
    "    tid_to_tag[i] = t\n",
    "\n",
    "tag_list = list(set(tag_in_data))"
   ]
  },
  {
   "cell_type": "code",
   "execution_count": 32,
   "metadata": {},
   "outputs": [],
   "source": [
    "playlist['sid_list'] = playlist['songs'].map(lambda x: [song_to_sid[s] for s in x])\n",
    "playlist['tid_list'] = playlist['tags'].map(lambda x: [tag_to_tid[t] for t in x])"
   ]
  },
  {
   "cell_type": "code",
   "execution_count": 33,
   "metadata": {},
   "outputs": [
    {
     "data": {
      "application/vnd.jupyter.widget-view+json": {
       "model_id": "0e3a36f97523459b8ae628f1ba18591e",
       "version_major": 2,
       "version_minor": 0
      },
      "text/plain": [
       "  0%|          | 0/138086 [00:00<?, ?it/s]"
      ]
     },
     "metadata": {},
     "output_type": "display_data"
    }
   ],
   "source": [
    "playlist['song_ranks'] = playlist['sid_list'].progress_apply(lambda x: [1/i for i in range(1, len(x)+1)])"
   ]
  },
  {
   "cell_type": "code",
   "execution_count": 34,
   "metadata": {},
   "outputs": [
    {
     "data": {
      "text/html": [
       "<div>\n",
       "<style scoped>\n",
       "    .dataframe tbody tr th:only-of-type {\n",
       "        vertical-align: middle;\n",
       "    }\n",
       "\n",
       "    .dataframe tbody tr th {\n",
       "        vertical-align: top;\n",
       "    }\n",
       "\n",
       "    .dataframe thead th {\n",
       "        text-align: right;\n",
       "    }\n",
       "</style>\n",
       "<table border=\"1\" class=\"dataframe\">\n",
       "  <thead>\n",
       "    <tr style=\"text-align: right;\">\n",
       "      <th></th>\n",
       "      <th>tags</th>\n",
       "      <th>id</th>\n",
       "      <th>plylst_title</th>\n",
       "      <th>songs</th>\n",
       "      <th>like_cnt</th>\n",
       "      <th>updt_date</th>\n",
       "      <th>istrain</th>\n",
       "      <th>nid</th>\n",
       "      <th>sid_list</th>\n",
       "      <th>tid_list</th>\n",
       "      <th>song_ranks</th>\n",
       "    </tr>\n",
       "  </thead>\n",
       "  <tbody>\n",
       "    <tr>\n",
       "      <th>0</th>\n",
       "      <td>[락]</td>\n",
       "      <td>61281</td>\n",
       "      <td>여행같은 음악</td>\n",
       "      <td>[525514, 129701, 383374, 562083, 297861, 13954...</td>\n",
       "      <td>71</td>\n",
       "      <td>2013-12-19 18:36:19.000</td>\n",
       "      <td>1</td>\n",
       "      <td>0</td>\n",
       "      <td>[0, 1, 2, 3, 4, 5, 6, 7, 8, 9, 10, 11, 12, 13,...</td>\n",
       "      <td>[0]</td>\n",
       "      <td>[1.0, 0.5, 0.3333333333333333, 0.25, 0.2, 0.16...</td>\n",
       "    </tr>\n",
       "    <tr>\n",
       "      <th>1</th>\n",
       "      <td>[추억, 회상]</td>\n",
       "      <td>10532</td>\n",
       "      <td>요즘 너 말야</td>\n",
       "      <td>[432406, 675945, 497066, 120377, 389529, 24427...</td>\n",
       "      <td>1</td>\n",
       "      <td>2014-12-02 16:19:42.000</td>\n",
       "      <td>1</td>\n",
       "      <td>1</td>\n",
       "      <td>[19, 20, 21, 22, 23, 24, 25, 26, 27, 28, 29, 3...</td>\n",
       "      <td>[1, 2]</td>\n",
       "      <td>[1.0, 0.5, 0.3333333333333333, 0.25, 0.2, 0.16...</td>\n",
       "    </tr>\n",
       "    <tr>\n",
       "      <th>2</th>\n",
       "      <td>[까페, 잔잔한]</td>\n",
       "      <td>76951</td>\n",
       "      <td>편하게, 잔잔하게 들을 수 있는 곡.-</td>\n",
       "      <td>[83116, 276692, 166267, 186301, 354465, 256598...</td>\n",
       "      <td>17</td>\n",
       "      <td>2017-08-28 07:09:34.000</td>\n",
       "      <td>1</td>\n",
       "      <td>2</td>\n",
       "      <td>[61, 62, 63, 64, 65, 66, 67, 68, 69, 70, 71, 7...</td>\n",
       "      <td>[3, 4]</td>\n",
       "      <td>[1.0, 0.5, 0.3333333333333333, 0.25, 0.2, 0.16...</td>\n",
       "    </tr>\n",
       "    <tr>\n",
       "      <th>3</th>\n",
       "      <td>[연말, 눈오는날, 캐럴, 분위기, 따듯한, 크리스마스캐럴, 겨울노래, 크리스마스,...</td>\n",
       "      <td>147456</td>\n",
       "      <td>크리스마스 분위기에 흠뻑 취하고 싶을때</td>\n",
       "      <td>[394031, 195524, 540149, 287984, 440773, 10033...</td>\n",
       "      <td>33</td>\n",
       "      <td>2019-12-05 15:15:18.000</td>\n",
       "      <td>1</td>\n",
       "      <td>3</td>\n",
       "      <td>[89, 90, 91, 92, 93, 94, 95, 96, 97, 98, 99, 1...</td>\n",
       "      <td>[5, 6, 7, 8, 9, 10, 11, 12, 13, 14]</td>\n",
       "      <td>[1.0, 0.5, 0.3333333333333333, 0.25, 0.2, 0.16...</td>\n",
       "    </tr>\n",
       "    <tr>\n",
       "      <th>4</th>\n",
       "      <td>[댄스]</td>\n",
       "      <td>27616</td>\n",
       "      <td>추억의 노래 ㅋ</td>\n",
       "      <td>[159327, 553610, 5130, 645103, 294435, 100657,...</td>\n",
       "      <td>9</td>\n",
       "      <td>2011-10-25 13:54:56.000</td>\n",
       "      <td>1</td>\n",
       "      <td>4</td>\n",
       "      <td>[127, 128, 129, 130, 131, 132, 133, 134, 135, ...</td>\n",
       "      <td>[15]</td>\n",
       "      <td>[1.0, 0.5, 0.3333333333333333, 0.25, 0.2, 0.16...</td>\n",
       "    </tr>\n",
       "  </tbody>\n",
       "</table>\n",
       "</div>"
      ],
      "text/plain": [
       "                                                tags      id  \\\n",
       "0                                                [락]   61281   \n",
       "1                                           [추억, 회상]   10532   \n",
       "2                                          [까페, 잔잔한]   76951   \n",
       "3  [연말, 눈오는날, 캐럴, 분위기, 따듯한, 크리스마스캐럴, 겨울노래, 크리스마스,...  147456   \n",
       "4                                               [댄스]   27616   \n",
       "\n",
       "            plylst_title                                              songs  \\\n",
       "0                여행같은 음악  [525514, 129701, 383374, 562083, 297861, 13954...   \n",
       "1                요즘 너 말야  [432406, 675945, 497066, 120377, 389529, 24427...   \n",
       "2  편하게, 잔잔하게 들을 수 있는 곡.-  [83116, 276692, 166267, 186301, 354465, 256598...   \n",
       "3  크리스마스 분위기에 흠뻑 취하고 싶을때  [394031, 195524, 540149, 287984, 440773, 10033...   \n",
       "4               추억의 노래 ㅋ  [159327, 553610, 5130, 645103, 294435, 100657,...   \n",
       "\n",
       "   like_cnt                updt_date  istrain  nid  \\\n",
       "0        71  2013-12-19 18:36:19.000        1    0   \n",
       "1         1  2014-12-02 16:19:42.000        1    1   \n",
       "2        17  2017-08-28 07:09:34.000        1    2   \n",
       "3        33  2019-12-05 15:15:18.000        1    3   \n",
       "4         9  2011-10-25 13:54:56.000        1    4   \n",
       "\n",
       "                                            sid_list  \\\n",
       "0  [0, 1, 2, 3, 4, 5, 6, 7, 8, 9, 10, 11, 12, 13,...   \n",
       "1  [19, 20, 21, 22, 23, 24, 25, 26, 27, 28, 29, 3...   \n",
       "2  [61, 62, 63, 64, 65, 66, 67, 68, 69, 70, 71, 7...   \n",
       "3  [89, 90, 91, 92, 93, 94, 95, 96, 97, 98, 99, 1...   \n",
       "4  [127, 128, 129, 130, 131, 132, 133, 134, 135, ...   \n",
       "\n",
       "                              tid_list  \\\n",
       "0                                  [0]   \n",
       "1                               [1, 2]   \n",
       "2                               [3, 4]   \n",
       "3  [5, 6, 7, 8, 9, 10, 11, 12, 13, 14]   \n",
       "4                                 [15]   \n",
       "\n",
       "                                          song_ranks  \n",
       "0  [1.0, 0.5, 0.3333333333333333, 0.25, 0.2, 0.16...  \n",
       "1  [1.0, 0.5, 0.3333333333333333, 0.25, 0.2, 0.16...  \n",
       "2  [1.0, 0.5, 0.3333333333333333, 0.25, 0.2, 0.16...  \n",
       "3  [1.0, 0.5, 0.3333333333333333, 0.25, 0.2, 0.16...  \n",
       "4  [1.0, 0.5, 0.3333333333333333, 0.25, 0.2, 0.16...  "
      ]
     },
     "execution_count": 34,
     "metadata": {},
     "output_type": "execute_result"
    }
   ],
   "source": [
    "playlist.head()"
   ]
  },
  {
   "cell_type": "code",
   "execution_count": 39,
   "metadata": {},
   "outputs": [],
   "source": [
    "playlist_use = playlist[['nid', 'istrain', 'sid_list', 'tid_list', 'song_ranks']]\n",
    "playlist_use = playlist_use.set_index('nid')\n",
    "playlist_use['num_songs'] = playlist_use['sid_list'].map(len)\n",
    "playlist_use['num_tags'] = playlist_use['tid_list'].map(len)"
   ]
  },
  {
   "cell_type": "code",
   "execution_count": 41,
   "metadata": {},
   "outputs": [],
   "source": [
    "playlist_train = playlist_use.iloc[:n_train, :]\n",
    "playlist_test = playlist_use.iloc[n_train:, :]"
   ]
  },
  {
   "cell_type": "markdown",
   "metadata": {},
   "source": [
    "# Making Sparse Matrix"
   ]
  },
  {
   "cell_type": "code",
   "execution_count": 43,
   "metadata": {},
   "outputs": [],
   "source": [
    "n_songs = len(song_counter)\n",
    "n_tags = len(tag_counter)"
   ]
  },
  {
   "cell_type": "code",
   "execution_count": 49,
   "metadata": {},
   "outputs": [
    {
     "data": {
      "text/plain": [
       "5285871"
      ]
     },
     "execution_count": 49,
     "metadata": {},
     "output_type": "execute_result"
    }
   ],
   "source": [
    "dat = np.array([dat for ranks in playlist_train['song_ranks'].tolist() for dat in ranks])\n",
    "len(dat)"
   ]
  },
  {
   "cell_type": "code",
   "execution_count": 50,
   "metadata": {},
   "outputs": [],
   "source": [
    "def make_sparse(data):\n",
    "    row = np.repeat(range(n_train), data['num_songs'])\n",
    "    col = [sid for songs in data['sid_list'] for sid in songs]\n",
    "    # per (0, 1) --> 0번 playlist는 1번 노래를 1/순위 로 가짐\n",
    "    dat = np.array([dat for ranks in playlist_train['song_ranks'].tolist() for dat in ranks])\n",
    "    songs_sparse = csr_matrix((dat, (row, col)), shape=(n_train, n_songs))\n",
    "    \n",
    "    row = np.repeat(range(n_train), data['num_tags'])\n",
    "    col = [tid for tags in data['tid_list'] for tid in tags]\n",
    "    dat = np.repeat(1, data['num_tags'].sum())\n",
    "    tags_sparse = csr_matrix((dat, (row, col)), shape=(n_train, n_tags))\n",
    "    \n",
    "    return songs_sparse, tags_sparse"
   ]
  },
  {
   "cell_type": "code",
   "execution_count": 51,
   "metadata": {},
   "outputs": [],
   "source": [
    "song_sparse, tag_sparse = make_sparse(playlist_train)"
   ]
  },
  {
   "cell_type": "code",
   "execution_count": 56,
   "metadata": {},
   "outputs": [],
   "source": [
    "song_sparse_T, tag_sparse_T = song_sparse.T.tocsr(), tag_sparse.T.tocsr()"
   ]
  },
  {
   "cell_type": "code",
   "execution_count": 54,
   "metadata": {},
   "outputs": [],
   "source": [
    "song_counter_df = pd.DataFrame(columns=['song', 'count'])\n",
    "song_counter_df['song'] = song_counter.keys()\n",
    "song_counter_df['count'] = song_counter.values()\n",
    "song_counter_df = song_counter_df.sort_values('count', ascending=False, ignore_index=True)"
   ]
  },
  {
   "cell_type": "code",
   "execution_count": 55,
   "metadata": {},
   "outputs": [],
   "source": [
    "tag_counter_df = pd.DataFrame(columns=['tag', 'count'])\n",
    "tag_counter_df['tag'] = tag_counter.keys()\n",
    "tag_counter_df['count'] = tag_counter.values()\n",
    "tag_counter_df = tag_counter_df.sort_values('count', ascending=False, ignore_index=True)"
   ]
  },
  {
   "cell_type": "code",
   "execution_count": 88,
   "metadata": {},
   "outputs": [
    {
     "data": {
      "application/vnd.jupyter.widget-view+json": {
       "model_id": "5326ececa41a49f8af3cae4392386637",
       "version_major": 2,
       "version_minor": 0
      },
      "text/plain": [
       "  0%|          | 0/115071 [00:00<?, ?it/s]"
      ]
     },
     "metadata": {},
     "output_type": "display_data"
    },
    {
     "name": "stderr",
     "output_type": "stream",
     "text": [
      "/tmp/ipykernel_42908/2095360271.py:1: SettingWithCopyWarning: \n",
      "A value is trying to be set on a copy of a slice from a DataFrame.\n",
      "Try using .loc[row_indexer,col_indexer] = value instead\n",
      "\n",
      "See the caveats in the documentation: https://pandas.pydata.org/pandas-docs/stable/user_guide/indexing.html#returning-a-view-versus-a-copy\n",
      "  playlist_train['inverse_rank'] = playlist_train['sid_list'].progress_apply(lambda x: [i for i in reversed(range(1, len(x)+1))])\n"
     ]
    }
   ],
   "source": [
    "playlist_train['inverse_rank'] = playlist_train['sid_list'].progress_apply(lambda x: [i for i in reversed(range(1, len(x)+1))])\n",
    "\n",
    "def make_sparse1(data):\n",
    "    row = np.repeat(range(n_train), data['num_songs'])\n",
    "    col = [sid for songs in data['sid_list'] for sid in songs]\n",
    "    # per (0, 1) --> 0번 playlist는 1번 노래를 1/순위 로 가짐\n",
    "    dat = np.array([dat for ranks in playlist_train['inverse_rank'].tolist() for dat in ranks])\n",
    "    songs_sparse = csr_matrix((dat, (row, col)), shape=(n_train, n_songs))\n",
    "    \n",
    "    row = np.repeat(range(n_train), data['num_tags'])\n",
    "    col = [tid for tags in data['tid_list'] for tid in tags]\n",
    "    dat = np.repeat(1, data['num_tags'].sum())\n",
    "    tags_sparse = csr_matrix((dat, (row, col)), shape=(n_train, n_tags))\n",
    "    \n",
    "    return songs_sparse, tags_sparse"
   ]
  },
  {
   "cell_type": "code",
   "execution_count": 90,
   "metadata": {},
   "outputs": [],
   "source": [
    "song_sparse, tag_sparse = make_sparse1(playlist_train)\n",
    "song_sparse_T, tag_sparse_T = song_sparse.T.tocsr(), tag_sparse.T.tocsr()"
   ]
  },
  {
   "cell_type": "code",
   "execution_count": 92,
   "metadata": {},
   "outputs": [],
   "source": [
    "def recoms(nids):\n",
    "    ret = []\n",
    "    count = 1\n",
    "    default_songs = list(song_counter_df[:100]['song'].values)\n",
    "    default_tags = list(tag_counter_df[:10]['tag'].values)\n",
    "    \n",
    "    for nid in tqdm(nids):\n",
    "        rec_songs_idx = []\n",
    "        rec_tags_idx = []\n",
    "        songs_exist = playlist_test.loc[nid, 'sid_list']\n",
    "        tags_exist = playlist_test.loc[nid, 'tid_list']\n",
    "        \n",
    "        if len(songs_exist) == 0:\n",
    "            rec_songs_idx = default_songs\n",
    "        else:\n",
    "            onehot = np.zeros(n_songs)\n",
    "            onehot[songs_exist] = 1\n",
    "        \n",
    "            inter_songs_count = song_sparse.dot(onehot).reshape(-1)\n",
    "            cand_songs = song_sparse_T.dot(inter_songs_count)\n",
    "            cand_songs_idx = cand_songs.reshape(-1).argsort()[-200:][::-1]\n",
    "            cand_songs_idx = cand_songs_idx[np.isin(cand_songs_idx, songs_exist) == False][:100]\n",
    "            \n",
    "            rec_songs_idx = [sid_to_song[sid] for sid in cand_songs_idx]\n",
    "        \n",
    "        if len(tags_exist) == 0:\n",
    "            rec_tags_idx = default_tags\n",
    "        else:\n",
    "            onehot = np.zeros(n_tags)\n",
    "            onehot[tags_exist] = 1\n",
    "            \n",
    "            inter_tag_count = tag_sparse.dot(onehot).reshape(-1)\n",
    "            cand_tags = tag_sparse_T.dot(inter_tag_count)\n",
    "            cand_tags_idx = cand_tags.reshape(-1).argsort()[-20:][::-1]\n",
    "            cand_tags_idx = cand_tags_idx[np.isin(cand_tags_idx, tags_exist) == False][:10]\n",
    "            \n",
    "            rec_tags_idx = [tid_to_tag[tid] for tid in cand_tags_idx]\n",
    "            \n",
    "        ret.append({\n",
    "            \"id\":nid_to_id[nid],\n",
    "            \"songs\":rec_songs_idx,\n",
    "            \"tags\":rec_tags_idx\n",
    "        })\n",
    "        \n",
    "        \n",
    "        \n",
    "    return ret"
   ]
  },
  {
   "cell_type": "code",
   "execution_count": 93,
   "metadata": {
    "scrolled": true
   },
   "outputs": [
    {
     "data": {
      "application/vnd.jupyter.widget-view+json": {
       "model_id": "b71858b2ce764ce0b0f481eb8621ef06",
       "version_major": 2,
       "version_minor": 0
      },
      "text/plain": [
       "  0%|          | 0/23015 [00:00<?, ?it/s]"
      ]
     },
     "metadata": {},
     "output_type": "display_data"
    }
   ],
   "source": [
    "answer = recoms(playlist_test.index)"
   ]
  },
  {
   "cell_type": "code",
   "execution_count": 94,
   "metadata": {},
   "outputs": [],
   "source": [
    "def write_json(data, fname):\n",
    "    def _conv(o):\n",
    "        if isinstance(o, np.int64) or isinstance(o, np.int32):\n",
    "            return int(o)\n",
    "        raise TypeError\n",
    "\n",
    "    parent = os.path.dirname(fname)\n",
    "    distutils.dir_util.mkpath(\"./arena_data/\" + parent)\n",
    "    with io.open(\"./arena_data/\" + fname, \"w\", encoding=\"utf8\") as f:\n",
    "        json_str = json.dumps(data, ensure_ascii=False, default=_conv)\n",
    "        f.write(json_str)\n",
    "        print('file save seuccess')"
   ]
  },
  {
   "cell_type": "code",
   "execution_count": 95,
   "metadata": {},
   "outputs": [
    {
     "name": "stdout",
     "output_type": "stream",
     "text": [
      "file save seuccess\n"
     ]
    }
   ],
   "source": [
    "write_json(answer, \"own_result/cf/results_rank.json\")"
   ]
  },
  {
   "cell_type": "code",
   "execution_count": 96,
   "metadata": {},
   "outputs": [],
   "source": [
    "test = pd.read_json(path+'test.json')"
   ]
  },
  {
   "cell_type": "code",
   "execution_count": 97,
   "metadata": {},
   "outputs": [
    {
     "data": {
      "text/html": [
       "<div>\n",
       "<style scoped>\n",
       "    .dataframe tbody tr th:only-of-type {\n",
       "        vertical-align: middle;\n",
       "    }\n",
       "\n",
       "    .dataframe tbody tr th {\n",
       "        vertical-align: top;\n",
       "    }\n",
       "\n",
       "    .dataframe thead th {\n",
       "        text-align: right;\n",
       "    }\n",
       "</style>\n",
       "<table border=\"1\" class=\"dataframe\">\n",
       "  <thead>\n",
       "    <tr style=\"text-align: right;\">\n",
       "      <th></th>\n",
       "      <th>tags</th>\n",
       "      <th>id</th>\n",
       "      <th>plylst_title</th>\n",
       "      <th>songs</th>\n",
       "      <th>like_cnt</th>\n",
       "      <th>updt_date</th>\n",
       "    </tr>\n",
       "  </thead>\n",
       "  <tbody>\n",
       "    <tr>\n",
       "      <th>0</th>\n",
       "      <td>[]</td>\n",
       "      <td>70107</td>\n",
       "      <td></td>\n",
       "      <td>[398985, 449403, 411543, 528044, 143048, 98020...</td>\n",
       "      <td>6</td>\n",
       "      <td>2012-09-29 01:57:26.000</td>\n",
       "    </tr>\n",
       "    <tr>\n",
       "      <th>1</th>\n",
       "      <td>[나만의Best3, 인디아티스트들의추천음악]</td>\n",
       "      <td>7461</td>\n",
       "      <td></td>\n",
       "      <td>[196298, 269984, 267805, 175867, 529244, 63825...</td>\n",
       "      <td>0</td>\n",
       "      <td>2019-12-17 14:06:45.000</td>\n",
       "    </tr>\n",
       "    <tr>\n",
       "      <th>2</th>\n",
       "      <td>[드라이브]</td>\n",
       "      <td>90348</td>\n",
       "      <td></td>\n",
       "      <td>[273433, 331003, 68432, 411659, 117793, 616860...</td>\n",
       "      <td>21</td>\n",
       "      <td>2015-05-23 10:44:48.000</td>\n",
       "    </tr>\n",
       "    <tr>\n",
       "      <th>3</th>\n",
       "      <td>[분위기]</td>\n",
       "      <td>58617</td>\n",
       "      <td></td>\n",
       "      <td>[702227, 48152, 440008, 358488, 701041, 540721...</td>\n",
       "      <td>0</td>\n",
       "      <td>2019-03-14 09:47:34.000</td>\n",
       "    </tr>\n",
       "    <tr>\n",
       "      <th>4</th>\n",
       "      <td>[]</td>\n",
       "      <td>102395</td>\n",
       "      <td></td>\n",
       "      <td>[630683, 481582, 528550, 285114, 506667, 17922...</td>\n",
       "      <td>38</td>\n",
       "      <td>2018-07-11 16:43:32.000</td>\n",
       "    </tr>\n",
       "    <tr>\n",
       "      <th>...</th>\n",
       "      <td>...</td>\n",
       "      <td>...</td>\n",
       "      <td>...</td>\n",
       "      <td>...</td>\n",
       "      <td>...</td>\n",
       "      <td>...</td>\n",
       "    </tr>\n",
       "    <tr>\n",
       "      <th>10735</th>\n",
       "      <td>[추억]</td>\n",
       "      <td>137930</td>\n",
       "      <td></td>\n",
       "      <td>[323755, 397594, 445908, 570242, 221853, 20018...</td>\n",
       "      <td>16</td>\n",
       "      <td>2016-04-18 11:02:09.000</td>\n",
       "    </tr>\n",
       "    <tr>\n",
       "      <th>10736</th>\n",
       "      <td>[띵곡의, 우울, 분위기, 드라이브, 산책]</td>\n",
       "      <td>936</td>\n",
       "      <td></td>\n",
       "      <td>[105140, 582252, 199262, 422915, 547967, 48791...</td>\n",
       "      <td>1</td>\n",
       "      <td>2020-04-08 07:15:59.000</td>\n",
       "    </tr>\n",
       "    <tr>\n",
       "      <th>10737</th>\n",
       "      <td>[기분전환]</td>\n",
       "      <td>110589</td>\n",
       "      <td></td>\n",
       "      <td>[21976, 207746, 40025, 31635, 567462, 641799, ...</td>\n",
       "      <td>6</td>\n",
       "      <td>2016-06-29 00:57:21.000</td>\n",
       "    </tr>\n",
       "    <tr>\n",
       "      <th>10738</th>\n",
       "      <td>[여름]</td>\n",
       "      <td>2605</td>\n",
       "      <td></td>\n",
       "      <td>[234554, 265033, 507260, 83092, 366757, 497097...</td>\n",
       "      <td>4</td>\n",
       "      <td>2015-06-06 09:52:01.000</td>\n",
       "    </tr>\n",
       "    <tr>\n",
       "      <th>10739</th>\n",
       "      <td>[]</td>\n",
       "      <td>126651</td>\n",
       "      <td></td>\n",
       "      <td>[685111, 20039, 634240, 519385, 321994, 525309...</td>\n",
       "      <td>14</td>\n",
       "      <td>2015-10-26 17:43:30.000</td>\n",
       "    </tr>\n",
       "  </tbody>\n",
       "</table>\n",
       "<p>10740 rows × 6 columns</p>\n",
       "</div>"
      ],
      "text/plain": [
       "                           tags      id plylst_title  \\\n",
       "0                            []   70107                \n",
       "1      [나만의Best3, 인디아티스트들의추천음악]    7461                \n",
       "2                        [드라이브]   90348                \n",
       "3                         [분위기]   58617                \n",
       "4                            []  102395                \n",
       "...                         ...     ...          ...   \n",
       "10735                      [추억]  137930                \n",
       "10736  [띵곡의, 우울, 분위기, 드라이브, 산책]     936                \n",
       "10737                    [기분전환]  110589                \n",
       "10738                      [여름]    2605                \n",
       "10739                        []  126651                \n",
       "\n",
       "                                                   songs  like_cnt  \\\n",
       "0      [398985, 449403, 411543, 528044, 143048, 98020...         6   \n",
       "1      [196298, 269984, 267805, 175867, 529244, 63825...         0   \n",
       "2      [273433, 331003, 68432, 411659, 117793, 616860...        21   \n",
       "3      [702227, 48152, 440008, 358488, 701041, 540721...         0   \n",
       "4      [630683, 481582, 528550, 285114, 506667, 17922...        38   \n",
       "...                                                  ...       ...   \n",
       "10735  [323755, 397594, 445908, 570242, 221853, 20018...        16   \n",
       "10736  [105140, 582252, 199262, 422915, 547967, 48791...         1   \n",
       "10737  [21976, 207746, 40025, 31635, 567462, 641799, ...         6   \n",
       "10738  [234554, 265033, 507260, 83092, 366757, 497097...         4   \n",
       "10739  [685111, 20039, 634240, 519385, 321994, 525309...        14   \n",
       "\n",
       "                     updt_date  \n",
       "0      2012-09-29 01:57:26.000  \n",
       "1      2019-12-17 14:06:45.000  \n",
       "2      2015-05-23 10:44:48.000  \n",
       "3      2019-03-14 09:47:34.000  \n",
       "4      2018-07-11 16:43:32.000  \n",
       "...                        ...  \n",
       "10735  2016-04-18 11:02:09.000  \n",
       "10736  2020-04-08 07:15:59.000  \n",
       "10737  2016-06-29 00:57:21.000  \n",
       "10738  2015-06-06 09:52:01.000  \n",
       "10739  2015-10-26 17:43:30.000  \n",
       "\n",
       "[10740 rows x 6 columns]"
      ]
     },
     "execution_count": 97,
     "metadata": {},
     "output_type": "execute_result"
    }
   ],
   "source": [
    "test"
   ]
  }
 ],
 "metadata": {
  "kernelspec": {
   "display_name": "bigdata",
   "language": "python",
   "name": "bigdata"
  },
  "language_info": {
   "codemirror_mode": {
    "name": "ipython",
    "version": 3
   },
   "file_extension": ".py",
   "mimetype": "text/x-python",
   "name": "python",
   "nbconvert_exporter": "python",
   "pygments_lexer": "ipython3",
   "version": "3.8.11"
  }
 },
 "nbformat": 4,
 "nbformat_minor": 4
}
