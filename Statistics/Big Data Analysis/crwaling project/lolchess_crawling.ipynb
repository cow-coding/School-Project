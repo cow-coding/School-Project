{
 "cells": [
  {
   "cell_type": "markdown",
   "id": "3fa09735",
   "metadata": {},
   "source": [
    "# 개요"
   ]
  },
  {
   "cell_type": "markdown",
   "id": "06a3b57f",
   "metadata": {},
   "source": [
    "![](./img1.png)"
   ]
  },
  {
   "cell_type": "markdown",
   "id": "20f46a9d",
   "metadata": {},
   "source": [
    "이번 크롤링 과제로 제가 즐겨하는 게임인 'Teamfight Tactics'(TFT)와 관련된 통계정보를 분석하는 것을 주제로 선정했습니다.  \n",
    "TFT의 기본적인 플레이 규칙은 아래와 같습니다.  \n",
    "- 챔피언은 1성, 2성, 3성 3종류의 별 등급이 있다. 기본적으로는 1성만 얻을 수 있으며, 2성은 1성 3개를 합쳐서, 3성은 2성 3개(1성 챔피언 9개)를 합쳐서 만들 수 있다.\n",
    "    - 챔피언은 1단계, 2단계, 3단계, 4단계, 5단계 챔피언이 있으며, 단계(코스트)가 높을수록 강하지만 비싸고 희귀하다.  \n",
    "    게임 초반에는 낮은 단계의 챔피언만 볼수있지만 진행될수록 높은 단계의 챔피언이 등장한다.  \n",
    "    하지만 상점의 총 재고량은 정해져있기 때문에[1] 낮은 단계의 챔피언이 많이 팔릴수록 높은 단계의 챔피언을 볼 확률이 높아진다.\n",
    "    - 챔피언 조합은 완전 자동이다. 결투장과 대기석에 세 개가 모이는 즉시 합쳐진다. 예외로 전투에 돌입하면 전투가 종료될 때까지 결투장에 있는 챔피언은 합쳐지지 않는다.\n",
    "    - 한 번 합쳐진 챔피언은 다시 분리할 수 없으며, 각 챔피언이 갖고 있던 아이템도 자동으로 조합된다.\n",
    "    - 등급이 올라가면 챔피언의 크기가 커지며, 색이 은색/금색으로 변한다. 체력과 공격력도 1.8배씩 높아진다. 소수점은 반올림.\n",
    "    - 스킬 성능의 경우 1성/2성은 큰 차이가 없지만, 3성이 되면 상당히 차이가 난다.  \n",
    "    3성 4단계 챔피언은 단독으로도 게임의 판도를 뒤집어버릴만한 성능이고, 3성 5단계는 사실상 승리 확정이다.\n",
    "    - 1코스트 유닛을 제외한 2성/3성 챔피언은 들인 비용에서 1골드를 뺀 가격으로 팔 수 있다.  \n",
    "    가령 3코 2성 챔피언은 만드는데 총 9골드(3×3)를 소모되지만, 판매할 때는 8골드인 것. 1코 챔피언들은 반드시 제 값에 팔 수 있다.\n",
    "- 결투장에 놓을 수 있는 챔피언의 수는 꼬마 전설이(플레이어)의 레벨과 같다. 최대 9레벨. 추가로 대자연의 힘 아이템 한 개당 인원 수를 1명 늘릴 수 있다.\n",
    "- 전투가 시작되면 모든 챔피언은 AI에 의해 자동으로 움직이며, 플레이어가 컨트롤 할 수 없다. 챔피언들은 적이 자신의 공격 사거리에 들어오도록 이동한다.\n",
    "    - 근접 챔피언은 원거리 챔피언보다 먼저 움직인다.\n",
    "    - 일반적으로 모든 챔피언은 한 번 정한 공격 대상을 바꾸지 않는다. 대상이 죽거나, 대상 비지정 상태가 되거나, 최대 사거리에서 1칸 이상 벗어난 상태가 되면 공격대상을 변경한다.\n",
    "- 결투장과 대기석이 가득찬 상태에서는 챔피언을 구매할 수 없다. 아이템도 창고가 가득 차면 수수께끼 상자를 열 수 없게 된다."
   ]
  },
  {
   "cell_type": "markdown",
   "id": "4a411ba0",
   "metadata": {},
   "source": [
    "TFT는 현재 [롤체지지](https://lolchess.gg)라는 사이트에서 관련 통계정보를 제공하고 있으며 '추천메타', '천상계 덱'(상위권 플레이어), '아이템 통계'와 같은 정보를 제공하고 있습니다.  \n",
    "롤체지지 사이트를 크롤링하여 현재 버전에서 플레이어들이 가장 많이 활용하는 메타를 분석하고 사이트에서 제공하는 정보의 가치를 확인해 볼 것입니다."
   ]
  },
  {
   "cell_type": "markdown",
   "id": "7f8079bd",
   "metadata": {},
   "source": [
    "# Import Library"
   ]
  },
  {
   "cell_type": "code",
   "execution_count": 1,
   "id": "01b4153d",
   "metadata": {
    "ExecuteTime": {
     "end_time": "2021-11-29T18:27:43.307877Z",
     "start_time": "2021-11-29T18:27:42.315394Z"
    }
   },
   "outputs": [],
   "source": [
    "from urllib.request import urlopen\n",
    "from urllib.request import Request\n",
    "from bs4 import BeautifulSoup\n",
    "from selenium import webdriver\n",
    "import pandas as pd\n",
    "from selenium.webdriver.common.by import By\n",
    "from selenium.webdriver.chrome.service import Service\n",
    "import re\n",
    "import warnings\n",
    "import platform\n",
    "from matplotlib import font_manager, rc\n",
    "\n",
    "from tqdm.notebook import tqdm"
   ]
  },
  {
   "cell_type": "code",
   "execution_count": 2,
   "id": "8af66ef0",
   "metadata": {
    "ExecuteTime": {
     "end_time": "2021-11-29T18:27:43.314035Z",
     "start_time": "2021-11-29T18:27:43.309898Z"
    }
   },
   "outputs": [],
   "source": [
    "if platform.system() == 'Windows':\n",
    "    font_name = font_manager.FontProperties(fname='c:/Windows/Fonts/malgun.ttf').get_name()\n",
    "    rc('font', family=font_name)\n",
    "else:\n",
    "    rc('font', family='AppleGothic')\n",
    "    \n",
    "tqdm.pandas()\n",
    "warnings.filterwarnings('ignore')"
   ]
  },
  {
   "cell_type": "markdown",
   "id": "7d703d8e",
   "metadata": {},
   "source": [
    "# Making Modules"
   ]
  },
  {
   "cell_type": "code",
   "execution_count": 3,
   "id": "b130b13f",
   "metadata": {
    "ExecuteTime": {
     "end_time": "2021-11-29T18:27:43.325267Z",
     "start_time": "2021-11-29T18:27:43.316427Z"
    },
    "code_folding": []
   },
   "outputs": [],
   "source": [
    "def str_parser(item, type=\"name\"):\n",
    "    if type == \"name\":\n",
    "        ret = item\n",
    "        ret = re.sub(r'[a-zA-Z]', '', item.get_text()).strip()\n",
    "    elif type == \"trait\":\n",
    "        ret = dict()\n",
    "\n",
    "        for i in item.select('div'):\n",
    "            synergy = i['data-tooltip-url'].split('/')[6].split(\"?\")[0].lower()\n",
    "            stack = i['data-tooltip-url'].split('?')[1].split('=')[1]\n",
    "            ret[synergy] = int(stack)\n",
    "\n",
    "    elif type == \"high_deck_name\":\n",
    "        synergy_list = item.select('b') + item.select('span')\n",
    "        tmp = [s.get_text() for s in synergy_list]\n",
    "\n",
    "        ret =' '.join(tmp)\n",
    "    elif type == \"high_deck_synergy\":\n",
    "        tmp = item.select('b') + item.select('span')\n",
    "        ret = dict()\n",
    "\n",
    "        for i in tmp:\n",
    "            txt = i.get_text().replace('요들 군주', '요들군주').replace('비전 마법사', '비전마법사').replace('범죄 조직', '범죄조직')\n",
    "            txt = txt.split(' ')\n",
    "            count = int(txt[0])\n",
    "            name = txt[1]\n",
    "\n",
    "            if name == '요들군주': name = '요들 군주'\n",
    "            if name == '비전마법사': name = '비전 마법사'\n",
    "            if name == '범죄조직': name = '범죄 조직'\n",
    "\n",
    "            ret[name] = count\n",
    "    elif type == \"high_unit_name\":\n",
    "        names = item.findAll('div', {'class':'unit__name'})\n",
    "        ret = []\n",
    "\n",
    "        for name in names:\n",
    "            ret.append(name.get_text())\n",
    "    elif type == \"high_stat\":\n",
    "        titles = [i.get_text() for i in item.select('dt')]\n",
    "        contents = [float(re.sub(r'[^0-9.]', '', i.get_text())) for i in item.select('dd')]\n",
    "\n",
    "        ret = dict(zip(titles, contents))\n",
    "\n",
    "    return ret"
   ]
  },
  {
   "cell_type": "markdown",
   "id": "63c00e25",
   "metadata": {},
   "source": [
    "`BeautifulSoup`을 활용한 데이터를 파싱하는 함수입니다. 넘겨주는 데이터의 type에 맞춰 알맞은 return 값을 파싱해줍니다.  "
   ]
  },
  {
   "cell_type": "code",
   "execution_count": 4,
   "id": "ef36a88c",
   "metadata": {
    "ExecuteTime": {
     "end_time": "2021-11-29T18:27:43.331773Z",
     "start_time": "2021-11-29T18:27:43.327958Z"
    }
   },
   "outputs": [],
   "source": [
    "def get_synergy_list():\n",
    "    url = \"https://lolchess.gg/synergies/set6?hl=ko-KR\"\n",
    "    req = Request(url)\n",
    "    response = urlopen(req)\n",
    "    page = response.read()\n",
    "\n",
    "    bsobj = BeautifulSoup(page, \"html.parser\")\n",
    "    synergies_eng = bsobj.findAll('div', {\n",
    "        'class': re.compile('guide-synergy-table__synergy guide-synergy-table__synergy--[a-z]*')})\n",
    "\n",
    "    synergies_dict = dict()\n",
    "\n",
    "    for synergy in synergies_eng:\n",
    "        eng = synergy['class'][1].split('--')[1]\n",
    "        kor = synergy.img['alt']\n",
    "        synergies_dict[eng] = kor\n",
    "\n",
    "    return synergies_dict"
   ]
  },
  {
   "cell_type": "markdown",
   "id": "3edad66b",
   "metadata": {},
   "source": [
    "롤체지지 사이트에서 제공하는 추천메타에 나타나는 시너지를 크롤링하는 함수입니다.  \n",
    "**시너지**란 챔피언들에 부여된 특성들입니다. 공통된 특성을 가진 챔피언들이 일정 인원이상 존재하면 해당 시너지가 발동되며 추가적인 효과를 얻을 수 있습니다.  \n",
    "시너지는 게임에서 핵심적인 플레이 요소이며 1순위 전략 요소로 사용됩니다.  \n",
    "따라서 유저의 메타분석과 현재 플레이 트렌드를 분석하는 데에 핵심적인 데이터입니다."
   ]
  },
  {
   "cell_type": "code",
   "execution_count": 5,
   "id": "d3d207c9",
   "metadata": {
    "ExecuteTime": {
     "end_time": "2021-11-29T18:27:43.338039Z",
     "start_time": "2021-11-29T18:27:43.333855Z"
    }
   },
   "outputs": [],
   "source": [
    "def get_champion_info(champion_list):\n",
    "    ret = dict()\n",
    "\n",
    "    for item in champion_list.findAll('div', {'class': re.compile('tft-champion cost-[0-9]*')}):\n",
    "        item = item.img\n",
    "        name = item['alt']\n",
    "        image = item['src']\n",
    "        ret[name] = image\n",
    "\n",
    "    return ret"
   ]
  },
  {
   "cell_type": "code",
   "execution_count": 6,
   "id": "784fb162",
   "metadata": {
    "ExecuteTime": {
     "end_time": "2021-11-29T18:27:43.347835Z",
     "start_time": "2021-11-29T18:27:43.340262Z"
    }
   },
   "outputs": [],
   "source": [
    "def get_champion_info_url():\n",
    "    ret = []\n",
    "    url = 'https://lolchess.gg/champions/set6/zyra?hl=ko-KR'\n",
    "    req = Request(url)\n",
    "    response = urlopen(req)\n",
    "    page = response.read()\n",
    "    bsobj = BeautifulSoup(page, 'html.parser')\n",
    "    items = bsobj.findAll('a', {'class': 'guide-champion-list__item'})\n",
    "    krname = bsobj.findAll('span', {'class':'guide-champion-list__item__name'})\n",
    "    \n",
    "    for item, kr in zip(items, krname):\n",
    "        ret.append((item['href'], kr.getText()))\n",
    "        \n",
    "    return ret\n",
    "\n",
    "def get_champion_base_info():\n",
    "    ret = dict()\n",
    "    urls = get_champion_info_url()\n",
    "    \n",
    "    for url, data in tqdm(urls):\n",
    "        into = dict()\n",
    "        req = Request(url+'?hl=ko-KR')\n",
    "        response = urlopen(req)\n",
    "        page = response.read()\n",
    "        bsobj = BeautifulSoup(page, 'html.parser')\n",
    "        item = bsobj.find('div', {'class':'guide-champion-detail__stats__value'})\n",
    "        stats = bsobj.findAll('div', {'class':'guide-champion-detail__stats__value'})\n",
    "        \n",
    "        tmp = []\n",
    "        \n",
    "        if data != '베이가':\n",
    "            for stat in stats:\n",
    "                if len(stat.findAll('img')) == 2:\n",
    "                    tmp.append(stat.findAll('img')[0]['alt'])\n",
    "                    tmp.append(stat.findAll('img')[1]['alt'])\n",
    "                elif stat.img['alt'] != 'Gold':\n",
    "                    tmp.append(stat.img['alt'])\n",
    "        else:\n",
    "            tmp.append('요들 군주')\n",
    "\n",
    "        name = data\n",
    "        cost = int(item.getText().strip()[0])\n",
    "        ret[name] = {\"synergy\":tmp, \"cost\":cost}\n",
    "    \n",
    "    return ret"
   ]
  },
  {
   "cell_type": "markdown",
   "id": "84d5fded",
   "metadata": {},
   "source": [
    "메타에 등장하는 챔피언의 정보를 수집하는 함수입니다.  \n",
    "추가로 챔피언의 가격 및 시너지들을 수집하는 함수입니다."
   ]
  },
  {
   "cell_type": "code",
   "execution_count": 7,
   "id": "d8c40e21",
   "metadata": {
    "ExecuteTime": {
     "end_time": "2021-11-29T18:27:43.355680Z",
     "start_time": "2021-11-29T18:27:43.349962Z"
    }
   },
   "outputs": [],
   "source": [
    "def get_meta():\n",
    "    url = 'https://lolchess.gg/meta?hl=ko-KR'\n",
    "    req = Request(url)\n",
    "    response = urlopen(req)\n",
    "    page = response.read()\n",
    "    bsobj = BeautifulSoup(page, 'html.parser')\n",
    "    meta_list = list()\n",
    "\n",
    "    deck_names = bsobj.findAll('div', {'class': 'guide-meta__deck__column name mr-3'})\n",
    "    traits = bsobj.findAll('div', {'class': 'guide-meta__deck__column traits'})\n",
    "    champions = bsobj.findAll('div', {'class': 'guide-meta__deck__column champions mr-2'})\n",
    "    golds = bsobj.findAll('div', {'class': 'guide-meta__deck__column cost mr-2'})\n",
    "\n",
    "    for deck_name, trait, champion, gold in zip(deck_names, traits, champions, golds):\n",
    "        deck = dict()\n",
    "\n",
    "        name = str_parser(deck_name, \"name\")\n",
    "        trait_list = str_parser(trait, \"trait\")\n",
    "        champion_list = get_champion_info(champion)\n",
    "\n",
    "        deck['name'] = name\n",
    "        deck['traits'] = trait_list\n",
    "        deck['champions'] = list(champion_list.keys())\n",
    "        deck['gold'] = int(gold.span.get_text())\n",
    "\n",
    "        meta_list.append(deck)\n",
    "\n",
    "    return meta_list"
   ]
  },
  {
   "cell_type": "markdown",
   "id": "0c03fa97",
   "metadata": {},
   "source": [
    "문자열 파싱함수, 정보 수집 함수들을 활용하여 '롤체지지'사이트에서 제공하는 '추천메타'정보를 수집하는 함수입니다.  \n",
    "반환값은 '추천메타'페이지에서 제공되는 조합의 종류에 대한 정보입니다.  \n",
    "각 조합은 dictionary 자료구조로 저장됩니다.  \n",
    "- `name`: 조합의 대표 명칭\n",
    "- `traits`: 조합에서 발동되는 시너지의 종류\n",
    "- `champions`: 조합에 사용되는 챔피언의 종류\n",
    "- `gold`: 조합에서 사용되는 모든 챔피언이 2성이 될 때 필요한 가장 이상적인 골드양"
   ]
  },
  {
   "cell_type": "code",
   "execution_count": 8,
   "id": "2cdc74a0",
   "metadata": {
    "ExecuteTime": {
     "end_time": "2021-11-29T18:27:43.365402Z",
     "start_time": "2021-11-29T18:27:43.359735Z"
    }
   },
   "outputs": [],
   "source": [
    "def get_high_tier_deck():\n",
    "    ser = Service(\"./chromedriver\")\n",
    "    driver = webdriver.Chrome(service=ser)\n",
    "    driver.implicitly_wait(3)\n",
    "\n",
    "    url = 'https://lolchess.gg/decks?hl=ko-KR'\n",
    "    driver.get(url)\n",
    "    html = driver.page_source\n",
    "    soup = BeautifulSoup(html, 'html.parser')\n",
    "\n",
    "    deck_list = []\n",
    "\n",
    "    deck_names = soup.findAll('h4', {'class':'deck__traits__name'})\n",
    "    deck_units = soup.findAll('div', {'class':'deck__units'})\n",
    "    deck_stats = soup.findAll('div', {'class':'deck__stats'})\n",
    "\n",
    "\n",
    "    for name, unit, stat in zip(deck_names, deck_units, deck_stats):\n",
    "        # deck name is deck synergy list\n",
    "        deck = dict()\n",
    "        deck_name = str_parser(name, \"high_deck_name\")\n",
    "        deck_synergy = str_parser(name, \"high_deck_synergy\")\n",
    "        deck_unit = str_parser(unit, \"high_unit_name\")\n",
    "        deck_stat = str_parser(stat, \"high_stat\")\n",
    "        deck['name'] = deck_name\n",
    "        deck['units'] = deck_unit\n",
    "        deck['synergy'] = deck_synergy\n",
    "        deck['win_rate'] = deck_stat['승률']\n",
    "        deck['top4_rate'] = deck_stat['TOP4 비율']\n",
    "        deck['avg_rank'] = deck_stat['평균 등수']\n",
    "\n",
    "        deck_list.append(deck)\n",
    "\n",
    "    return deck_list"
   ]
  },
  {
   "cell_type": "markdown",
   "id": "85ee84bb",
   "metadata": {},
   "source": [
    "'롤체지지'사이트에서 제공하는 천상계 유저, 일명 상위권 유저들이 많이 플레이하는 조합정보를 제공하는 '천상계 덱' 사이트 크롤링 함수힙니다.  \n",
    "천상계 유저는 TFT 전체 플레이어의 상위 약 2.5% 유저들을 대상으로 수집되는 데이터입니다.  \n",
    "해당 데이터를 수집한 이유는 실제 사이트에서 제공되는 '추천메타'와 상위권 플레이어가 선호하는 메타가 의미가 있는지를 확인하기 위해서입니다.  \n",
    "해당 페이지는 자바스크립트로 페이지를 로드하기 때문에 셀레니움으로 페이지를 읽고 BeautifuoSoup으로 전처리하였습니다."
   ]
  },
  {
   "cell_type": "code",
   "execution_count": 9,
   "id": "20520a20",
   "metadata": {
    "ExecuteTime": {
     "end_time": "2021-11-29T18:27:43.373474Z",
     "start_time": "2021-11-29T18:27:43.368834Z"
    }
   },
   "outputs": [],
   "source": [
    "from datetime import datetime\n",
    "\n",
    "def save_df(**kwargs):\n",
    "    today = datetime.today().strftime(\"%Y%m%d\")\n",
    "    path = './datas/'\n",
    "    \n",
    "    for k, v in kwargs.items():\n",
    "        if k == 'high':\n",
    "            v.to_csv(path+today+'_high.csv', index=False)\n",
    "        elif k == 'meta':\n",
    "            v.to_csv(path+today+'_meta.csv', index=False)"
   ]
  },
  {
   "cell_type": "markdown",
   "id": "ba8c3454",
   "metadata": {},
   "source": [
    "# Data Load"
   ]
  },
  {
   "cell_type": "code",
   "execution_count": 29,
   "id": "6eebaff3",
   "metadata": {
    "ExecuteTime": {
     "end_time": "2021-11-29T18:40:38.927953Z",
     "start_time": "2021-11-29T18:40:38.853881Z"
    }
   },
   "outputs": [],
   "source": [
    "path = './datas/'\n",
    "meta_deck_df = pd.read_csv(path+'20211130_meta.csv')\n",
    "high_deck_df = pd.read_csv(path+'20211130_high.csv')\n",
    "\n",
    "with open(path+'champion.json', 'r') as f:\n",
    "    champions = json.load(f)\n",
    "\n",
    "with open(path+'synergies.json', 'r') as f:\n",
    "    synergies = json.load(f)\n",
    "    \n",
    "with open(path+'20211130_meta.json', 'r') as f:\n",
    "    metas = json.load(f)\n",
    "    \n",
    "with open(path+'20211130_high.json', 'r') as f:\n",
    "    high_deck_info = json.load(f)"
   ]
  },
  {
   "cell_type": "markdown",
   "id": "1523bea3",
   "metadata": {},
   "source": [
    "# Making Dataframe"
   ]
  },
  {
   "cell_type": "code",
   "execution_count": 36,
   "id": "1183992d",
   "metadata": {
    "ExecuteTime": {
     "end_time": "2021-11-29T18:42:03.901200Z",
     "start_time": "2021-11-29T18:42:03.810419Z"
    }
   },
   "outputs": [],
   "source": [
    "high_deck_df = pd.DataFrame(columns=['name', 'synergy','units', 'win_rate', 'top4_rate', 'avg_rank'])\n",
    "\n",
    "for item in high_deck_info:\n",
    "    high_deck_df = high_deck_df.append(item, ignore_index=True)"
   ]
  },
  {
   "cell_type": "code",
   "execution_count": 37,
   "id": "1333833d",
   "metadata": {
    "ExecuteTime": {
     "end_time": "2021-11-29T18:42:04.141689Z",
     "start_time": "2021-11-29T18:42:04.082447Z"
    }
   },
   "outputs": [],
   "source": [
    "meta_deck_df = pd.DataFrame(columns=['name','traits', 'champions', 'gold'])\n",
    "\n",
    "for item in metas:\n",
    "    meta_deck_df = meta_deck_df.append(item, ignore_index=True)\n",
    "    \n",
    "meta_deck_df = meta_deck_df.rename(columns={'traits':'synergy', 'champions':'units'})"
   ]
  },
  {
   "cell_type": "markdown",
   "id": "b8c67ef4",
   "metadata": {},
   "source": [
    "# EDA"
   ]
  },
  {
   "cell_type": "code",
   "execution_count": 38,
   "id": "a96232e8",
   "metadata": {
    "ExecuteTime": {
     "end_time": "2021-11-29T18:42:06.435407Z",
     "start_time": "2021-11-29T18:42:06.431526Z"
    }
   },
   "outputs": [],
   "source": [
    "# meta dataframe synergy name change to Korean version name\n",
    "meta_deck_df['synergy'] = meta_deck_df['synergy'].apply(lambda x: {synergies[k]:v for k, v in x.items()})"
   ]
  },
  {
   "cell_type": "code",
   "execution_count": 39,
   "id": "6c6fcc1d",
   "metadata": {
    "ExecuteTime": {
     "end_time": "2021-11-29T18:42:10.871926Z",
     "start_time": "2021-11-29T18:42:10.869227Z"
    }
   },
   "outputs": [],
   "source": [
    "# make mata deck synergy list\n",
    "syn_list = meta_deck_df['synergy'].tolist()"
   ]
  },
  {
   "cell_type": "code",
   "execution_count": 40,
   "id": "a6bd2ab9",
   "metadata": {
    "ExecuteTime": {
     "end_time": "2021-11-29T18:42:10.877619Z",
     "start_time": "2021-11-29T18:42:10.874791Z"
    }
   },
   "outputs": [],
   "source": [
    "# make high tier player deck synergy list\n",
    "high_syn_list = high_deck_df['synergy'].tolist()"
   ]
  },
  {
   "cell_type": "markdown",
   "id": "79c19bc2",
   "metadata": {},
   "source": [
    "## meta deck data EDA"
   ]
  },
  {
   "cell_type": "markdown",
   "id": "d4fe3942",
   "metadata": {},
   "source": [
    "사이트에서 추천하고 있는 '추천메타' 데이터를 분석하겠습니다."
   ]
  },
  {
   "cell_type": "markdown",
   "id": "d52bef6e",
   "metadata": {},
   "source": [
    "추천메타는 롤체지지에서 제공하는 정보에 따르면 '챌린저'유저 (상위 199명)의 자문을 받아 제공되는 데이터입니다.  \n",
    "우선 추천메타에서 제공하는 데이터에서 가장 많이 등장하는 챔피언의 종류를 확인하겠습니다.  \n",
    "많이 활용되는 챔피언일수록 게임 플레이에 기여하는 정도가 높다고 판단할 수 있습니다.  \n",
    "또한 많은 유저들이 추천메타를 참고로 플레이하는 경향이 많기 때문에 대다수의 유저가 플레이하는 메타라 생각할 수 있습니다."
   ]
  },
  {
   "cell_type": "markdown",
   "id": "f8f7b9b4",
   "metadata": {},
   "source": [
    "### meta deck champion trend"
   ]
  },
  {
   "cell_type": "code",
   "execution_count": 41,
   "id": "3aaeb763",
   "metadata": {
    "ExecuteTime": {
     "end_time": "2021-11-29T18:42:10.889242Z",
     "start_time": "2021-11-29T18:42:10.881012Z"
    },
    "scrolled": true
   },
   "outputs": [],
   "source": [
    "from collections import Counter\n",
    "meta_champions = [champ for meta in meta_deck_df['units'].tolist() for champ in meta]\n",
    "\n",
    "champ_counts = dict(Counter(meta_champions))\n",
    "champ_counts_df = pd.DataFrame(columns=['name', 'counts', 'cost', 'synergies'])\n",
    "champ_counts_df['name'] = champ_counts.keys()\n",
    "champ_counts_df['counts'] = champ_counts.values()"
   ]
  },
  {
   "cell_type": "markdown",
   "id": "a09a7097",
   "metadata": {},
   "source": [
    "분석의 편의를 위해 카운팅 관련 데이터프레임을 만들겠습니다."
   ]
  },
  {
   "cell_type": "code",
   "execution_count": 42,
   "id": "2ec51dfd",
   "metadata": {
    "ExecuteTime": {
     "end_time": "2021-11-29T18:42:11.040588Z",
     "start_time": "2021-11-29T18:42:10.891635Z"
    }
   },
   "outputs": [
    {
     "data": {
      "application/vnd.jupyter.widget-view+json": {
       "model_id": "91bbe76c1d82442db168a86d7ac17a71",
       "version_major": 2,
       "version_minor": 0
      },
      "text/plain": [
       "  0%|          | 0/56 [00:00<?, ?it/s]"
      ]
     },
     "metadata": {},
     "output_type": "display_data"
    },
    {
     "data": {
      "application/vnd.jupyter.widget-view+json": {
       "model_id": "a58a963254f84af7919e4bd1186466f1",
       "version_major": 2,
       "version_minor": 0
      },
      "text/plain": [
       "  0%|          | 0/56 [00:00<?, ?it/s]"
      ]
     },
     "metadata": {},
     "output_type": "display_data"
    }
   ],
   "source": [
    "champ_counts_df['cost'] = champ_counts_df.progress_apply(lambda x: int(champions[x['name']]['cost']), axis=1)\n",
    "champ_counts_df['synergies'] = champ_counts_df.progress_apply(lambda x: champions[x['name']]['synergy'], axis=1)\n",
    "meta_deck_df['champ_count'] = meta_deck_df['units'].apply(lambda x: len(x))"
   ]
  },
  {
   "cell_type": "code",
   "execution_count": 43,
   "id": "552af6a1",
   "metadata": {
    "ExecuteTime": {
     "end_time": "2021-11-29T18:42:11.056770Z",
     "start_time": "2021-11-29T18:42:11.044863Z"
    }
   },
   "outputs": [
    {
     "data": {
      "text/html": [
       "<div>\n",
       "<style scoped>\n",
       "    .dataframe tbody tr th:only-of-type {\n",
       "        vertical-align: middle;\n",
       "    }\n",
       "\n",
       "    .dataframe tbody tr th {\n",
       "        vertical-align: top;\n",
       "    }\n",
       "\n",
       "    .dataframe thead th {\n",
       "        text-align: right;\n",
       "    }\n",
       "</style>\n",
       "<table border=\"1\" class=\"dataframe\">\n",
       "  <thead>\n",
       "    <tr style=\"text-align: right;\">\n",
       "      <th></th>\n",
       "      <th>name</th>\n",
       "      <th>counts</th>\n",
       "      <th>cost</th>\n",
       "      <th>synergies</th>\n",
       "    </tr>\n",
       "  </thead>\n",
       "  <tbody>\n",
       "    <tr>\n",
       "      <th>0</th>\n",
       "      <td>직스</td>\n",
       "      <td>2</td>\n",
       "      <td>1</td>\n",
       "      <td>[고물상, 요들, 비전 마법사]</td>\n",
       "    </tr>\n",
       "    <tr>\n",
       "      <th>1</th>\n",
       "      <td>스웨인</td>\n",
       "      <td>3</td>\n",
       "      <td>2</td>\n",
       "      <td>[제국, 비전 마법사]</td>\n",
       "    </tr>\n",
       "    <tr>\n",
       "      <th>2</th>\n",
       "      <td>말자하</td>\n",
       "      <td>3</td>\n",
       "      <td>3</td>\n",
       "      <td>[돌연변이, 비전 마법사]</td>\n",
       "    </tr>\n",
       "    <tr>\n",
       "      <th>3</th>\n",
       "      <td>벡스</td>\n",
       "      <td>2</td>\n",
       "      <td>3</td>\n",
       "      <td>[요들, 비전 마법사]</td>\n",
       "    </tr>\n",
       "    <tr>\n",
       "      <th>4</th>\n",
       "      <td>럭스</td>\n",
       "      <td>3</td>\n",
       "      <td>4</td>\n",
       "      <td>[아카데미, 비전 마법사]</td>\n",
       "    </tr>\n",
       "  </tbody>\n",
       "</table>\n",
       "</div>"
      ],
      "text/plain": [
       "  name  counts  cost          synergies\n",
       "0   직스       2     1  [고물상, 요들, 비전 마법사]\n",
       "1  스웨인       3     2       [제국, 비전 마법사]\n",
       "2  말자하       3     3     [돌연변이, 비전 마법사]\n",
       "3   벡스       2     3       [요들, 비전 마법사]\n",
       "4   럭스       3     4     [아카데미, 비전 마법사]"
      ]
     },
     "execution_count": 43,
     "metadata": {},
     "output_type": "execute_result"
    }
   ],
   "source": [
    "champ_counts_df.head()"
   ]
  },
  {
   "cell_type": "code",
   "execution_count": 44,
   "id": "92171611",
   "metadata": {
    "ExecuteTime": {
     "end_time": "2021-11-29T18:42:11.110803Z",
     "start_time": "2021-11-29T18:42:11.059689Z"
    }
   },
   "outputs": [
    {
     "name": "stdout",
     "output_type": "stream",
     "text": [
      "전체 챔피언의 수: 59\n",
      "전체 메타 덱의 수: 18\n",
      "추천메타에 사용된 챔피언의 수: 56\n",
      "추천메타에 사용되지 않은 챔피언: ['일라오이', '트위스티드 페이트', '갱플랭크']\n",
      "가장 많이(9) 사용된 챔피언: ['잔나']\n",
      "가장 적게(1) 사용된 챔피언: ['다리우스' '룰루' '미스 포츈' '베이가' '뽀삐' '사이온' '신지드' '우르곳' '워윅' '자이라' '자크' '질리언'\n",
      " '카밀' '케이틀린' '퀸' '트런들' '트리스타나' '트위치']\n",
      "\n",
      "        count      mean       std  min  25%  50%  75%  max\n",
      "counts   56.0  2.482143  1.684054  1.0  1.0  2.0  3.0  9.0\n",
      "cost     56.0  2.892857  1.370847  1.0  2.0  3.0  4.0  5.0\n"
     ]
    }
   ],
   "source": [
    "champ_counts_df = champ_counts_df.sort_values('counts', ascending=False, ignore_index=True)\n",
    "print(f'전체 챔피언의 수: {len(champions)}')\n",
    "print(f'전체 메타 덱의 수: {len(meta_deck_df)}')\n",
    "print(f'추천메타에 사용된 챔피언의 수: {len(champ_counts_df)}')\n",
    "unuse = set(champions.keys()) - set(champ_counts_df['name'].values)\n",
    "print(f'추천메타에 사용되지 않은 챔피언: {list(unuse)}')\n",
    "max_list = champ_counts_df[champ_counts_df['counts'] == champ_counts_df['counts'].max()].sort_values('name')\n",
    "min_list = champ_counts_df[champ_counts_df['counts'] == champ_counts_df['counts'].min()].sort_values('name')\n",
    "print(f'가장 많이({champ_counts_df.counts.max()}) 사용된 챔피언: {max_list.name.values}')\n",
    "print(f'가장 적게({champ_counts_df.counts.min()}) 사용된 챔피언: {min_list.name.values}')\n",
    "\n",
    "print()\n",
    "print(champ_counts_df.describe().T)"
   ]
  },
  {
   "cell_type": "markdown",
   "id": "2fe4b7c3",
   "metadata": {},
   "source": [
    "추천메타에는 총 56개의 챔피언이 사용되고 있으며 전체 챔피언 59개 중 3개의 챔피언만 사용되지 않고 있습니다.  \n",
    "가장 많이 사용된 챔피언의 사용 횟수는 9번이며 '잔나'입니다.  \n",
    "가장 적게 사용된 챔피언의 사용 횟수는 1번이며 '다리우스', '룰루', '미스 포츈', '베이가' 등 챔피언들이 있습니다."
   ]
  },
  {
   "cell_type": "markdown",
   "id": "e2d93398",
   "metadata": {},
   "source": [
    "챔피언의 가격과 사용횟수가 상관성이 있는 지를 확인하겠습니다."
   ]
  },
  {
   "cell_type": "code",
   "execution_count": 45,
   "id": "96e655c2",
   "metadata": {
    "ExecuteTime": {
     "end_time": "2021-11-29T18:42:11.125992Z",
     "start_time": "2021-11-29T18:42:11.112614Z"
    }
   },
   "outputs": [],
   "source": [
    "df = pd.DataFrame(columns=['cost', 'select'])\n",
    "df['cost'] = [1,2,3,4,5]\n",
    "for i in range(1, 6):\n",
    "    df.loc[(df['cost'] == i), 'select'] = champ_counts_df[champ_counts_df.cost == i]['counts'].sum()"
   ]
  },
  {
   "cell_type": "code",
   "execution_count": 46,
   "id": "71c68766",
   "metadata": {
    "ExecuteTime": {
     "end_time": "2021-11-29T18:42:11.137942Z",
     "start_time": "2021-11-29T18:42:11.128735Z"
    }
   },
   "outputs": [
    {
     "name": "stdout",
     "output_type": "stream",
     "text": [
      "1 코스트 챔피언들의 메타 기용률 : 12.0%\n",
      "2 코스트 챔피언들의 메타 기용률 : 18.0%\n",
      "3 코스트 챔피언들의 메타 기용률 : 22.0%\n",
      "4 코스트 챔피언들의 메타 기용률 : 27.0%\n",
      "5 코스트 챔피언들의 메타 기용률 : 21.0%\n"
     ]
    }
   ],
   "source": [
    "total = champ_counts_df['counts'].sum()\n",
    "\n",
    "for i in range(len(df)):\n",
    "    print(f'{i+1} 코스트 챔피언들의 메타 기용률 : {round(df.loc[i].select/total,2) * 100}%')"
   ]
  },
  {
   "cell_type": "markdown",
   "id": "1aa65514",
   "metadata": {},
   "source": [
    "전반적인 메타의 구성에서 4코스트, 3코스트, 5코스트 챔피언이 기용률이 높은 것을 알 수 있습니다.  \n",
    "코스트가 높을수록 좋은 성능을 갖게되므로 당연한 결과라고 생각할 수 있습니다.  \n",
    "그렇다면 이번에는 각 코스트별로 가장 많이 기용된 챔피언과 그 횟수를 알아보도록 하겠습니다."
   ]
  },
  {
   "cell_type": "code",
   "execution_count": 47,
   "id": "cd910541",
   "metadata": {
    "ExecuteTime": {
     "end_time": "2021-11-29T18:42:11.155583Z",
     "start_time": "2021-11-29T18:42:11.142441Z"
    }
   },
   "outputs": [
    {
     "name": "stdout",
     "output_type": "stream",
     "text": [
      "1 코스트에서 가장 많이 기용된 챔피언: ['카사딘'], 기용횟수: 3회\n",
      "2 코스트에서 가장 많이 기용된 챔피언: ['블리츠크랭크' '바이'], 기용횟수: 4회\n",
      "3 코스트에서 가장 많이 기용된 챔피언: ['레오나'], 기용횟수: 5회\n",
      "4 코스트에서 가장 많이 기용된 챔피언: ['잔나'], 기용횟수: 9회\n",
      "5 코스트에서 가장 많이 기용된 챔피언: ['유미'], 기용횟수: 8회\n"
     ]
    }
   ],
   "source": [
    "for i in range(1, 6):\n",
    "    data = champ_counts_df[champ_counts_df['cost'] == i]\n",
    "    max_val = data['counts'].max()\n",
    "    max_data = data[data['counts'] == max_val]\n",
    "    print(f'{i} 코스트에서 가장 많이 기용된 챔피언: {max_data.name.values}, 기용횟수: {max_val}회')"
   ]
  },
  {
   "cell_type": "markdown",
   "id": "beeb89dd",
   "metadata": {},
   "source": [
    "### meta deck synergy trend"
   ]
  },
  {
   "cell_type": "markdown",
   "id": "92adeb3b",
   "metadata": {},
   "source": [
    "이번에는 메타덱에 사용되는 시너지를 확인하겠습니다.  \n",
    "앞서 간단하게 언급했던 것처럼 시너지는 게임의 핵심요소입니다.  \n",
    "우선 가장 많이 활용된 시너지를 확인하겠습니다."
   ]
  },
  {
   "cell_type": "code",
   "execution_count": 48,
   "id": "9652e355",
   "metadata": {
    "ExecuteTime": {
     "end_time": "2021-11-29T18:42:11.163549Z",
     "start_time": "2021-11-29T18:42:11.160304Z"
    }
   },
   "outputs": [],
   "source": [
    "meta_synergy = meta_deck_df['synergy'].tolist()"
   ]
  },
  {
   "cell_type": "code",
   "execution_count": 49,
   "id": "71525767",
   "metadata": {
    "ExecuteTime": {
     "end_time": "2021-11-29T18:42:11.175836Z",
     "start_time": "2021-11-29T18:42:11.168614Z"
    }
   },
   "outputs": [],
   "source": [
    "synergy_counts = dict(Counter([k for meta in meta_synergy for k in meta.keys()]))\n",
    "synergy_counts_df = pd.DataFrame(columns=['synergy', 'counts'])\n",
    "synergy_counts_df['synergy'] = synergy_counts.keys()\n",
    "synergy_counts_df['counts'] = synergy_counts.values()\n",
    "synergy_counts_df = synergy_counts_df.sort_values('counts', ascending=False, ignore_index=True)"
   ]
  },
  {
   "cell_type": "code",
   "execution_count": 50,
   "id": "6f193426",
   "metadata": {
    "ExecuteTime": {
     "end_time": "2021-11-29T18:42:11.186870Z",
     "start_time": "2021-11-29T18:42:11.178326Z"
    }
   },
   "outputs": [
    {
     "data": {
      "text/html": [
       "<div>\n",
       "<style scoped>\n",
       "    .dataframe tbody tr th:only-of-type {\n",
       "        vertical-align: middle;\n",
       "    }\n",
       "\n",
       "    .dataframe tbody tr th {\n",
       "        vertical-align: top;\n",
       "    }\n",
       "\n",
       "    .dataframe thead th {\n",
       "        text-align: right;\n",
       "    }\n",
       "</style>\n",
       "<table border=\"1\" class=\"dataframe\">\n",
       "  <thead>\n",
       "    <tr style=\"text-align: right;\">\n",
       "      <th></th>\n",
       "      <th>synergy</th>\n",
       "      <th>counts</th>\n",
       "    </tr>\n",
       "  </thead>\n",
       "  <tbody>\n",
       "    <tr>\n",
       "      <th>0</th>\n",
       "      <td>학자</td>\n",
       "      <td>9</td>\n",
       "    </tr>\n",
       "    <tr>\n",
       "      <th>1</th>\n",
       "      <td>아카데미</td>\n",
       "      <td>8</td>\n",
       "    </tr>\n",
       "    <tr>\n",
       "      <th>2</th>\n",
       "      <td>포근</td>\n",
       "      <td>8</td>\n",
       "    </tr>\n",
       "    <tr>\n",
       "      <th>3</th>\n",
       "      <td>고물상</td>\n",
       "      <td>7</td>\n",
       "    </tr>\n",
       "    <tr>\n",
       "      <th>4</th>\n",
       "      <td>강화술사</td>\n",
       "      <td>6</td>\n",
       "    </tr>\n",
       "  </tbody>\n",
       "</table>\n",
       "</div>"
      ],
      "text/plain": [
       "  synergy  counts\n",
       "0      학자       9\n",
       "1    아카데미       8\n",
       "2      포근       8\n",
       "3     고물상       7\n",
       "4    강화술사       6"
      ]
     },
     "execution_count": 50,
     "metadata": {},
     "output_type": "execute_result"
    }
   ],
   "source": [
    "synergy_counts_df.head()"
   ]
  },
  {
   "cell_type": "code",
   "execution_count": 51,
   "id": "073423c1",
   "metadata": {
    "ExecuteTime": {
     "end_time": "2021-11-29T18:42:11.206437Z",
     "start_time": "2021-11-29T18:42:11.189055Z"
    }
   },
   "outputs": [
    {
     "name": "stdout",
     "output_type": "stream",
     "text": [
      "전체 시너지의 수: 28\n",
      "전체 메타 덱의 수: 18\n",
      "추천메타에 사용된 시너지 수: 27\n",
      "추천메타에 사용되지 않은 시너지: ['용병']\n",
      "가장 많이(9) 사용된 시너지: ['학자']\n",
      "가장 적게(1) 사용된 시너지: ['범죄 조직' '요들' '요들 군주' '화학공학']\n",
      "\n",
      "        count      mean       std  min  25%  50%  75%  max\n",
      "counts   27.0  3.814815  2.434322  1.0  2.0  3.0  6.0  9.0\n"
     ]
    }
   ],
   "source": [
    "print(f'전체 시너지의 수: {len(synergies)}')\n",
    "print(f'전체 메타 덱의 수: {len(meta_deck_df)}')\n",
    "print(f'추천메타에 사용된 시너지 수: {len(synergy_counts_df)}')\n",
    "unuse = set(synergies.values()) - set(synergy_counts_df['synergy'].values)\n",
    "print(f'추천메타에 사용되지 않은 시너지: {list(unuse)}')\n",
    "max_list = synergy_counts_df[synergy_counts_df['counts'] == synergy_counts_df['counts'].max()].sort_values('synergy')\n",
    "min_list = synergy_counts_df[synergy_counts_df['counts'] == synergy_counts_df['counts'].min()].sort_values('synergy')\n",
    "print(f'가장 많이({synergy_counts_df.counts.max()}) 사용된 시너지: {max_list.synergy.values}')\n",
    "print(f'가장 적게({synergy_counts_df.counts.min()}) 사용된 시너지: {min_list.synergy.values}')\n",
    "\n",
    "print()\n",
    "print(synergy_counts_df.describe().T)"
   ]
  },
  {
   "cell_type": "markdown",
   "id": "baa11245",
   "metadata": {},
   "source": [
    "전체 시너지는 28개입니다.  \n",
    "이때 27개의 시너지가 추천메타에 등장하였으며 사용되지 않은 시너지는 '용병'시너지입니다.  \n",
    "- 최다 사용 시너지  \n",
    "'학자' 시너지가 가장 많이 사용된 것으로 보입니다.  \n",
    "'학자'시너지는 아군 전체의 마나를 회복하는 특성을 갖고 있기 때문에 아군의 스킬 회전율을 높이는 효과입니다.  \n",
    "스킬 회전율이 높으면 상대에게 동일 시간에 높은 비율의 데미지를 줄 수 있기 때문에 기용률이 높은 것으로 보입니다.  \n",
    "- 최소 사용 시너지  \n",
    "가장 적게 카운팅된 시너지는 '범죄 조직', '요들', '요들 군주', '화학공학'임을 알 수 있습니다.  \n",
    "여기서 '요들'과 '요들 군주'의 경우 공존하는 시너지입니다. 따라서 단순히 '요들'로만 보아도 충분한 것으로 보입니다.  \n",
    "주의깊게 확인해야 할 점은 '요들'은 다른 시너지들과 다르게 다른 시너지와 함께 섞어 사용하기 어려운 시너지입니다.  \n",
    "따라서 단독으로 쓰일 수 밖에 없는 것으로 보이며 이에 따라 적은 수의 사용이 된 것으로 보입니다."
   ]
  },
  {
   "cell_type": "markdown",
   "id": "bde81e5b",
   "metadata": {},
   "source": [
    "이번에는 많이 등장하는 시너지의 조합을 확인하겠습니다.  \n",
    "즉 전체적으로 완성된 것이 아닌 `['비전 마법사','아카데미']`처럼 부분적으로 자주 등장하는 조합을 확인하고자 합니다.  \n",
    "이를 확인하면 시너지 간의 좋은 효율을 보여주는 것이 무엇인지 알 수 있을 것입니다."
   ]
  },
  {
   "cell_type": "code",
   "execution_count": 52,
   "id": "066e2e13",
   "metadata": {
    "ExecuteTime": {
     "end_time": "2021-11-29T18:42:11.211774Z",
     "start_time": "2021-11-29T18:42:11.208588Z"
    }
   },
   "outputs": [],
   "source": [
    "from itertools import combinations, chain\n",
    "\n",
    "def all_subsets(ss):\n",
    "    return chain(*map(lambda x: combinations(ss, x), range(2, len(ss)+1)))"
   ]
  },
  {
   "cell_type": "code",
   "execution_count": 53,
   "id": "04e4d830",
   "metadata": {
    "ExecuteTime": {
     "end_time": "2021-11-29T18:42:11.220075Z",
     "start_time": "2021-11-29T18:42:11.214321Z"
    }
   },
   "outputs": [],
   "source": [
    "meta_synergy_list = [list(meta.keys()) for meta in meta_synergy]\n",
    "all_syn_comb = []\n",
    "\n",
    "for syn in meta_synergy_list:\n",
    "    for comb in all_subsets(syn):\n",
    "        all_syn_comb.append(tuple(sorted(comb, key=lambda x: x)))"
   ]
  },
  {
   "cell_type": "code",
   "execution_count": 54,
   "id": "a52e2bab",
   "metadata": {
    "ExecuteTime": {
     "end_time": "2021-11-29T18:42:11.258305Z",
     "start_time": "2021-11-29T18:42:11.223090Z"
    }
   },
   "outputs": [],
   "source": [
    "syn_comb_dic = dict()\n",
    "\n",
    "for syn in set(all_syn_comb):\n",
    "    syn_comb_dic[syn] = 0\n",
    "    for meta_syn in meta_synergy_list:\n",
    "        if len(set(syn) - set(meta_syn)) == 0:\n",
    "            syn_comb_dic[syn] += 1"
   ]
  },
  {
   "cell_type": "code",
   "execution_count": 55,
   "id": "7ac7f7bf",
   "metadata": {
    "ExecuteTime": {
     "end_time": "2021-11-29T18:42:11.267729Z",
     "start_time": "2021-11-29T18:42:11.260791Z"
    }
   },
   "outputs": [],
   "source": [
    "syn_comb_df = pd.DataFrame(columns=['syn_comb', 'counts'])\n",
    "syn_comb_df['syn_comb'] = syn_comb_dic.keys()\n",
    "syn_comb_df['counts'] = syn_comb_dic.values()"
   ]
  },
  {
   "cell_type": "code",
   "execution_count": 56,
   "id": "21866d79",
   "metadata": {
    "ExecuteTime": {
     "end_time": "2021-11-29T18:42:11.278175Z",
     "start_time": "2021-11-29T18:42:11.269227Z"
    }
   },
   "outputs": [
    {
     "data": {
      "text/html": [
       "<div>\n",
       "<style scoped>\n",
       "    .dataframe tbody tr th:only-of-type {\n",
       "        vertical-align: middle;\n",
       "    }\n",
       "\n",
       "    .dataframe tbody tr th {\n",
       "        vertical-align: top;\n",
       "    }\n",
       "\n",
       "    .dataframe thead th {\n",
       "        text-align: right;\n",
       "    }\n",
       "</style>\n",
       "<table border=\"1\" class=\"dataframe\">\n",
       "  <thead>\n",
       "    <tr style=\"text-align: right;\">\n",
       "      <th></th>\n",
       "      <th>syn_comb</th>\n",
       "      <th>counts</th>\n",
       "    </tr>\n",
       "  </thead>\n",
       "  <tbody>\n",
       "    <tr>\n",
       "      <th>0</th>\n",
       "      <td>(포근, 학자)</td>\n",
       "      <td>7</td>\n",
       "    </tr>\n",
       "    <tr>\n",
       "      <th>1</th>\n",
       "      <td>(강화술사, 학자)</td>\n",
       "      <td>6</td>\n",
       "    </tr>\n",
       "    <tr>\n",
       "      <th>2</th>\n",
       "      <td>(경호대, 아카데미)</td>\n",
       "      <td>6</td>\n",
       "    </tr>\n",
       "    <tr>\n",
       "      <th>3</th>\n",
       "      <td>(아카데미, 포근)</td>\n",
       "      <td>5</td>\n",
       "    </tr>\n",
       "    <tr>\n",
       "      <th>4</th>\n",
       "      <td>(고물상, 학자)</td>\n",
       "      <td>5</td>\n",
       "    </tr>\n",
       "    <tr>\n",
       "      <th>5</th>\n",
       "      <td>(아카데미, 학자)</td>\n",
       "      <td>4</td>\n",
       "    </tr>\n",
       "    <tr>\n",
       "      <th>6</th>\n",
       "      <td>(변형술사, 집행자)</td>\n",
       "      <td>4</td>\n",
       "    </tr>\n",
       "    <tr>\n",
       "      <th>7</th>\n",
       "      <td>(강화술사, 포근, 학자)</td>\n",
       "      <td>4</td>\n",
       "    </tr>\n",
       "    <tr>\n",
       "      <th>8</th>\n",
       "      <td>(아카데미, 포근, 학자)</td>\n",
       "      <td>4</td>\n",
       "    </tr>\n",
       "    <tr>\n",
       "      <th>9</th>\n",
       "      <td>(강화술사, 고물상)</td>\n",
       "      <td>4</td>\n",
       "    </tr>\n",
       "  </tbody>\n",
       "</table>\n",
       "</div>"
      ],
      "text/plain": [
       "         syn_comb  counts\n",
       "0        (포근, 학자)       7\n",
       "1      (강화술사, 학자)       6\n",
       "2     (경호대, 아카데미)       6\n",
       "3      (아카데미, 포근)       5\n",
       "4       (고물상, 학자)       5\n",
       "5      (아카데미, 학자)       4\n",
       "6     (변형술사, 집행자)       4\n",
       "7  (강화술사, 포근, 학자)       4\n",
       "8  (아카데미, 포근, 학자)       4\n",
       "9     (강화술사, 고물상)       4"
      ]
     },
     "execution_count": 56,
     "metadata": {},
     "output_type": "execute_result"
    }
   ],
   "source": [
    "syn_comb_df = syn_comb_df.sort_values('counts', ascending=False, ignore_index=True)\n",
    "syn_comb_df[:10]"
   ]
  },
  {
   "cell_type": "code",
   "execution_count": 57,
   "id": "12e6fa8b",
   "metadata": {
    "ExecuteTime": {
     "end_time": "2021-11-29T18:42:11.284107Z",
     "start_time": "2021-11-29T18:42:11.280271Z"
    }
   },
   "outputs": [
    {
     "name": "stdout",
     "output_type": "stream",
     "text": [
      "유미 시너지: ['아카데미', '포근', '학자']\n",
      "잔나 시너지: ['고물상', '강화술사', '학자']\n"
     ]
    }
   ],
   "source": [
    "print(f\"유미 시너지: {champions['유미']['synergy']}\")\n",
    "print(f\"잔나 시너지: {champions['잔나']['synergy']}\")"
   ]
  },
  {
   "cell_type": "markdown",
   "id": "49d8b4c3",
   "metadata": {},
   "source": [
    "상위 10개의 가장 많이 사용된 조합입니다.  \n",
    "가장 많이 사용된 조합은 '포근'과 '학자'입니다. 하지만 이는 챔피언 '유미'가 가진 조합이므로 유미 챔피언 자체가 많이 사용되는 것을 알 수 있습니다.  \n",
    "'유미'는 5코스트 챔피언 중 8번이나 기용된 챔피언으로 전체 챔피언에선 '잔나'에 이어 2번째로 많이 기용된 챔피언입니다.  \n",
    "이것으로보아 '유미'챔피언은 그 자체의 성능이 매우 뛰어난 것으로 판단됩니다.  \n",
    "두번째로 많이 사용된 시너지 조합은 ('경호대'와 '아카데미'), ('강화술사', '학자')입니다.  \n",
    "여기서 특이한 점은 '잔나'와 '유미'가 많이 사용된다는 것을 시너지를 통해 알 수 있습니다. 자주 등장하는 시너지는 '잔나'와 '유미'의 등장빈도와 비슷한 것을 알 수 있습니다."
   ]
  },
  {
   "cell_type": "markdown",
   "id": "b93f5d9c",
   "metadata": {},
   "source": [
    "## high deck data EDA"
   ]
  },
  {
   "cell_type": "markdown",
   "id": "addcfda8",
   "metadata": {},
   "source": [
    "천상계 (상위 2.5%) 플레이어들이 자주 기용하는 조합입니다.  \n",
    "이 데이터와 함께 볼 수 있는 가장 중요하게 바라볼 것은 '과연 추천 메타에 있는 조합은 천상계에서 사용하는 조합과 얼마나 일치할까?'입니다."
   ]
  },
  {
   "cell_type": "markdown",
   "id": "94261c1d",
   "metadata": {},
   "source": [
    "### high deck champion trend"
   ]
  },
  {
   "cell_type": "code",
   "execution_count": 58,
   "id": "96840f7a",
   "metadata": {
    "ExecuteTime": {
     "end_time": "2021-11-29T18:42:11.291654Z",
     "start_time": "2021-11-29T18:42:11.285757Z"
    }
   },
   "outputs": [],
   "source": [
    "from collections import Counter\n",
    "meta_champions = [champ for meta in meta_deck_df['units'].tolist() for champ in meta]\n",
    "\n",
    "champ_counts = dict(Counter(meta_champions))\n",
    "champ_counts_df = pd.DataFrame(columns=['name', 'counts', 'cost', 'synergies'])\n",
    "champ_counts_df['name'] = champ_counts.keys()\n",
    "champ_counts_df['counts'] = champ_counts.values()"
   ]
  },
  {
   "cell_type": "code",
   "execution_count": 59,
   "id": "8f77f9d0",
   "metadata": {
    "ExecuteTime": {
     "end_time": "2021-11-29T18:42:11.345081Z",
     "start_time": "2021-11-29T18:42:11.293424Z"
    }
   },
   "outputs": [
    {
     "data": {
      "application/vnd.jupyter.widget-view+json": {
       "model_id": "149c4147f20e4e57a4a7aea510d792df",
       "version_major": 2,
       "version_minor": 0
      },
      "text/plain": [
       "  0%|          | 0/55 [00:00<?, ?it/s]"
      ]
     },
     "metadata": {},
     "output_type": "display_data"
    },
    {
     "data": {
      "application/vnd.jupyter.widget-view+json": {
       "model_id": "1a9ddf2c54ba4ad1af0afd7e63f1e350",
       "version_major": 2,
       "version_minor": 0
      },
      "text/plain": [
       "  0%|          | 0/55 [00:00<?, ?it/s]"
      ]
     },
     "metadata": {},
     "output_type": "display_data"
    }
   ],
   "source": [
    "high_champions = [champ for meta in high_deck_df['units'].tolist() for champ in meta]\n",
    "\n",
    "high_counts = dict(Counter(high_champions))\n",
    "high_counts_df = pd.DataFrame(columns=['name', 'counts', 'cost', 'synergies'])\n",
    "high_counts_df['name'] = high_counts.keys()\n",
    "high_counts_df['counts'] = high_counts.values()\n",
    "\n",
    "high_counts_df['cost'] = high_counts_df.progress_apply(lambda x: int(champions[x['name']]['cost']), axis=1)\n",
    "high_counts_df['synergies'] = high_counts_df.progress_apply(lambda x: champions[x['name']]['synergy'], axis=1)\n",
    "high_counts_df = high_counts_df.sort_values('counts', ascending=False, ignore_index=True)"
   ]
  },
  {
   "cell_type": "code",
   "execution_count": 60,
   "id": "77a07e1a",
   "metadata": {
    "ExecuteTime": {
     "end_time": "2021-11-29T18:42:11.354810Z",
     "start_time": "2021-11-29T18:42:11.346573Z"
    }
   },
   "outputs": [
    {
     "data": {
      "text/html": [
       "<div>\n",
       "<style scoped>\n",
       "    .dataframe tbody tr th:only-of-type {\n",
       "        vertical-align: middle;\n",
       "    }\n",
       "\n",
       "    .dataframe tbody tr th {\n",
       "        vertical-align: top;\n",
       "    }\n",
       "\n",
       "    .dataframe thead th {\n",
       "        text-align: right;\n",
       "    }\n",
       "</style>\n",
       "<table border=\"1\" class=\"dataframe\">\n",
       "  <thead>\n",
       "    <tr style=\"text-align: right;\">\n",
       "      <th></th>\n",
       "      <th>name</th>\n",
       "      <th>counts</th>\n",
       "      <th>cost</th>\n",
       "      <th>synergies</th>\n",
       "    </tr>\n",
       "  </thead>\n",
       "  <tbody>\n",
       "    <tr>\n",
       "      <th>0</th>\n",
       "      <td>잔나</td>\n",
       "      <td>17</td>\n",
       "      <td>4</td>\n",
       "      <td>[고물상, 강화술사, 학자]</td>\n",
       "    </tr>\n",
       "    <tr>\n",
       "      <th>1</th>\n",
       "      <td>유미</td>\n",
       "      <td>13</td>\n",
       "      <td>5</td>\n",
       "      <td>[아카데미, 포근, 학자]</td>\n",
       "    </tr>\n",
       "    <tr>\n",
       "      <th>2</th>\n",
       "      <td>블리츠크랭크</td>\n",
       "      <td>9</td>\n",
       "      <td>2</td>\n",
       "      <td>[고물상, 경호대, 봉쇄자]</td>\n",
       "    </tr>\n",
       "    <tr>\n",
       "      <th>3</th>\n",
       "      <td>타릭</td>\n",
       "      <td>9</td>\n",
       "      <td>3</td>\n",
       "      <td>[사교계, 강화술사]</td>\n",
       "    </tr>\n",
       "    <tr>\n",
       "      <th>4</th>\n",
       "      <td>제이스</td>\n",
       "      <td>9</td>\n",
       "      <td>5</td>\n",
       "      <td>[집행자, 변형술사, 혁신가]</td>\n",
       "    </tr>\n",
       "  </tbody>\n",
       "</table>\n",
       "</div>"
      ],
      "text/plain": [
       "     name  counts  cost         synergies\n",
       "0      잔나      17     4   [고물상, 강화술사, 학자]\n",
       "1      유미      13     5    [아카데미, 포근, 학자]\n",
       "2  블리츠크랭크       9     2   [고물상, 경호대, 봉쇄자]\n",
       "3      타릭       9     3       [사교계, 강화술사]\n",
       "4     제이스       9     5  [집행자, 변형술사, 혁신가]"
      ]
     },
     "execution_count": 60,
     "metadata": {},
     "output_type": "execute_result"
    }
   ],
   "source": [
    "high_counts_df.head()"
   ]
  },
  {
   "cell_type": "code",
   "execution_count": 61,
   "id": "5eff8fcf",
   "metadata": {
    "ExecuteTime": {
     "end_time": "2021-11-29T18:42:11.373363Z",
     "start_time": "2021-11-29T18:42:11.356607Z"
    }
   },
   "outputs": [
    {
     "name": "stdout",
     "output_type": "stream",
     "text": [
      "전체 챔피언의 수: 59\n",
      "전체 상위권 메타 덱의 수: 30\n",
      "상위권 메타에 사용된 챔피언의 수: 55\n",
      "상위권 메타에 사용되지 않은 챔피언: ['일라오이', '갱플랭크', '다리우스', '자이라']\n",
      "가장 많이(17) 사용된 챔피언: ['잔나']\n",
      "가장 적게(1) 사용된 챔피언: ['가렌' '갈리오' '그레이브즈' '리산드라' '미스 포츈' '사이온' '우르곳' '자크' '코그모' '탐 켄치'\n",
      " '트위스티드 페이트' '트위치']\n",
      "\n",
      "        count      mean       std  min  25%  50%  75%   max\n",
      "counts   55.0  4.436364  3.365201  1.0  2.0  3.0  6.5  17.0\n",
      "cost     55.0  2.909091  1.378038  1.0  2.0  3.0  4.0   5.0\n"
     ]
    }
   ],
   "source": [
    "print(f'전체 챔피언의 수: {len(champions)}')\n",
    "print(f'전체 상위권 메타 덱의 수: {len(high_deck_df)}')\n",
    "print(f'상위권 메타에 사용된 챔피언의 수: {len(high_counts_df)}')\n",
    "unuse = set(champions.keys()) - set(high_counts_df['name'].values)\n",
    "print(f'상위권 메타에 사용되지 않은 챔피언: {list(unuse)}')\n",
    "max_list = high_counts_df[high_counts_df['counts'] == high_counts_df['counts'].max()].sort_values('name')\n",
    "min_list = high_counts_df[high_counts_df['counts'] == high_counts_df['counts'].min()].sort_values('name')\n",
    "print(f'가장 많이({high_counts_df.counts.max()}) 사용된 챔피언: {max_list.name.values}')\n",
    "print(f'가장 적게({high_counts_df.counts.min()}) 사용된 챔피언: {min_list.name.values}')\n",
    "\n",
    "print()\n",
    "print(high_counts_df.describe().T)"
   ]
  },
  {
   "cell_type": "markdown",
   "id": "6a867c8b",
   "metadata": {},
   "source": [
    "추천메타에 비해 12개 더 많은 조합이 존재합니다.  \n",
    "하지만 오히려 사용되지 않은 챔피언의 수는 증가한 것을 알 수 있습니다.\n",
    "특이한 점은 가장 많이 사용된 챔피언이 '잔나'인 것은 변하지 않는 것을 알 수 있습니다.  \n",
    "대신 오히려 적게 사용된 챔피언의 종류가 줄어든 것으로 보아 상위권은 조합의 다양성이 증가한 것을 알 수 있습니다."
   ]
  },
  {
   "cell_type": "code",
   "execution_count": 62,
   "id": "55b8f5b7",
   "metadata": {
    "ExecuteTime": {
     "end_time": "2021-11-29T18:42:11.391340Z",
     "start_time": "2021-11-29T18:42:11.375140Z"
    }
   },
   "outputs": [
    {
     "name": "stdout",
     "output_type": "stream",
     "text": [
      "1 코스트 챔피언들의 메타 기용률 : 0.0%\n",
      "2 코스트 챔피언들의 메타 기용률 : 0.0%\n",
      "3 코스트 챔피언들의 메타 기용률 : 0.0%\n",
      "4 코스트 챔피언들의 메타 기용률 : 0.0%\n",
      "5 코스트 챔피언들의 메타 기용률 : 0.0%\n"
     ]
    }
   ],
   "source": [
    "\"\"\"\n",
    "추천 메타의 코스트 기용률\n",
    "1 코스트 챔피언들의 메타 기용률 : 12.0%\n",
    "2 코스트 챔피언들의 메타 기용률 : 18.0%\n",
    "3 코스트 챔피언들의 메타 기용률 : 22.0%\n",
    "4 코스트 챔피언들의 메타 기용률 : 27.0%\n",
    "5 코스트 챔피언들의 메타 기용률 : 21.0%\n",
    "\"\"\"\n",
    "\n",
    "df = pd.DataFrame(columns=['cost', 'select'])\n",
    "df['cost'] = [1,2,3,4,5]\n",
    "for i in range(1, 6):\n",
    "    df.loc[(df['cost'] == i), 'select'] = high_counts_df[champ_counts_df.cost == i]['counts'].sum()\n",
    "\n",
    "total = high_counts_df['counts'].sum()\n",
    "\n",
    "for i in range(len(df)):\n",
    "    print(f'{i+1} 코스트 챔피언들의 메타 기용률 : {round(df.loc[i].select/total,2) * 100}%')"
   ]
  },
  {
   "cell_type": "markdown",
   "id": "5ac102eb",
   "metadata": {},
   "source": [
    "![](./cost.png)"
   ]
  },
  {
   "cell_type": "markdown",
   "id": "43643e79",
   "metadata": {},
   "source": [
    "추천메타와 유사하게 3, 4, 5코스트 챔피언의 기용률이 높은 것을 알 수 있습니다.  \n",
    "하지만 눈에 띄게 특이한 것은 4코스트 챔피언들의 기용률이 증가하였고 5코스트 챔피언의 기용률이 감소한 것을 알 수 있습니다.  \n",
    "이는 5코스트 챔피언의 확률과 관련이 있는 것으로 보이는데 5코스트 (그림의 티어 5) 챔피언의 최대 확률을 15%입니다.  \n",
    "따라서 얻기 힘든 확률의 5코스트에 투자하는 것보단 좀 더 높은 확률의 4코스트 (그림의 티어 4)에 투자를 하는 것을 선호하는 것으로 보입니다."
   ]
  },
  {
   "cell_type": "markdown",
   "id": "81c86560",
   "metadata": {},
   "source": [
    "이번에는 천상계에서 각 코스트별 어떤 챔피언은 많이 기용했는지 확인하겠습니다."
   ]
  },
  {
   "cell_type": "code",
   "execution_count": 63,
   "id": "3143f721",
   "metadata": {
    "ExecuteTime": {
     "end_time": "2021-11-29T18:42:11.410394Z",
     "start_time": "2021-11-29T18:42:11.400050Z"
    }
   },
   "outputs": [
    {
     "name": "stdout",
     "output_type": "stream",
     "text": [
      "1 코스트에서 가장 많이 기용된 챔피언: ['이즈리얼'], 기용횟수: 7회\n",
      "2 코스트에서 가장 많이 기용된 챔피언: ['블리츠크랭크'], 기용횟수: 9회\n",
      "3 코스트에서 가장 많이 기용된 챔피언: ['타릭' '레오나'], 기용횟수: 9회\n",
      "4 코스트에서 가장 많이 기용된 챔피언: ['잔나'], 기용횟수: 17회\n",
      "5 코스트에서 가장 많이 기용된 챔피언: ['유미'], 기용횟수: 13회\n"
     ]
    }
   ],
   "source": [
    "\"\"\"\n",
    "추천 메타 데이터\n",
    "1 코스트에서 가장 많이 기용된 챔피언: ['카사딘'], 기용횟수: 3회\n",
    "2 코스트에서 가장 많이 기용된 챔피언: ['블리츠크랭크' '바이'], 기용횟수: 4회\n",
    "3 코스트에서 가장 많이 기용된 챔피언: ['레오나'], 기용횟수: 5회\n",
    "4 코스트에서 가장 많이 기용된 챔피언: ['잔나'], 기용횟수: 9회\n",
    "5 코스트에서 가장 많이 기용된 챔피언: ['유미'], 기용횟수: 8회\n",
    "\"\"\"\n",
    "\n",
    "for i in range(1, 6):\n",
    "    data = high_counts_df[high_counts_df['cost'] == i]\n",
    "    max_val = data['counts'].max()\n",
    "    max_data = data[data['counts'] == max_val]\n",
    "    print(f'{i} 코스트에서 가장 많이 기용된 챔피언: {max_data.name.values}, 기용횟수: {max_val}회')"
   ]
  },
  {
   "cell_type": "markdown",
   "id": "2740a0a6",
   "metadata": {},
   "source": [
    "4코스트와 5코스트에서 가장 많이 기용된 챔피언은 '잔나'와 '유미'로 동일한 것을 알 수 있습니다.  \n",
    "또한 2, 3코스트의 기용 챔피언도 유사한 경향을 보이는 것을 알 수 있습니다."
   ]
  },
  {
   "cell_type": "markdown",
   "id": "ccd42f50",
   "metadata": {},
   "source": [
    "### high deck synergy trend"
   ]
  },
  {
   "cell_type": "markdown",
   "id": "d21ffc9a",
   "metadata": {},
   "source": [
    "이번에는 천상계덱에 사용되는 시너지를 확인하겠습니다.  \n",
    "우선 가장 많이 활용된 시너지를 확인하겠습니다."
   ]
  },
  {
   "cell_type": "code",
   "execution_count": 64,
   "id": "72b8da4c",
   "metadata": {
    "ExecuteTime": {
     "end_time": "2021-11-29T18:42:11.418839Z",
     "start_time": "2021-11-29T18:42:11.416018Z"
    }
   },
   "outputs": [],
   "source": [
    "high_synergy = high_deck_df['synergy'].tolist()"
   ]
  },
  {
   "cell_type": "code",
   "execution_count": 65,
   "id": "dd6328b1",
   "metadata": {
    "ExecuteTime": {
     "end_time": "2021-11-29T18:42:11.426832Z",
     "start_time": "2021-11-29T18:42:11.420901Z"
    }
   },
   "outputs": [],
   "source": [
    "high_synergy_counts = dict(Counter([k for meta in high_synergy for k in meta.keys()]))\n",
    "high_synergy_counts_df = pd.DataFrame(columns=['synergy', 'counts'])\n",
    "high_synergy_counts_df['synergy'] = high_synergy_counts.keys()\n",
    "high_synergy_counts_df['counts'] = high_synergy_counts.values()\n",
    "high_synergy_counts_df = high_synergy_counts_df.sort_values('counts', ascending=False, ignore_index=True)"
   ]
  },
  {
   "cell_type": "code",
   "execution_count": 66,
   "id": "4381e1f3",
   "metadata": {
    "ExecuteTime": {
     "end_time": "2021-11-29T18:42:11.435540Z",
     "start_time": "2021-11-29T18:42:11.429310Z"
    }
   },
   "outputs": [
    {
     "data": {
      "text/html": [
       "<div>\n",
       "<style scoped>\n",
       "    .dataframe tbody tr th:only-of-type {\n",
       "        vertical-align: middle;\n",
       "    }\n",
       "\n",
       "    .dataframe tbody tr th {\n",
       "        vertical-align: top;\n",
       "    }\n",
       "\n",
       "    .dataframe thead th {\n",
       "        text-align: right;\n",
       "    }\n",
       "</style>\n",
       "<table border=\"1\" class=\"dataframe\">\n",
       "  <thead>\n",
       "    <tr style=\"text-align: right;\">\n",
       "      <th></th>\n",
       "      <th>synergy</th>\n",
       "      <th>counts</th>\n",
       "    </tr>\n",
       "  </thead>\n",
       "  <tbody>\n",
       "    <tr>\n",
       "      <th>0</th>\n",
       "      <td>고물상</td>\n",
       "      <td>18</td>\n",
       "    </tr>\n",
       "    <tr>\n",
       "      <th>1</th>\n",
       "      <td>아카데미</td>\n",
       "      <td>18</td>\n",
       "    </tr>\n",
       "    <tr>\n",
       "      <th>2</th>\n",
       "      <td>학자</td>\n",
       "      <td>16</td>\n",
       "    </tr>\n",
       "    <tr>\n",
       "      <th>3</th>\n",
       "      <td>사교계</td>\n",
       "      <td>14</td>\n",
       "    </tr>\n",
       "    <tr>\n",
       "      <th>4</th>\n",
       "      <td>포근</td>\n",
       "      <td>13</td>\n",
       "    </tr>\n",
       "  </tbody>\n",
       "</table>\n",
       "</div>"
      ],
      "text/plain": [
       "  synergy  counts\n",
       "0     고물상      18\n",
       "1    아카데미      18\n",
       "2      학자      16\n",
       "3     사교계      14\n",
       "4      포근      13"
      ]
     },
     "execution_count": 66,
     "metadata": {},
     "output_type": "execute_result"
    }
   ],
   "source": [
    "high_synergy_counts_df.head()"
   ]
  },
  {
   "cell_type": "code",
   "execution_count": 67,
   "id": "fbe1ac3b",
   "metadata": {
    "ExecuteTime": {
     "end_time": "2021-11-29T18:42:11.452021Z",
     "start_time": "2021-11-29T18:42:11.437222Z"
    }
   },
   "outputs": [
    {
     "name": "stdout",
     "output_type": "stream",
     "text": [
      "전체 시너지의 수: 28\n",
      "전체 상위권 메타 덱의 수: 30\n",
      "상위권 메타에 사용된 시너지 수: 26\n",
      "상위권 메타에 사용되지 않은 시너지: ['제국', '용병']\n",
      "가장 많이(18) 사용된 시너지: ['고물상' '아카데미']\n",
      "가장 적게(1) 사용된 시너지: ['대식가' '범죄 조직' '화학공학']\n",
      "\n",
      "        count      mean       std  min  25%  50%   75%   max\n",
      "counts   26.0  6.653846  5.505941  1.0  2.0  5.0  10.5  18.0\n"
     ]
    }
   ],
   "source": [
    "print(f'전체 시너지의 수: {len(synergies)}')\n",
    "print(f'전체 상위권 메타 덱의 수: {len(high_deck_df)}')\n",
    "print(f'상위권 메타에 사용된 시너지 수: {len(high_synergy_counts_df)}')\n",
    "unuse = set(synergies.values()) - set(high_synergy_counts_df['synergy'].values)\n",
    "print(f'상위권 메타에 사용되지 않은 시너지: {list(unuse)}')\n",
    "max_list = high_synergy_counts_df[high_synergy_counts_df['counts'] == high_synergy_counts_df['counts'].max()].sort_values('synergy')\n",
    "min_list = high_synergy_counts_df[high_synergy_counts_df['counts'] == high_synergy_counts_df['counts'].min()].sort_values('synergy')\n",
    "print(f'가장 많이({high_synergy_counts_df.counts.max()}) 사용된 시너지: {max_list.synergy.values}')\n",
    "print(f'가장 적게({high_synergy_counts_df.counts.min()}) 사용된 시너지: {min_list.synergy.values}')\n",
    "\n",
    "print()\n",
    "print(high_synergy_counts_df.describe().T)"
   ]
  },
  {
   "cell_type": "markdown",
   "id": "c5dee636",
   "metadata": {},
   "source": [
    "추천 메타의 결과와 다르게 '고물상'시너지가 가장 많이 사용된 것을 알 수 있습니다.  \n",
    "'고물상' 시너지의 효과는 장착 아이템이 완성 아이템이 아닌 재료인 경우 해당 아이템을 완성 아이템으로 만들어줍니다.  \n",
    "이를 토대로 보면 상위권에서는 시너지 자체의 파워보다 아이템의 보유량이 영향을 많이 미치는 것으로 판단할 수도 있습니다.  \n",
    "하지만 여기서 주목해야할 것은 '잔나'의 시너지입니다.  \n",
    "상위권에서는 '잔나' 챔피언이 압도적으로 많이 기용됩니다. '잔나'의 시너지 중 하나가 '고물상'인만큼 '고물상'이 사용될 확률이 높을 것입니다.  \n",
    "하지만 '고물상'은 '고물상' 챔피언이 2개 이상 공존해야 발동되므로 이외에 같이 사용되는 챔피언이 있을 것으로 보입니다."
   ]
  },
  {
   "cell_type": "markdown",
   "id": "09dd1181",
   "metadata": {},
   "source": [
    "추천 메타와 마찬가지로 가장 많이 사용된 부분 조합을 확인하겠습니다."
   ]
  },
  {
   "cell_type": "code",
   "execution_count": 68,
   "id": "67aeb7f2",
   "metadata": {
    "ExecuteTime": {
     "end_time": "2021-11-29T18:42:11.459826Z",
     "start_time": "2021-11-29T18:42:11.453844Z"
    }
   },
   "outputs": [],
   "source": [
    "high_synergy_list = [list(meta.keys()) for meta in high_synergy]\n",
    "all_syn_comb = []\n",
    "\n",
    "for syn in high_synergy_list:\n",
    "    for comb in all_subsets(syn):\n",
    "        all_syn_comb.append(tuple(sorted(comb, key=lambda x: x)))"
   ]
  },
  {
   "cell_type": "code",
   "execution_count": 69,
   "id": "9068854b",
   "metadata": {
    "ExecuteTime": {
     "end_time": "2021-11-29T18:42:11.497856Z",
     "start_time": "2021-11-29T18:42:11.461597Z"
    }
   },
   "outputs": [],
   "source": [
    "syn_comb_dic = dict()\n",
    "\n",
    "for syn in set(all_syn_comb):\n",
    "    syn_comb_dic[syn] = 0\n",
    "    for meta_syn in high_synergy_list:\n",
    "        if len(set(syn) - set(meta_syn)) == 0:\n",
    "            syn_comb_dic[syn] += 1"
   ]
  },
  {
   "cell_type": "code",
   "execution_count": 70,
   "id": "51a0ab60",
   "metadata": {
    "ExecuteTime": {
     "end_time": "2021-11-29T18:42:11.507082Z",
     "start_time": "2021-11-29T18:42:11.499880Z"
    }
   },
   "outputs": [],
   "source": [
    "syn_comb_df = pd.DataFrame(columns=['syn_comb', 'counts'])\n",
    "syn_comb_df['syn_comb'] = syn_comb_dic.keys()\n",
    "syn_comb_df['counts'] = syn_comb_dic.values()"
   ]
  },
  {
   "cell_type": "code",
   "execution_count": 71,
   "id": "ff94cbb5",
   "metadata": {
    "ExecuteTime": {
     "end_time": "2021-11-29T18:42:11.520066Z",
     "start_time": "2021-11-29T18:42:11.509781Z"
    }
   },
   "outputs": [
    {
     "data": {
      "text/html": [
       "<div>\n",
       "<style scoped>\n",
       "    .dataframe tbody tr th:only-of-type {\n",
       "        vertical-align: middle;\n",
       "    }\n",
       "\n",
       "    .dataframe tbody tr th {\n",
       "        vertical-align: top;\n",
       "    }\n",
       "\n",
       "    .dataframe thead th {\n",
       "        text-align: right;\n",
       "    }\n",
       "</style>\n",
       "<table border=\"1\" class=\"dataframe\">\n",
       "  <thead>\n",
       "    <tr style=\"text-align: right;\">\n",
       "      <th></th>\n",
       "      <th>syn_comb</th>\n",
       "      <th>counts</th>\n",
       "    </tr>\n",
       "  </thead>\n",
       "  <tbody>\n",
       "    <tr>\n",
       "      <th>0</th>\n",
       "      <td>(강화술사, 학자)</td>\n",
       "      <td>11</td>\n",
       "    </tr>\n",
       "    <tr>\n",
       "      <th>1</th>\n",
       "      <td>(아카데미, 포근)</td>\n",
       "      <td>11</td>\n",
       "    </tr>\n",
       "    <tr>\n",
       "      <th>2</th>\n",
       "      <td>(고물상, 아카데미)</td>\n",
       "      <td>10</td>\n",
       "    </tr>\n",
       "    <tr>\n",
       "      <th>3</th>\n",
       "      <td>(고물상, 학자)</td>\n",
       "      <td>10</td>\n",
       "    </tr>\n",
       "    <tr>\n",
       "      <th>4</th>\n",
       "      <td>(포근, 학자)</td>\n",
       "      <td>10</td>\n",
       "    </tr>\n",
       "    <tr>\n",
       "      <th>5</th>\n",
       "      <td>(사교계, 학자)</td>\n",
       "      <td>9</td>\n",
       "    </tr>\n",
       "    <tr>\n",
       "      <th>6</th>\n",
       "      <td>(경호대, 아카데미)</td>\n",
       "      <td>9</td>\n",
       "    </tr>\n",
       "    <tr>\n",
       "      <th>7</th>\n",
       "      <td>(고물상, 사교계)</td>\n",
       "      <td>9</td>\n",
       "    </tr>\n",
       "    <tr>\n",
       "      <th>8</th>\n",
       "      <td>(아카데미, 포근, 학자)</td>\n",
       "      <td>8</td>\n",
       "    </tr>\n",
       "    <tr>\n",
       "      <th>9</th>\n",
       "      <td>(강화술사, 사교계)</td>\n",
       "      <td>8</td>\n",
       "    </tr>\n",
       "  </tbody>\n",
       "</table>\n",
       "</div>"
      ],
      "text/plain": [
       "         syn_comb  counts\n",
       "0      (강화술사, 학자)      11\n",
       "1      (아카데미, 포근)      11\n",
       "2     (고물상, 아카데미)      10\n",
       "3       (고물상, 학자)      10\n",
       "4        (포근, 학자)      10\n",
       "5       (사교계, 학자)       9\n",
       "6     (경호대, 아카데미)       9\n",
       "7      (고물상, 사교계)       9\n",
       "8  (아카데미, 포근, 학자)       8\n",
       "9     (강화술사, 사교계)       8"
      ]
     },
     "execution_count": 71,
     "metadata": {},
     "output_type": "execute_result"
    }
   ],
   "source": [
    "\"\"\"\n",
    "    syn_comb\tcounts\n",
    "0\t(포근, 학자)\t7\n",
    "1\t(경호대, 아카데미)\t6\n",
    "2\t(강화술사, 학자)\t6\n",
    "3\t(아카데미, 포근)\t5\n",
    "4\t(고물상, 학자)\t5\n",
    "5\t(아카데미, 학자)\t4\n",
    "6\t(난동꾼, 집행자)\t4\n",
    "7\t(강화술사, 포근)\t4\n",
    "8\t(강화술사, 시계태엽)\t4\n",
    "9\t(강화술사, 포근, 학자)\t4\n",
    "\"\"\"\n",
    "syn_comb_df = syn_comb_df.sort_values('counts', ascending=False, ignore_index=True)\n",
    "syn_comb_df[:10]"
   ]
  },
  {
   "cell_type": "markdown",
   "id": "fe2b5ca8",
   "metadata": {
    "ExecuteTime": {
     "end_time": "2021-11-29T16:03:28.412936Z",
     "start_time": "2021-11-29T16:03:28.408658Z"
    }
   },
   "source": [
    "앞서 보았던 추천 메타와 다르게 ('강화술사', '학자')가 높은 비율로 나타나는 것을 알 수 있습니다.  \n",
    "이는 '잔나'가 가진 시너지의 조합과 일치하며 역시나 '잔나'의 기용이 높은 것으로 보입니다."
   ]
  },
  {
   "cell_type": "markdown",
   "id": "cc0c2517",
   "metadata": {},
   "source": [
    "### Champions uitlity cost"
   ]
  },
  {
   "cell_type": "markdown",
   "id": "38d33815",
   "metadata": {},
   "source": [
    "이번에는 천상계 메타에서 챔피언들의 효용가치를 계산하겠습니다.  \n",
    "효용가치 식은 아래와 같이 정의하겠습니다.  \n",
    "$$\n",
    "\\text{효용가치(utility_cost)} = \\frac{\\text{챔피언의 기용횟수(counts)}}{\\text{챔피언의 코스트(cost)}} \\times \\frac{\\text{챔피언 사용 덱의 평균승률}\\times \\text{챔피언 사용 덱의 평균 top4 비율}}{\\text{챔피언이 사용된 덱들의 평균등수의 평균}}\n",
    "$$  \n",
    "챔피언이 많이 기용될수록 가치가 높다고 판단하지만 그에 비해 챔피언의 코스트는 투자비용으로 바라볼 수 있습니다.  \n",
    "또한 해당 챔피언이 포함된 덱들의 평균 승률과 top4비율이 높을수록 승리에 기여한다고 볼 수 있으며 평균등수들의 평균이 낮을수록 높은 가중치를 갖습니다."
   ]
  },
  {
   "cell_type": "code",
   "execution_count": 72,
   "id": "147af8d3",
   "metadata": {
    "ExecuteTime": {
     "end_time": "2021-11-29T18:42:11.528063Z",
     "start_time": "2021-11-29T18:42:11.521951Z"
    }
   },
   "outputs": [],
   "source": [
    "champions_df = pd.DataFrame(columns=['name', 'cost'])\n",
    "champions_df['name'] = champions.keys()\n",
    "champions_df['cost'] = champions_df['name'].apply(lambda x: champions[x]['cost'])"
   ]
  },
  {
   "cell_type": "code",
   "execution_count": 73,
   "id": "bfe92e3c",
   "metadata": {
    "ExecuteTime": {
     "end_time": "2021-11-29T18:42:11.546534Z",
     "start_time": "2021-11-29T18:42:11.530147Z"
    }
   },
   "outputs": [],
   "source": [
    "champions_df = pd.merge(champions_df, high_counts_df[['name', 'counts']], how='outer', on='name').fillna(0)\n",
    "champions_df.counts = champions_df.counts.astype(int)"
   ]
  },
  {
   "cell_type": "code",
   "execution_count": 74,
   "id": "321a029f",
   "metadata": {
    "ExecuteTime": {
     "end_time": "2021-11-29T18:42:11.552796Z",
     "start_time": "2021-11-29T18:42:11.548481Z"
    }
   },
   "outputs": [],
   "source": [
    "def get_avg_data(x):\n",
    "    \"\"\"\n",
    "    x: name\n",
    "    \"\"\"\n",
    "    avg_avg_rank = 0\n",
    "    avg_win_rate = 0\n",
    "    avg_top4_rate = 0\n",
    "    tmp = []\n",
    "    \n",
    "    for idx, unit in enumerate(high_deck_df['units']):\n",
    "        if x in unit:\n",
    "            tmp.append(idx)\n",
    "            \n",
    "    avg_avg_rank = round(high_deck_df.loc[tmp]['avg_rank'].mean(), 2)\n",
    "    avg_win_rate = round(high_deck_df.loc[tmp]['win_rate'].mean()/100, 2)\n",
    "    avg_top4_rate = round(high_deck_df.loc[tmp]['top4_rate'].mean()/100, 2)\n",
    "    return (avg_avg_rank, avg_win_rate, avg_top4_rate)"
   ]
  },
  {
   "cell_type": "code",
   "execution_count": 75,
   "id": "15485209",
   "metadata": {
    "ExecuteTime": {
     "end_time": "2021-11-29T18:42:11.847308Z",
     "start_time": "2021-11-29T18:42:11.554984Z"
    },
    "scrolled": true
   },
   "outputs": [
    {
     "data": {
      "application/vnd.jupyter.widget-view+json": {
       "model_id": "1f26c6a2f34f4c23b2d352d85fc3b0dd",
       "version_major": 2,
       "version_minor": 0
      },
      "text/plain": [
       "  0%|          | 0/59 [00:00<?, ?it/s]"
      ]
     },
     "metadata": {},
     "output_type": "display_data"
    },
    {
     "data": {
      "application/vnd.jupyter.widget-view+json": {
       "model_id": "d6c317383bd744328ce8e5fa34f2a5a4",
       "version_major": 2,
       "version_minor": 0
      },
      "text/plain": [
       "  0%|          | 0/59 [00:00<?, ?it/s]"
      ]
     },
     "metadata": {},
     "output_type": "display_data"
    },
    {
     "data": {
      "application/vnd.jupyter.widget-view+json": {
       "model_id": "e54a1e3dfb6843e39d3b2faa5cb7d14d",
       "version_major": 2,
       "version_minor": 0
      },
      "text/plain": [
       "  0%|          | 0/59 [00:00<?, ?it/s]"
      ]
     },
     "metadata": {},
     "output_type": "display_data"
    }
   ],
   "source": [
    "champions_df = champions_df.sort_values('counts', ascending=False, ignore_index=True)\n",
    "champions_df['avg_avg_rank'] = champions_df['name'].progress_apply(lambda x: get_avg_data(x)[0])\n",
    "champions_df['avg_win_rate'] = champions_df['name'].progress_apply(lambda x: get_avg_data(x)[1])\n",
    "champions_df['avg_top4_rate'] = champions_df['name'].progress_apply(lambda x: get_avg_data(x)[2])"
   ]
  },
  {
   "cell_type": "code",
   "execution_count": 76,
   "id": "0e088238",
   "metadata": {
    "ExecuteTime": {
     "end_time": "2021-11-29T18:42:11.853731Z",
     "start_time": "2021-11-29T18:42:11.849543Z"
    },
    "scrolled": true
   },
   "outputs": [],
   "source": [
    "champions_df['utility_cost'] = round((champions_df['counts']/champions_df['cost'])\\\n",
    "                                *((champions_df['avg_win_rate'] * champions_df['avg_top4_rate'])/champions_df['avg_avg_rank']),5)"
   ]
  },
  {
   "cell_type": "code",
   "execution_count": 77,
   "id": "b5dbe2bc",
   "metadata": {
    "ExecuteTime": {
     "end_time": "2021-11-29T18:42:11.876289Z",
     "start_time": "2021-11-29T18:42:11.855689Z"
    }
   },
   "outputs": [
    {
     "data": {
      "text/html": [
       "<div>\n",
       "<style scoped>\n",
       "    .dataframe tbody tr th:only-of-type {\n",
       "        vertical-align: middle;\n",
       "    }\n",
       "\n",
       "    .dataframe tbody tr th {\n",
       "        vertical-align: top;\n",
       "    }\n",
       "\n",
       "    .dataframe thead th {\n",
       "        text-align: right;\n",
       "    }\n",
       "</style>\n",
       "<table border=\"1\" class=\"dataframe\">\n",
       "  <thead>\n",
       "    <tr style=\"text-align: right;\">\n",
       "      <th></th>\n",
       "      <th>cost</th>\n",
       "      <th>counts</th>\n",
       "      <th>avg_avg_rank</th>\n",
       "      <th>avg_win_rate</th>\n",
       "      <th>avg_top4_rate</th>\n",
       "      <th>utility_cost</th>\n",
       "    </tr>\n",
       "  </thead>\n",
       "  <tbody>\n",
       "    <tr>\n",
       "      <th>count</th>\n",
       "      <td>59.000000</td>\n",
       "      <td>59.000000</td>\n",
       "      <td>55.000000</td>\n",
       "      <td>55.000000</td>\n",
       "      <td>55.000000</td>\n",
       "      <td>55.000000</td>\n",
       "    </tr>\n",
       "    <tr>\n",
       "      <th>mean</th>\n",
       "      <td>2.830508</td>\n",
       "      <td>4.135593</td>\n",
       "      <td>2.856182</td>\n",
       "      <td>0.290000</td>\n",
       "      <td>0.812545</td>\n",
       "      <td>0.155327</td>\n",
       "    </tr>\n",
       "    <tr>\n",
       "      <th>std</th>\n",
       "      <td>1.379062</td>\n",
       "      <td>3.436406</td>\n",
       "      <td>0.497659</td>\n",
       "      <td>0.073384</td>\n",
       "      <td>0.096268</td>\n",
       "      <td>0.132067</td>\n",
       "    </tr>\n",
       "    <tr>\n",
       "      <th>min</th>\n",
       "      <td>1.000000</td>\n",
       "      <td>0.000000</td>\n",
       "      <td>2.080000</td>\n",
       "      <td>0.160000</td>\n",
       "      <td>0.500000</td>\n",
       "      <td>0.004560</td>\n",
       "    </tr>\n",
       "    <tr>\n",
       "      <th>25%</th>\n",
       "      <td>2.000000</td>\n",
       "      <td>1.000000</td>\n",
       "      <td>2.540000</td>\n",
       "      <td>0.240000</td>\n",
       "      <td>0.775000</td>\n",
       "      <td>0.061275</td>\n",
       "    </tr>\n",
       "    <tr>\n",
       "      <th>50%</th>\n",
       "      <td>3.000000</td>\n",
       "      <td>3.000000</td>\n",
       "      <td>2.810000</td>\n",
       "      <td>0.280000</td>\n",
       "      <td>0.830000</td>\n",
       "      <td>0.128930</td>\n",
       "    </tr>\n",
       "    <tr>\n",
       "      <th>75%</th>\n",
       "      <td>4.000000</td>\n",
       "      <td>6.000000</td>\n",
       "      <td>3.020000</td>\n",
       "      <td>0.350000</td>\n",
       "      <td>0.860000</td>\n",
       "      <td>0.204120</td>\n",
       "    </tr>\n",
       "    <tr>\n",
       "      <th>max</th>\n",
       "      <td>5.000000</td>\n",
       "      <td>17.000000</td>\n",
       "      <td>4.370000</td>\n",
       "      <td>0.460000</td>\n",
       "      <td>0.940000</td>\n",
       "      <td>0.709570</td>\n",
       "    </tr>\n",
       "  </tbody>\n",
       "</table>\n",
       "</div>"
      ],
      "text/plain": [
       "            cost     counts  avg_avg_rank  avg_win_rate  avg_top4_rate  \\\n",
       "count  59.000000  59.000000     55.000000     55.000000      55.000000   \n",
       "mean    2.830508   4.135593      2.856182      0.290000       0.812545   \n",
       "std     1.379062   3.436406      0.497659      0.073384       0.096268   \n",
       "min     1.000000   0.000000      2.080000      0.160000       0.500000   \n",
       "25%     2.000000   1.000000      2.540000      0.240000       0.775000   \n",
       "50%     3.000000   3.000000      2.810000      0.280000       0.830000   \n",
       "75%     4.000000   6.000000      3.020000      0.350000       0.860000   \n",
       "max     5.000000  17.000000      4.370000      0.460000       0.940000   \n",
       "\n",
       "       utility_cost  \n",
       "count     55.000000  \n",
       "mean       0.155327  \n",
       "std        0.132067  \n",
       "min        0.004560  \n",
       "25%        0.061275  \n",
       "50%        0.128930  \n",
       "75%        0.204120  \n",
       "max        0.709570  "
      ]
     },
     "execution_count": 77,
     "metadata": {},
     "output_type": "execute_result"
    }
   ],
   "source": [
    "champions_df = champions_df.sort_values('utility_cost', ascending=False, ignore_index=True)\n",
    "champions_df.describe()"
   ]
  },
  {
   "cell_type": "code",
   "execution_count": 78,
   "id": "552c149f",
   "metadata": {
    "ExecuteTime": {
     "end_time": "2021-11-29T18:42:11.889241Z",
     "start_time": "2021-11-29T18:42:11.878180Z"
    }
   },
   "outputs": [
    {
     "data": {
      "text/html": [
       "<div>\n",
       "<style scoped>\n",
       "    .dataframe tbody tr th:only-of-type {\n",
       "        vertical-align: middle;\n",
       "    }\n",
       "\n",
       "    .dataframe tbody tr th {\n",
       "        vertical-align: top;\n",
       "    }\n",
       "\n",
       "    .dataframe thead th {\n",
       "        text-align: right;\n",
       "    }\n",
       "</style>\n",
       "<table border=\"1\" class=\"dataframe\">\n",
       "  <thead>\n",
       "    <tr style=\"text-align: right;\">\n",
       "      <th></th>\n",
       "      <th>name</th>\n",
       "      <th>cost</th>\n",
       "      <th>counts</th>\n",
       "      <th>avg_avg_rank</th>\n",
       "      <th>avg_win_rate</th>\n",
       "      <th>avg_top4_rate</th>\n",
       "      <th>utility_cost</th>\n",
       "    </tr>\n",
       "  </thead>\n",
       "  <tbody>\n",
       "    <tr>\n",
       "      <th>0</th>\n",
       "      <td>직스</td>\n",
       "      <td>1</td>\n",
       "      <td>6</td>\n",
       "      <td>2.53</td>\n",
       "      <td>0.34</td>\n",
       "      <td>0.88</td>\n",
       "      <td>0.70957</td>\n",
       "    </tr>\n",
       "    <tr>\n",
       "      <th>1</th>\n",
       "      <td>이즈리얼</td>\n",
       "      <td>1</td>\n",
       "      <td>7</td>\n",
       "      <td>3.01</td>\n",
       "      <td>0.27</td>\n",
       "      <td>0.77</td>\n",
       "      <td>0.48349</td>\n",
       "    </tr>\n",
       "    <tr>\n",
       "      <th>3</th>\n",
       "      <td>신지드</td>\n",
       "      <td>1</td>\n",
       "      <td>5</td>\n",
       "      <td>3.03</td>\n",
       "      <td>0.28</td>\n",
       "      <td>0.76</td>\n",
       "      <td>0.35116</td>\n",
       "    </tr>\n",
       "    <tr>\n",
       "      <th>4</th>\n",
       "      <td>잔나</td>\n",
       "      <td>4</td>\n",
       "      <td>17</td>\n",
       "      <td>2.86</td>\n",
       "      <td>0.28</td>\n",
       "      <td>0.81</td>\n",
       "      <td>0.33703</td>\n",
       "    </tr>\n",
       "    <tr>\n",
       "      <th>5</th>\n",
       "      <td>블리츠크랭크</td>\n",
       "      <td>2</td>\n",
       "      <td>9</td>\n",
       "      <td>2.84</td>\n",
       "      <td>0.24</td>\n",
       "      <td>0.83</td>\n",
       "      <td>0.31563</td>\n",
       "    </tr>\n",
       "    <tr>\n",
       "      <th>7</th>\n",
       "      <td>벡스</td>\n",
       "      <td>3</td>\n",
       "      <td>8</td>\n",
       "      <td>2.61</td>\n",
       "      <td>0.32</td>\n",
       "      <td>0.87</td>\n",
       "      <td>0.28444</td>\n",
       "    </tr>\n",
       "    <tr>\n",
       "      <th>8</th>\n",
       "      <td>스웨인</td>\n",
       "      <td>2</td>\n",
       "      <td>6</td>\n",
       "      <td>2.73</td>\n",
       "      <td>0.30</td>\n",
       "      <td>0.85</td>\n",
       "      <td>0.28022</td>\n",
       "    </tr>\n",
       "    <tr>\n",
       "      <th>9</th>\n",
       "      <td>타릭</td>\n",
       "      <td>3</td>\n",
       "      <td>9</td>\n",
       "      <td>2.73</td>\n",
       "      <td>0.29</td>\n",
       "      <td>0.84</td>\n",
       "      <td>0.26769</td>\n",
       "    </tr>\n",
       "    <tr>\n",
       "      <th>10</th>\n",
       "      <td>카타리나</td>\n",
       "      <td>2</td>\n",
       "      <td>6</td>\n",
       "      <td>2.78</td>\n",
       "      <td>0.24</td>\n",
       "      <td>0.85</td>\n",
       "      <td>0.22014</td>\n",
       "    </tr>\n",
       "    <tr>\n",
       "      <th>11</th>\n",
       "      <td>탈론</td>\n",
       "      <td>2</td>\n",
       "      <td>6</td>\n",
       "      <td>2.78</td>\n",
       "      <td>0.24</td>\n",
       "      <td>0.85</td>\n",
       "      <td>0.22014</td>\n",
       "    </tr>\n",
       "  </tbody>\n",
       "</table>\n",
       "</div>"
      ],
      "text/plain": [
       "      name  cost  counts  avg_avg_rank  avg_win_rate  avg_top4_rate  \\\n",
       "0       직스     1       6          2.53          0.34           0.88   \n",
       "1     이즈리얼     1       7          3.01          0.27           0.77   \n",
       "3      신지드     1       5          3.03          0.28           0.76   \n",
       "4       잔나     4      17          2.86          0.28           0.81   \n",
       "5   블리츠크랭크     2       9          2.84          0.24           0.83   \n",
       "7       벡스     3       8          2.61          0.32           0.87   \n",
       "8      스웨인     2       6          2.73          0.30           0.85   \n",
       "9       타릭     3       9          2.73          0.29           0.84   \n",
       "10    카타리나     2       6          2.78          0.24           0.85   \n",
       "11      탈론     2       6          2.78          0.24           0.85   \n",
       "\n",
       "    utility_cost  \n",
       "0        0.70957  \n",
       "1        0.48349  \n",
       "3        0.35116  \n",
       "4        0.33703  \n",
       "5        0.31563  \n",
       "7        0.28444  \n",
       "8        0.28022  \n",
       "9        0.26769  \n",
       "10       0.22014  \n",
       "11       0.22014  "
      ]
     },
     "execution_count": 78,
     "metadata": {},
     "output_type": "execute_result"
    }
   ],
   "source": [
    "champions_df[champions_df['counts']>4].head(10)"
   ]
  },
  {
   "cell_type": "markdown",
   "id": "491cae7b",
   "metadata": {},
   "source": [
    "챔피언의 효용가치를 계산한 결과입니다.  \n",
    "챔피언의 기용횟수 평균인 4회보다 적은 챔피언들의 표본은 제외한 결과입니다.  \n",
    "가장 높은 효용가치를 가진 챔피언은 직스이고 0.71238의 가치를 갖습니다.   \n",
    "효용가치가 높은 챔피언들은 대부분 각 지표에서 평균보다 좋은 통계치를 갖는 것을 알 수 있습니다.  \n",
    "특이한 점은 '이즈리얼'챔피언은 전반적으로 평균 통계치들보다 낮지만 높은 효용가치를 갖고 있습니다.  \n",
    "효용가치 상위권에 '잔나'가 포함된 것으로 보아 '잔나' 챔피언의 가치는 굉장히 높은 것으로 보입니다.  \n",
    "4코스트 챔피언들을 많이 기용한 것에 비해 3코스트와 2코스트 챔피언의 효용가치가 높은 것으로 보이며 이는 4코스트 챔피언 중 실제 사용하는 챔피언의 수가 치우쳐져 있다고 생각할 수 있습니다."
   ]
  },
  {
   "cell_type": "markdown",
   "id": "ddbbd42a",
   "metadata": {},
   "source": [
    "## high deck and meta deck"
   ]
  },
  {
   "cell_type": "markdown",
   "id": "35f9fce4",
   "metadata": {
    "ExecuteTime": {
     "end_time": "2021-11-29T17:24:29.763486Z",
     "start_time": "2021-11-29T17:24:29.759555Z"
    }
   },
   "source": [
    "앞서 언급한 추천메타의 정보는 과연 상위권의 선택과 얼마나 일치할까를 확인할 것입니다.  "
   ]
  },
  {
   "cell_type": "code",
   "execution_count": 79,
   "id": "da779829",
   "metadata": {
    "ExecuteTime": {
     "end_time": "2021-11-29T18:42:11.895899Z",
     "start_time": "2021-11-29T18:42:11.891697Z"
    },
    "scrolled": true
   },
   "outputs": [],
   "source": [
    "meta_synergy = meta_deck_df['synergy'].values.tolist()\n",
    "meta_synergies = []\n",
    "\n",
    "for meta in meta_synergy:\n",
    "    tmp = [str(v)+' '+str(k) for k, v in meta.items()]\n",
    "    meta_synergies.append(tmp)\n",
    "    \n",
    "high_synergy = high_deck_df['synergy'].values.tolist()\n",
    "high_synergies = []\n",
    "\n",
    "for high in high_synergy:\n",
    "    tmp = [str(v)+' '+str(k) for k, v in high.items()]\n",
    "    high_synergies.append(tmp)"
   ]
  },
  {
   "cell_type": "code",
   "execution_count": 80,
   "id": "c8310b75",
   "metadata": {
    "ExecuteTime": {
     "end_time": "2021-11-29T18:42:11.908066Z",
     "start_time": "2021-11-29T18:42:11.897903Z"
    },
    "scrolled": true
   },
   "outputs": [],
   "source": [
    "cnt = 0\n",
    "exist = dict()\n",
    "for meta in meta_synergies:\n",
    "    for idx, high in enumerate(high_synergies):\n",
    "        if len(set(meta) - set(high)) == 0:\n",
    "            m = ', '.join(meta)\n",
    "            if m not in exist:\n",
    "                tmp = {\"win\":[], \"top4\":[], \"rank\":[]}\n",
    "                exist[m] = tmp\n",
    "            win, rank, top4 = high_deck_df.loc[idx][['win_rate','avg_rank','top4_rate']]\n",
    "            exist[m]['win'].append(win)\n",
    "            exist[m]['top4'].append(top4)\n",
    "            exist[m]['rank'].append(rank)\n",
    "\n",
    "            cnt+=1"
   ]
  },
  {
   "cell_type": "code",
   "execution_count": 81,
   "id": "a50f86a9",
   "metadata": {
    "ExecuteTime": {
     "end_time": "2021-11-29T18:42:11.913486Z",
     "start_time": "2021-11-29T18:42:11.910429Z"
    }
   },
   "outputs": [
    {
     "name": "stdout",
     "output_type": "stream",
     "text": [
      "추천 메타의 발전된 형태의 천상계 덱 수: 11\n",
      "추천 메타의 발전된 형태의 천상계 덱 수 비율: 0.61\n"
     ]
    }
   ],
   "source": [
    "print(f\"추천 메타의 발전된 형태의 천상계 덱 수: {cnt}\")\n",
    "print(f\"추천 메타의 발전된 형태의 천상계 덱 수 비율: {round(cnt/len(meta_deck_df),2)}\")"
   ]
  },
  {
   "cell_type": "markdown",
   "id": "35f55103",
   "metadata": {},
   "source": [
    "추천 메타에서 제공한 메타 중 약 67%가 상위권에서 응용한 덱으로 사용되는 것을 알 수 있습니다.  \n",
    "표본 자체가 많지 않은 상황에서 이 정도의 비율이 사용되면 충분히 높은 것으로 볼 수 있는 것으로 판단됩니다."
   ]
  },
  {
   "cell_type": "code",
   "execution_count": 82,
   "id": "35ddd34e",
   "metadata": {
    "ExecuteTime": {
     "end_time": "2021-11-29T18:42:11.982086Z",
     "start_time": "2021-11-29T18:42:11.915234Z"
    }
   },
   "outputs": [
    {
     "data": {
      "application/vnd.jupyter.widget-view+json": {
       "model_id": "f638340c95d84064b2c24219aaca25db",
       "version_major": 2,
       "version_minor": 0
      },
      "text/plain": [
       "  0%|          | 0/8 [00:00<?, ?it/s]"
      ]
     },
     "metadata": {},
     "output_type": "display_data"
    },
    {
     "data": {
      "application/vnd.jupyter.widget-view+json": {
       "model_id": "3c9cf8b1e59a43099b99773357dce0c3",
       "version_major": 2,
       "version_minor": 0
      },
      "text/plain": [
       "  0%|          | 0/8 [00:00<?, ?it/s]"
      ]
     },
     "metadata": {},
     "output_type": "display_data"
    },
    {
     "data": {
      "application/vnd.jupyter.widget-view+json": {
       "model_id": "727c0dc053d3461c9ef84d37adf99527",
       "version_major": 2,
       "version_minor": 0
      },
      "text/plain": [
       "  0%|          | 0/8 [00:00<?, ?it/s]"
      ]
     },
     "metadata": {},
     "output_type": "display_data"
    }
   ],
   "source": [
    "exist_df = pd.DataFrame(columns=['meta_name', 'win_rate', 'top4_rate', 'avg_rank'])\n",
    "exist_df['meta_name'] = exist.keys()\n",
    "exist_df['win_rate'] = exist_df['meta_name'].progress_apply(lambda x: round(np.mean(exist[x]['win']), 2))\n",
    "exist_df['top4_rate'] = exist_df['meta_name'].progress_apply(lambda x: round(np.mean(exist[x]['top4']), 2))\n",
    "exist_df['avg_rank'] = exist_df['meta_name'].progress_apply(lambda x: round(np.mean(exist[x]['rank']), 2))"
   ]
  },
  {
   "cell_type": "code",
   "execution_count": 83,
   "id": "3c36b2be",
   "metadata": {
    "ExecuteTime": {
     "end_time": "2021-11-29T18:42:11.986678Z",
     "start_time": "2021-11-29T18:42:11.983541Z"
    }
   },
   "outputs": [],
   "source": [
    "meta_deck_df['syn_name'] = meta_synergies\n",
    "meta_deck_df['syn_name'] = meta_deck_df['syn_name'].apply(lambda x: ', '.join(x))"
   ]
  },
  {
   "cell_type": "code",
   "execution_count": 84,
   "id": "20ff62cd",
   "metadata": {
    "ExecuteTime": {
     "end_time": "2021-11-29T18:42:11.995374Z",
     "start_time": "2021-11-29T18:42:11.988461Z"
    }
   },
   "outputs": [],
   "source": [
    "exist_df['name'] = exist_df['meta_name'].apply(lambda x: meta_deck_df[meta_deck_df['syn_name'] == x]['name'].values[0])"
   ]
  },
  {
   "cell_type": "code",
   "execution_count": 85,
   "id": "b0f90314",
   "metadata": {
    "ExecuteTime": {
     "end_time": "2021-11-29T18:42:12.005817Z",
     "start_time": "2021-11-29T18:42:11.997216Z"
    }
   },
   "outputs": [
    {
     "data": {
      "text/html": [
       "<div>\n",
       "<style scoped>\n",
       "    .dataframe tbody tr th:only-of-type {\n",
       "        vertical-align: middle;\n",
       "    }\n",
       "\n",
       "    .dataframe tbody tr th {\n",
       "        vertical-align: top;\n",
       "    }\n",
       "\n",
       "    .dataframe thead th {\n",
       "        text-align: right;\n",
       "    }\n",
       "</style>\n",
       "<table border=\"1\" class=\"dataframe\">\n",
       "  <thead>\n",
       "    <tr style=\"text-align: right;\">\n",
       "      <th></th>\n",
       "      <th>meta_name</th>\n",
       "      <th>win_rate</th>\n",
       "      <th>top4_rate</th>\n",
       "      <th>avg_rank</th>\n",
       "      <th>name</th>\n",
       "    </tr>\n",
       "  </thead>\n",
       "  <tbody>\n",
       "    <tr>\n",
       "      <th>0</th>\n",
       "      <td>6 비전 마법사, 1 포근, 2 아카데미, 2 고물상, 2 학자</td>\n",
       "      <td>30.17</td>\n",
       "      <td>84.13</td>\n",
       "      <td>2.74</td>\n",
       "      <td>비전마법사 럭스</td>\n",
       "    </tr>\n",
       "    <tr>\n",
       "      <th>1</th>\n",
       "      <td>2 자매, 1 대식가, 5 화학공학, 4 난동꾼, 2 쌍발총</td>\n",
       "      <td>41.80</td>\n",
       "      <td>92.80</td>\n",
       "      <td>2.17</td>\n",
       "      <td>난동꾼 우르곳</td>\n",
       "    </tr>\n",
       "    <tr>\n",
       "      <th>2</th>\n",
       "      <td>1 포근, 3 강화술사, 2 아카데미, 2 시계태엽, 2 경호대, 2 학자, 2 저...</td>\n",
       "      <td>16.70</td>\n",
       "      <td>67.30</td>\n",
       "      <td>3.62</td>\n",
       "      <td>진 브라움</td>\n",
       "    </tr>\n",
       "    <tr>\n",
       "      <th>3</th>\n",
       "      <td>6 고물상, 2 자매, 1 변형술사, 2 집행자, 2 난동꾼</td>\n",
       "      <td>22.20</td>\n",
       "      <td>79.30</td>\n",
       "      <td>3.00</td>\n",
       "      <td>6 고물상 트런들</td>\n",
       "    </tr>\n",
       "    <tr>\n",
       "      <th>4</th>\n",
       "      <td>5 돌연변이, 2 거신, 2 난동꾼, 1 사교계</td>\n",
       "      <td>16.20</td>\n",
       "      <td>57.60</td>\n",
       "      <td>4.07</td>\n",
       "      <td>돌연변이 초가스 말자하</td>\n",
       "    </tr>\n",
       "    <tr>\n",
       "      <th>5</th>\n",
       "      <td>3 봉쇄자, 3 돌연변이, 2 아카데미, 2 집행자, 2 쌍발총, 2 난동꾼, 2 저격수</td>\n",
       "      <td>24.00</td>\n",
       "      <td>81.20</td>\n",
       "      <td>2.97</td>\n",
       "      <td>가렌 코그모</td>\n",
       "    </tr>\n",
       "    <tr>\n",
       "      <th>6</th>\n",
       "      <td>6 암살자, 2 아카데미, 2 고물상, 2 경호대</td>\n",
       "      <td>21.40</td>\n",
       "      <td>78.70</td>\n",
       "      <td>3.07</td>\n",
       "      <td>6 암살자 카타리나</td>\n",
       "    </tr>\n",
       "    <tr>\n",
       "      <th>7</th>\n",
       "      <td>1 요들 군주, 6 요들, 2 고물상, 2 비전 마법사, 2 강화술사, 2 학자</td>\n",
       "      <td>38.30</td>\n",
       "      <td>92.75</td>\n",
       "      <td>2.26</td>\n",
       "      <td>요들군주 베이가</td>\n",
       "    </tr>\n",
       "  </tbody>\n",
       "</table>\n",
       "</div>"
      ],
      "text/plain": [
       "                                           meta_name  win_rate  top4_rate  \\\n",
       "0                6 비전 마법사, 1 포근, 2 아카데미, 2 고물상, 2 학자     30.17      84.13   \n",
       "1                  2 자매, 1 대식가, 5 화학공학, 4 난동꾼, 2 쌍발총     41.80      92.80   \n",
       "2  1 포근, 3 강화술사, 2 아카데미, 2 시계태엽, 2 경호대, 2 학자, 2 저...     16.70      67.30   \n",
       "3                  6 고물상, 2 자매, 1 변형술사, 2 집행자, 2 난동꾼     22.20      79.30   \n",
       "4                         5 돌연변이, 2 거신, 2 난동꾼, 1 사교계     16.20      57.60   \n",
       "5  3 봉쇄자, 3 돌연변이, 2 아카데미, 2 집행자, 2 쌍발총, 2 난동꾼, 2 저격수     24.00      81.20   \n",
       "6                        6 암살자, 2 아카데미, 2 고물상, 2 경호대     21.40      78.70   \n",
       "7       1 요들 군주, 6 요들, 2 고물상, 2 비전 마법사, 2 강화술사, 2 학자     38.30      92.75   \n",
       "\n",
       "   avg_rank          name  \n",
       "0      2.74      비전마법사 럭스  \n",
       "1      2.17       난동꾼 우르곳  \n",
       "2      3.62         진 브라움  \n",
       "3      3.00     6 고물상 트런들  \n",
       "4      4.07  돌연변이 초가스 말자하  \n",
       "5      2.97        가렌 코그모  \n",
       "6      3.07    6 암살자 카타리나  \n",
       "7      2.26      요들군주 베이가  "
      ]
     },
     "execution_count": 85,
     "metadata": {},
     "output_type": "execute_result"
    }
   ],
   "source": [
    "exist_df"
   ]
  },
  {
   "cell_type": "markdown",
   "id": "1c6ff798",
   "metadata": {},
   "source": [
    "추가로 천상계에서 사용된 추천메타 덱 리스트입니다.  \n",
    "가장 높은 승률을 보이는 덱은 '난동꾼 우르곳'입니다."
   ]
  },
  {
   "cell_type": "code",
   "execution_count": null,
   "id": "3e51e2b5",
   "metadata": {},
   "outputs": [],
   "source": []
  }
 ],
 "metadata": {
  "kernelspec": {
   "display_name": "Python 3",
   "language": "python",
   "name": "python3"
  },
  "language_info": {
   "codemirror_mode": {
    "name": "ipython",
    "version": 3
   },
   "file_extension": ".py",
   "mimetype": "text/x-python",
   "name": "python",
   "nbconvert_exporter": "python",
   "pygments_lexer": "ipython3",
   "version": "3.8.8"
  },
  "toc": {
   "base_numbering": 1,
   "nav_menu": {},
   "number_sections": true,
   "sideBar": true,
   "skip_h1_title": false,
   "title_cell": "Table of Contents",
   "title_sidebar": "Contents",
   "toc_cell": false,
   "toc_position": {
    "height": "calc(100% - 180px)",
    "left": "10px",
    "top": "150px",
    "width": "336px"
   },
   "toc_section_display": true,
   "toc_window_display": true
  },
  "varInspector": {
   "cols": {
    "lenName": 16,
    "lenType": 16,
    "lenVar": 40
   },
   "kernels_config": {
    "python": {
     "delete_cmd_postfix": "",
     "delete_cmd_prefix": "del ",
     "library": "var_list.py",
     "varRefreshCmd": "print(var_dic_list())"
    },
    "r": {
     "delete_cmd_postfix": ") ",
     "delete_cmd_prefix": "rm(",
     "library": "var_list.r",
     "varRefreshCmd": "cat(var_dic_list()) "
    }
   },
   "types_to_exclude": [
    "module",
    "function",
    "builtin_function_or_method",
    "instance",
    "_Feature"
   ],
   "window_display": false
  }
 },
 "nbformat": 4,
 "nbformat_minor": 5
}
