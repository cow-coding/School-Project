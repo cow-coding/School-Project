{
 "cells": [
  {
   "cell_type": "markdown",
   "metadata": {},
   "source": [
    "# Idea"
   ]
  },
  {
   "cell_type": "markdown",
   "metadata": {},
   "source": [
    "주어진 플레이리스트와 겹치는 곡을 가중치로 두고 플레이리스트에서 노래를 추천하는 User-based Collaborative Filtering을 진행합니다.  "
   ]
  },
  {
   "cell_type": "markdown",
   "metadata": {},
   "source": [
    "# Import Library"
   ]
  },
  {
   "cell_type": "code",
   "execution_count": 25,
   "metadata": {
    "ExecuteTime": {
     "end_time": "2021-12-06T02:02:36.392911Z",
     "start_time": "2021-12-06T02:02:36.389580Z"
    }
   },
   "outputs": [],
   "source": [
    "import os\n",
    "import pandas as pd\n",
    "import numpy as np\n",
    "\n",
    "import json\n",
    "import distutils.dir_util\n",
    "import io\n",
    "\n",
    "from tqdm.notebook import tqdm"
   ]
  },
  {
   "cell_type": "code",
   "execution_count": 26,
   "metadata": {
    "ExecuteTime": {
     "end_time": "2021-12-06T02:02:36.400461Z",
     "start_time": "2021-12-06T02:02:36.395377Z"
    }
   },
   "outputs": [],
   "source": [
    "path = '../'\n",
    "tqdm.pandas()"
   ]
  },
  {
   "cell_type": "code",
   "execution_count": 27,
   "metadata": {
    "ExecuteTime": {
     "end_time": "2021-12-06T02:02:36.412280Z",
     "start_time": "2021-12-06T02:02:36.408186Z"
    }
   },
   "outputs": [
    {
     "name": "stdout",
     "output_type": "stream",
     "text": [
      "All data in path\n",
      "['.DS_Store', 'Untitled.ipynb', 'results.json', 'arena_util.py', 'test.json', '__pycache__', 'train.json', '1.arena_output', '.ipynb_checkpoints', 'song_meta.json', 'genre_gn_all.json', 'val.json']\n"
     ]
    }
   ],
   "source": [
    "print(\"All data in path\")\n",
    "print(os.listdir(path))"
   ]
  },
  {
   "cell_type": "markdown",
   "metadata": {},
   "source": [
    "# Basic module"
   ]
  },
  {
   "cell_type": "code",
   "execution_count": 28,
   "metadata": {
    "ExecuteTime": {
     "end_time": "2021-12-06T02:02:36.419445Z",
     "start_time": "2021-12-06T02:02:36.415182Z"
    }
   },
   "outputs": [],
   "source": [
    "def write_json(data, fname):\n",
    "    def _conv(o):\n",
    "        if isinstance(o, np.int64) or isinstance(o, np.int32):\n",
    "            return int(o)\n",
    "        raise TypeError\n",
    "\n",
    "    parent = os.path.dirname(fname)\n",
    "    distutils.dir_util.mkpath(\"./arena_data/\" + parent)\n",
    "    with io.open(\"./arena_data/\" + fname, \"w\", encoding=\"utf8\") as f:\n",
    "        json_str = json.dumps(data, ensure_ascii=False, default=_conv)\n",
    "        f.write(json_str)\n",
    "        print('file save seuccess')"
   ]
  },
  {
   "cell_type": "markdown",
   "metadata": {},
   "source": [
    "# Data Load"
   ]
  },
  {
   "cell_type": "code",
   "execution_count": 29,
   "metadata": {
    "ExecuteTime": {
     "end_time": "2021-12-06T02:02:57.281556Z",
     "start_time": "2021-12-06T02:02:36.421473Z"
    }
   },
   "outputs": [],
   "source": [
    "song_meta = pd.read_json(path+'song_meta.json')\n",
    "train = pd.read_json(path+'train.json')\n",
    "val = pd.read_json(path+'val.json')"
   ]
  },
  {
   "cell_type": "markdown",
   "metadata": {},
   "source": [
    "# Data Preprocessing"
   ]
  },
  {
   "cell_type": "code",
   "execution_count": 30,
   "metadata": {
    "ExecuteTime": {
     "end_time": "2021-12-06T02:02:57.287183Z",
     "start_time": "2021-12-06T02:02:57.284275Z"
    }
   },
   "outputs": [],
   "source": [
    "from collections import Counter"
   ]
  },
  {
   "cell_type": "code",
   "execution_count": 31,
   "metadata": {
    "ExecuteTime": {
     "end_time": "2021-12-06T02:02:57.450821Z",
     "start_time": "2021-12-06T02:02:57.289511Z"
    }
   },
   "outputs": [],
   "source": [
    "train['istrain'] = 1\n",
    "val['istrain'] = 0\n",
    "\n",
    "n_train = len(train)\n",
    "n_val = len(val)\n",
    "\n",
    "data = pd.concat([train, val], ignore_index=True)\n",
    "data['nid'] = range(n_train+n_val)\n",
    "\n",
    "id_to_nid = dict(zip(data['id'], data['nid']))\n",
    "nid_to_id = dict(zip(data['nid'], data['id']))"
   ]
  },
  {
   "cell_type": "code",
   "execution_count": 32,
   "metadata": {
    "ExecuteTime": {
     "end_time": "2021-12-06T02:03:00.688954Z",
     "start_time": "2021-12-06T02:02:57.454524Z"
    }
   },
   "outputs": [],
   "source": [
    "song_in_data = [song for songs in data['songs'] for song in songs]\n",
    "song_counter = dict(Counter(song_in_data))\n",
    "\n",
    "song_to_sid = dict()\n",
    "sid_to_song = dict()\n",
    "\n",
    "for i, s in enumerate(song_counter):\n",
    "    song_to_sid[s] = i\n",
    "    sid_to_song[i] = s\n",
    "\n",
    "song_list = list(set(song_in_data))\n",
    "\n",
    "\n",
    "tag_in_data = [tag for tags in data['tags'] for tag in tags]\n",
    "tag_counter = dict(Counter(tag_in_data))\n",
    "\n",
    "tag_to_tid = dict()\n",
    "tid_to_tag = dict()\n",
    "\n",
    "for i, t in enumerate(tag_counter):\n",
    "    tag_to_tid[t] = i\n",
    "    tid_to_tag[i] = t\n",
    "\n",
    "tag_list = list(set(tag_in_data))"
   ]
  },
  {
   "cell_type": "code",
   "execution_count": 33,
   "metadata": {
    "ExecuteTime": {
     "end_time": "2021-12-06T02:03:05.585510Z",
     "start_time": "2021-12-06T02:03:00.692721Z"
    }
   },
   "outputs": [],
   "source": [
    "data['sid_list'] = data['songs'].map(lambda x: [song_to_sid[s] for s in x])\n",
    "data['tid_list'] = data['tags'].map(lambda x: [tag_to_tid[t] for t in x])"
   ]
  },
  {
   "cell_type": "code",
   "execution_count": 22,
   "metadata": {
    "ExecuteTime": {
     "end_time": "2021-12-06T02:01:52.626955Z",
     "start_time": "2021-12-06T02:01:52.524947Z"
    }
   },
   "outputs": [],
   "source": [
    "data = data[['nid', 'istrain', 'sid_list', 'tid_list', 'updt_date']]\n",
    "data = data.set_index('nid')"
   ]
  },
  {
   "cell_type": "code",
   "execution_count": 23,
   "metadata": {
    "ExecuteTime": {
     "end_time": "2021-12-06T02:01:52.711609Z",
     "start_time": "2021-12-06T02:01:52.629424Z"
    }
   },
   "outputs": [],
   "source": [
    "data['num_songs'] = data['sid_list'].map(len)\n",
    "data['num_tags'] = data['tid_list'].map(len)\n",
    "data_train = data.iloc[:n_train, :]\n",
    "data_test = data.iloc[n_train:, :]"
   ]
  },
  {
   "cell_type": "code",
   "execution_count": 34,
   "metadata": {
    "ExecuteTime": {
     "end_time": "2021-12-06T02:03:30.728608Z",
     "start_time": "2021-12-06T02:03:30.711032Z"
    }
   },
   "outputs": [
    {
     "data": {
      "text/html": [
       "<div>\n",
       "<style scoped>\n",
       "    .dataframe tbody tr th:only-of-type {\n",
       "        vertical-align: middle;\n",
       "    }\n",
       "\n",
       "    .dataframe tbody tr th {\n",
       "        vertical-align: top;\n",
       "    }\n",
       "\n",
       "    .dataframe thead th {\n",
       "        text-align: right;\n",
       "    }\n",
       "</style>\n",
       "<table border=\"1\" class=\"dataframe\">\n",
       "  <thead>\n",
       "    <tr style=\"text-align: right;\">\n",
       "      <th></th>\n",
       "      <th>tags</th>\n",
       "      <th>id</th>\n",
       "      <th>plylst_title</th>\n",
       "      <th>songs</th>\n",
       "      <th>like_cnt</th>\n",
       "      <th>updt_date</th>\n",
       "      <th>istrain</th>\n",
       "      <th>nid</th>\n",
       "      <th>sid_list</th>\n",
       "      <th>tid_list</th>\n",
       "    </tr>\n",
       "  </thead>\n",
       "  <tbody>\n",
       "    <tr>\n",
       "      <th>0</th>\n",
       "      <td>[락]</td>\n",
       "      <td>61281</td>\n",
       "      <td>여행같은 음악</td>\n",
       "      <td>[525514, 129701, 383374, 562083, 297861, 13954...</td>\n",
       "      <td>71</td>\n",
       "      <td>2013-12-19 18:36:19.000</td>\n",
       "      <td>1</td>\n",
       "      <td>0</td>\n",
       "      <td>[0, 1, 2, 3, 4, 5, 6, 7, 8, 9, 10, 11, 12, 13,...</td>\n",
       "      <td>[0]</td>\n",
       "    </tr>\n",
       "    <tr>\n",
       "      <th>1</th>\n",
       "      <td>[추억, 회상]</td>\n",
       "      <td>10532</td>\n",
       "      <td>요즘 너 말야</td>\n",
       "      <td>[432406, 675945, 497066, 120377, 389529, 24427...</td>\n",
       "      <td>1</td>\n",
       "      <td>2014-12-02 16:19:42.000</td>\n",
       "      <td>1</td>\n",
       "      <td>1</td>\n",
       "      <td>[19, 20, 21, 22, 23, 24, 25, 26, 27, 28, 29, 3...</td>\n",
       "      <td>[1, 2]</td>\n",
       "    </tr>\n",
       "    <tr>\n",
       "      <th>2</th>\n",
       "      <td>[까페, 잔잔한]</td>\n",
       "      <td>76951</td>\n",
       "      <td>편하게, 잔잔하게 들을 수 있는 곡.-</td>\n",
       "      <td>[83116, 276692, 166267, 186301, 354465, 256598...</td>\n",
       "      <td>17</td>\n",
       "      <td>2017-08-28 07:09:34.000</td>\n",
       "      <td>1</td>\n",
       "      <td>2</td>\n",
       "      <td>[61, 62, 63, 64, 65, 66, 67, 68, 69, 70, 71, 7...</td>\n",
       "      <td>[3, 4]</td>\n",
       "    </tr>\n",
       "    <tr>\n",
       "      <th>3</th>\n",
       "      <td>[연말, 눈오는날, 캐럴, 분위기, 따듯한, 크리스마스캐럴, 겨울노래, 크리스마스,...</td>\n",
       "      <td>147456</td>\n",
       "      <td>크리스마스 분위기에 흠뻑 취하고 싶을때</td>\n",
       "      <td>[394031, 195524, 540149, 287984, 440773, 10033...</td>\n",
       "      <td>33</td>\n",
       "      <td>2019-12-05 15:15:18.000</td>\n",
       "      <td>1</td>\n",
       "      <td>3</td>\n",
       "      <td>[89, 90, 91, 92, 93, 94, 95, 96, 97, 98, 99, 1...</td>\n",
       "      <td>[5, 6, 7, 8, 9, 10, 11, 12, 13, 14]</td>\n",
       "    </tr>\n",
       "    <tr>\n",
       "      <th>4</th>\n",
       "      <td>[댄스]</td>\n",
       "      <td>27616</td>\n",
       "      <td>추억의 노래 ㅋ</td>\n",
       "      <td>[159327, 553610, 5130, 645103, 294435, 100657,...</td>\n",
       "      <td>9</td>\n",
       "      <td>2011-10-25 13:54:56.000</td>\n",
       "      <td>1</td>\n",
       "      <td>4</td>\n",
       "      <td>[127, 128, 129, 130, 131, 132, 133, 134, 135, ...</td>\n",
       "      <td>[15]</td>\n",
       "    </tr>\n",
       "  </tbody>\n",
       "</table>\n",
       "</div>"
      ],
      "text/plain": [
       "                                                tags      id  \\\n",
       "0                                                [락]   61281   \n",
       "1                                           [추억, 회상]   10532   \n",
       "2                                          [까페, 잔잔한]   76951   \n",
       "3  [연말, 눈오는날, 캐럴, 분위기, 따듯한, 크리스마스캐럴, 겨울노래, 크리스마스,...  147456   \n",
       "4                                               [댄스]   27616   \n",
       "\n",
       "            plylst_title                                              songs  \\\n",
       "0                여행같은 음악  [525514, 129701, 383374, 562083, 297861, 13954...   \n",
       "1                요즘 너 말야  [432406, 675945, 497066, 120377, 389529, 24427...   \n",
       "2  편하게, 잔잔하게 들을 수 있는 곡.-  [83116, 276692, 166267, 186301, 354465, 256598...   \n",
       "3  크리스마스 분위기에 흠뻑 취하고 싶을때  [394031, 195524, 540149, 287984, 440773, 10033...   \n",
       "4               추억의 노래 ㅋ  [159327, 553610, 5130, 645103, 294435, 100657,...   \n",
       "\n",
       "   like_cnt                updt_date  istrain  nid  \\\n",
       "0        71  2013-12-19 18:36:19.000        1    0   \n",
       "1         1  2014-12-02 16:19:42.000        1    1   \n",
       "2        17  2017-08-28 07:09:34.000        1    2   \n",
       "3        33  2019-12-05 15:15:18.000        1    3   \n",
       "4         9  2011-10-25 13:54:56.000        1    4   \n",
       "\n",
       "                                            sid_list  \\\n",
       "0  [0, 1, 2, 3, 4, 5, 6, 7, 8, 9, 10, 11, 12, 13,...   \n",
       "1  [19, 20, 21, 22, 23, 24, 25, 26, 27, 28, 29, 3...   \n",
       "2  [61, 62, 63, 64, 65, 66, 67, 68, 69, 70, 71, 7...   \n",
       "3  [89, 90, 91, 92, 93, 94, 95, 96, 97, 98, 99, 1...   \n",
       "4  [127, 128, 129, 130, 131, 132, 133, 134, 135, ...   \n",
       "\n",
       "                              tid_list  \n",
       "0                                  [0]  \n",
       "1                               [1, 2]  \n",
       "2                               [3, 4]  \n",
       "3  [5, 6, 7, 8, 9, 10, 11, 12, 13, 14]  \n",
       "4                                 [15]  "
      ]
     },
     "execution_count": 34,
     "metadata": {},
     "output_type": "execute_result"
    }
   ],
   "source": [
    "data.head()"
   ]
  },
  {
   "cell_type": "markdown",
   "metadata": {},
   "source": [
    "## Make Sparse Matrix"
   ]
  },
  {
   "cell_type": "code",
   "execution_count": 213,
   "metadata": {},
   "outputs": [],
   "source": [
    "from scipy.sparse import csr_matrix"
   ]
  },
  {
   "cell_type": "code",
   "execution_count": 214,
   "metadata": {},
   "outputs": [],
   "source": [
    "n_songs = len(song_counter)\n",
    "n_tags = len(tag_counter)"
   ]
  },
  {
   "cell_type": "code",
   "execution_count": 224,
   "metadata": {},
   "outputs": [],
   "source": [
    "def make_sparse(data):\n",
    "    row = np.repeat(range(n_train), data['num_songs'])\n",
    "    col = [sid for songs in data['sid_list'] for sid in songs]\n",
    "    # (0, 1) --> 0번 playlist는 1번 노래를 갖고 있는 것\n",
    "    dat = np.repeat(1, data['num_songs'].sum())\n",
    "    songs_sparse = csr_matrix((dat, (row, col)), shape=(n_train, n_songs))\n",
    "    \n",
    "    row = np.repeat(range(n_train), data['num_tags'])\n",
    "    col = [tid for tags in data['tid_list'] for tid in tags]\n",
    "    dat = np.repeat(1, data['num_tags'].sum())\n",
    "    tags_sparse = csr_matrix((dat, (row, col)), shape=(n_train, n_tags))\n",
    "    \n",
    "    return songs_sparse, tags_sparse"
   ]
  },
  {
   "cell_type": "code",
   "execution_count": 225,
   "metadata": {},
   "outputs": [],
   "source": [
    "songs_sparse, tags_sparse = make_sparse(data_train)"
   ]
  },
  {
   "cell_type": "code",
   "execution_count": 230,
   "metadata": {},
   "outputs": [],
   "source": [
    "song_counter_df = pd.DataFrame(columns=['song', 'count'])\n",
    "song_counter_df['song'] = song_counter.keys()\n",
    "song_counter_df['count'] = song_counter.values()\n",
    "song_counter_df = song_counter_df.sort_values('count', ascending=False, ignore_index=True)"
   ]
  },
  {
   "cell_type": "code",
   "execution_count": 231,
   "metadata": {},
   "outputs": [],
   "source": [
    "tag_counter_df = pd.DataFrame(columns=['tag', 'count'])\n",
    "tag_counter_df['tag'] = tag_counter.keys()\n",
    "tag_counter_df['count'] = tag_counter.values()\n",
    "tag_counter_df = tag_counter_df.sort_values('count', ascending=False, ignore_index=True)"
   ]
  },
  {
   "cell_type": "code",
   "execution_count": 255,
   "metadata": {},
   "outputs": [],
   "source": [
    "songs_sparse_T = songs_sparse.T.tocsr()\n",
    "tags_sparse_T = tags_sparse.T.tocsr()"
   ]
  },
  {
   "cell_type": "code",
   "execution_count": 319,
   "metadata": {},
   "outputs": [],
   "source": [
    "def recoms(nids):\n",
    "    ret = []\n",
    "    count = 1\n",
    "    default_songs = list(song_counter_df[:100]['song'].values)\n",
    "    default_tags = list(tag_counter_df[:10]['tag'].values)\n",
    "    \n",
    "    for nid in tqdm(nids):\n",
    "        rec_songs_idx = []\n",
    "        rec_tags_idx = []\n",
    "        songs_exist = data_test.loc[nid, 'sid_list']\n",
    "        tags_exist = data_test.loc[nid, 'tid_list']\n",
    "        \n",
    "        if len(songs_exist) == 0:\n",
    "            rec_songs_idx = default_songs\n",
    "        else:\n",
    "            onehot = np.zeros(n_songs)\n",
    "            onehot[songs_exist] = 1\n",
    "        \n",
    "            inter_songs_count = songs_sparse.dot(onehot).reshape(-1)\n",
    "            cand_songs = songs_sparse_T.dot(inter_songs_count)\n",
    "            cand_songs_idx = cand_songs.reshape(-1).argsort()[-200:][::-1]\n",
    "            cand_songs_idx = cand_songs_idx[np.isin(cand_songs_idx, songs_exist) == False][:100]\n",
    "            \n",
    "            rec_songs_idx = [sid_to_song[sid] for sid in cand_songs_idx]\n",
    "        \n",
    "        if len(tags_exist) == 0:\n",
    "            rec_tags_idx = default_tags\n",
    "        else:\n",
    "            onehot = np.zeros(n_tags)\n",
    "            onehot[tags_exist] = 1\n",
    "            \n",
    "            inter_tag_count = tags_sparse.dot(onehot).reshape(-1)\n",
    "            cand_tags = tags_sparse_T.dot(inter_tag_count)\n",
    "            cand_tags_idx = cand_tags.reshape(-1).argsort()[-20:][::-1]\n",
    "            cand_tags_idx = cand_tags_idx[np.isin(cand_tags_idx, tags_exist) == False][:10]\n",
    "            \n",
    "            rec_tags_idx = [tid_to_tag[tid] for tid in cand_tags_idx]\n",
    "            \n",
    "        ret.append({\n",
    "            \"id\":nid_to_id[nid],\n",
    "            \"songs\":rec_songs_idx,\n",
    "            \"tags\":rec_tags_idx\n",
    "        })\n",
    "        \n",
    "        \n",
    "        \n",
    "    return ret"
   ]
  },
  {
   "cell_type": "code",
   "execution_count": 320,
   "metadata": {},
   "outputs": [
    {
     "data": {
      "application/vnd.jupyter.widget-view+json": {
       "model_id": "f1c0b19e43494208914692b67f236ee7",
       "version_major": 2,
       "version_minor": 0
      },
      "text/plain": [
       "  0%|          | 0/23015 [00:00<?, ?it/s]"
      ]
     },
     "metadata": {},
     "output_type": "display_data"
    }
   ],
   "source": [
    "answer = recoms(data_test.index)"
   ]
  },
  {
   "cell_type": "code",
   "execution_count": null,
   "metadata": {},
   "outputs": [],
   "source": [
    "write_json(answer, \"own_result/cf/results.json\")"
   ]
  },
  {
   "cell_type": "code",
   "execution_count": null,
   "metadata": {},
   "outputs": [],
   "source": []
  }
 ],
 "metadata": {
  "kernelspec": {
   "display_name": "Python 3",
   "language": "python",
   "name": "python3"
  },
  "language_info": {
   "codemirror_mode": {
    "name": "ipython",
    "version": 3
   },
   "file_extension": ".py",
   "mimetype": "text/x-python",
   "name": "python",
   "nbconvert_exporter": "python",
   "pygments_lexer": "ipython3",
   "version": "3.8.8"
  },
  "toc": {
   "base_numbering": 1,
   "nav_menu": {},
   "number_sections": true,
   "sideBar": true,
   "skip_h1_title": false,
   "title_cell": "Table of Contents",
   "title_sidebar": "Contents",
   "toc_cell": false,
   "toc_position": {},
   "toc_section_display": true,
   "toc_window_display": false
  },
  "varInspector": {
   "cols": {
    "lenName": 16,
    "lenType": 16,
    "lenVar": 40
   },
   "kernels_config": {
    "python": {
     "delete_cmd_postfix": "",
     "delete_cmd_prefix": "del ",
     "library": "var_list.py",
     "varRefreshCmd": "print(var_dic_list())"
    },
    "r": {
     "delete_cmd_postfix": ") ",
     "delete_cmd_prefix": "rm(",
     "library": "var_list.r",
     "varRefreshCmd": "cat(var_dic_list()) "
    }
   },
   "types_to_exclude": [
    "module",
    "function",
    "builtin_function_or_method",
    "instance",
    "_Feature"
   ],
   "window_display": false
  }
 },
 "nbformat": 4,
 "nbformat_minor": 4
}
